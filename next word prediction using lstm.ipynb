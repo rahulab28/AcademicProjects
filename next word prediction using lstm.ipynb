{
 "cells": [
  {
   "cell_type": "code",
   "execution_count": 1,
   "id": "7b50fc8c",
   "metadata": {},
   "outputs": [],
   "source": [
    "import numpy as np # for numerical mathematical calculatiion \n",
    "import tensorflow as tf \n",
    "from nltk.tokenize import RegexpTokenizer # regular expression tokenizer (condition based tokenization)\n",
    "from tensorflow.keras.models import Sequential # to stack one layer over other \n",
    "from tensorflow.keras.preprocessing.text import Tokenizer # using this we can have token/ words from a sequence of word\n",
    "from tensorflow.keras.preprocessing.sequence import pad_sequences # ensure equal length in a batch of sequence \n",
    "from tensorflow.keras.layers import Embedding,LSTM,Dense # embedding to convert word to vector, dense -> fully connected layer \n",
    "\n"
   ]
  },
  {
   "cell_type": "code",
   "execution_count": 2,
   "id": "c5c10a58",
   "metadata": {},
   "outputs": [],
   "source": [
    "# reading the data set i.e a text file so we have to use concept of file handling \n",
    "# with open(location,mode ) as file :\n",
    "with open (\"DataSet/Sherlock Holmes Dataset.txt\",'r',encoding='utf-8')as file :\n",
    "    text = file .read()# used to read the file from the given path \n"
   ]
  },
  {
   "cell_type": "code",
   "execution_count": 17,
   "id": "6b2b427d",
   "metadata": {},
   "outputs": [
    {
     "name": "stdout",
     "output_type": "stream",
     "text": [
      "length of the corpus : 610871\n"
     ]
    }
   ],
   "source": [
    "print(f\"length of the corpus : {len(text)}\")"
   ]
  },
  {
   "cell_type": "code",
   "execution_count": 18,
   "id": "ac116ef3",
   "metadata": {},
   "outputs": [
    {
     "name": "stdout",
     "output_type": "stream",
     "text": [
      "total number of distinct word in the sequence : 8200\n"
     ]
    }
   ],
   "source": [
    "# tokenizing text to create sequence of word \n",
    "tokenize = Tokenizer()\n",
    "tokenize.fit_on_texts([text])\n",
    "# counting total number of words in the sequence \n",
    "total_word=len(tokenize.word_index)+1\n",
    "print(f\"total number of distinct word in the sequence : {total_word}\")"
   ]
  },
  {
   "cell_type": "code",
   "execution_count": 23,
   "id": "79e8596d",
   "metadata": {},
   "outputs": [
    {
     "name": "stdout",
     "output_type": "stream",
     "text": [
      " printing 5 sequence from the list input sequence \n",
      "--------------------------------------------------\n",
      "[[1, 1561, 5], [1, 1561, 5, 129], [1, 1561, 5, 129, 34], [647, 4498], [647, 4498, 4499]]\n"
     ]
    }
   ],
   "source": [
    "input_sequences = []\n",
    "for line in text.split('\\n'):\n",
    "    token_list = tokenize.texts_to_sequences([line])[0]\n",
    "    for i in range(1,len(token_list)):\n",
    "        n_gram_sequence = token_list[:i+1]\n",
    "        input_sequences.append(n_gram_sequence)\n",
    "        \n",
    "print(f\" printing 5 sequence from the list input sequence \")\n",
    "print('-'*50)\n",
    "print([input_sequences[i] for i in range (1,6)])"
   ]
  },
  {
   "cell_type": "code",
   "execution_count": 24,
   "id": "8f3b41d0",
   "metadata": {},
   "outputs": [
    {
     "name": "stdout",
     "output_type": "stream",
     "text": [
      "maximum length of the sequence that is there in input seq : 18\n"
     ]
    }
   ],
   "source": [
    "# computing max length of the sequence \n",
    "max_len_seq = max([len(seq) for seq in input_sequences])\n",
    "print(f\"maximum length of the sequence that is there in input seq : {max_len_seq}\")"
   ]
  },
  {
   "cell_type": "code",
   "execution_count": 25,
   "id": "a76b0846",
   "metadata": {},
   "outputs": [],
   "source": [
    "# now our next task is to make all these seq to equal length and we can achieve this by using pad_seq function \n",
    "input_sequences=np.array(pad_sequences(input_sequences,maxlen=max_len_seq,padding='pre'))"
   ]
  },
  {
   "cell_type": "code",
   "execution_count": 26,
   "id": "e343b3e1",
   "metadata": {},
   "outputs": [],
   "source": [
    "#splitting data to x and y array that is being used for training lstm model  \n",
    "X = input_sequences[:, :-1]# contain all the columns except last \n",
    "y = input_sequences[:, -1] # it contain last column "
   ]
  },
  {
   "cell_type": "code",
   "execution_count": 27,
   "id": "bed06648",
   "metadata": {},
   "outputs": [],
   "source": [
    "y = np.array(tf.keras.utils.to_categorical(y,num_classes=total_word))"
   ]
  },
  {
   "cell_type": "code",
   "execution_count": 30,
   "id": "e5affa23",
   "metadata": {},
   "outputs": [
    {
     "name": "stdout",
     "output_type": "stream",
     "text": [
      "Model: \"sequential_1\"\n",
      "_________________________________________________________________\n",
      " Layer (type)                Output Shape              Param #   \n",
      "=================================================================\n",
      " embedding_1 (Embedding)     (None, 17, 120)           984000    \n",
      "                                                                 \n",
      " lstm_1 (LSTM)               (None, 150)               162600    \n",
      "                                                                 \n",
      " dense_1 (Dense)             (None, 8200)              1238200   \n",
      "                                                                 \n",
      "=================================================================\n",
      "Total params: 2384800 (9.10 MB)\n",
      "Trainable params: 2384800 (9.10 MB)\n",
      "Non-trainable params: 0 (0.00 Byte)\n",
      "_________________________________________________________________\n",
      "None\n"
     ]
    }
   ],
   "source": [
    "# building the model \n",
    "model= Sequential() # stacking one layer over other \n",
    "model.add(Embedding(total_word,120,input_length=max_len_seq-1)) # 150 dim of word embedding # max length -1 because \n",
    "# we will be predicting next word based on the previous words \n",
    "model.add(LSTM(150)) # 200 neurons in lstm layer to capture short long dependencies \n",
    "model.add(Dense(total_word,activation='softmax')) # output layer -> softmax because multi class classification problem\n",
    "print(model.summary())"
   ]
  },
  {
   "cell_type": "code",
   "execution_count": 32,
   "id": "81d0607b",
   "metadata": {},
   "outputs": [
    {
     "name": "stdout",
     "output_type": "stream",
     "text": [
      "Epoch 1/50\n",
      "3010/3010 [==============================] - 126s 40ms/step - loss: 6.2454 - accuracy: 0.0756\n",
      "Epoch 2/50\n",
      "3010/3010 [==============================] - 130s 43ms/step - loss: 5.5254 - accuracy: 0.1234\n",
      "Epoch 3/50\n",
      "3010/3010 [==============================] - 127s 42ms/step - loss: 5.1243 - accuracy: 0.1480\n",
      "Epoch 4/50\n",
      "3010/3010 [==============================] - 123s 41ms/step - loss: 4.7781 - accuracy: 0.1664\n",
      "Epoch 5/50\n",
      "3010/3010 [==============================] - 134s 44ms/step - loss: 4.4585 - accuracy: 0.1856\n",
      "Epoch 6/50\n",
      "3010/3010 [==============================] - 130s 43ms/step - loss: 4.1582 - accuracy: 0.2074\n",
      "Epoch 7/50\n",
      "3010/3010 [==============================] - 129s 43ms/step - loss: 3.8726 - accuracy: 0.2364\n",
      "Epoch 8/50\n",
      "3010/3010 [==============================] - 133s 44ms/step - loss: 3.5996 - accuracy: 0.2704\n",
      "Epoch 9/50\n",
      "3010/3010 [==============================] - 130s 43ms/step - loss: 3.3453 - accuracy: 0.3050\n",
      "Epoch 10/50\n",
      "3010/3010 [==============================] - 124s 41ms/step - loss: 3.1095 - accuracy: 0.3444\n",
      "Epoch 11/50\n",
      "3010/3010 [==============================] - 117s 39ms/step - loss: 2.8937 - accuracy: 0.3808\n",
      "Epoch 12/50\n",
      "3010/3010 [==============================] - 119s 39ms/step - loss: 2.6942 - accuracy: 0.4161\n",
      "Epoch 13/50\n",
      "3010/3010 [==============================] - 113s 38ms/step - loss: 2.5097 - accuracy: 0.4526\n",
      "Epoch 14/50\n",
      "3010/3010 [==============================] - 114s 38ms/step - loss: 2.3430 - accuracy: 0.4848\n",
      "Epoch 15/50\n",
      "3010/3010 [==============================] - 118s 39ms/step - loss: 2.1881 - accuracy: 0.5173\n",
      "Epoch 16/50\n",
      "3010/3010 [==============================] - 120s 40ms/step - loss: 2.0487 - accuracy: 0.5460\n",
      "Epoch 17/50\n",
      "3010/3010 [==============================] - 117s 39ms/step - loss: 1.9200 - accuracy: 0.5725\n",
      "Epoch 18/50\n",
      "3010/3010 [==============================] - 119s 39ms/step - loss: 1.8049 - accuracy: 0.5974\n",
      "Epoch 19/50\n",
      "3010/3010 [==============================] - 136s 45ms/step - loss: 1.6966 - accuracy: 0.6212\n",
      "Epoch 20/50\n",
      "3010/3010 [==============================] - 122s 41ms/step - loss: 1.6002 - accuracy: 0.6406\n",
      "Epoch 21/50\n",
      "3010/3010 [==============================] - 126s 42ms/step - loss: 1.5095 - accuracy: 0.6614\n",
      "Epoch 22/50\n",
      "3010/3010 [==============================] - 132s 44ms/step - loss: 1.4307 - accuracy: 0.6778\n",
      "Epoch 23/50\n",
      "3010/3010 [==============================] - 133s 44ms/step - loss: 1.3526 - accuracy: 0.6958\n",
      "Epoch 24/50\n",
      "3010/3010 [==============================] - 132s 44ms/step - loss: 1.2881 - accuracy: 0.7101\n",
      "Epoch 25/50\n",
      "3010/3010 [==============================] - 132s 44ms/step - loss: 1.2228 - accuracy: 0.7229\n",
      "Epoch 26/50\n",
      "3010/3010 [==============================] - 131s 43ms/step - loss: 1.1668 - accuracy: 0.7365\n",
      "Epoch 27/50\n",
      "3010/3010 [==============================] - 135s 45ms/step - loss: 1.1140 - accuracy: 0.7469\n",
      "Epoch 28/50\n",
      "3010/3010 [==============================] - 132s 44ms/step - loss: 1.0672 - accuracy: 0.7571\n",
      "Epoch 29/50\n",
      "3010/3010 [==============================] - 134s 45ms/step - loss: 1.0211 - accuracy: 0.7674\n",
      "Epoch 30/50\n",
      "3010/3010 [==============================] - 134s 44ms/step - loss: 0.9806 - accuracy: 0.7765\n",
      "Epoch 31/50\n",
      "3010/3010 [==============================] - 134s 44ms/step - loss: 0.9447 - accuracy: 0.7846\n",
      "Epoch 32/50\n",
      "3010/3010 [==============================] - 132s 44ms/step - loss: 0.9105 - accuracy: 0.7923\n",
      "Epoch 33/50\n",
      "3010/3010 [==============================] - 124s 41ms/step - loss: 0.8785 - accuracy: 0.7983\n",
      "Epoch 34/50\n",
      "3010/3010 [==============================] - 117s 39ms/step - loss: 0.8499 - accuracy: 0.8054\n",
      "Epoch 35/50\n",
      "3010/3010 [==============================] - 123s 41ms/step - loss: 0.8227 - accuracy: 0.8103\n",
      "Epoch 36/50\n",
      "3010/3010 [==============================] - 133s 44ms/step - loss: 0.7986 - accuracy: 0.8154\n",
      "Epoch 37/50\n",
      "3010/3010 [==============================] - 132s 44ms/step - loss: 0.7754 - accuracy: 0.8204\n",
      "Epoch 38/50\n",
      "3010/3010 [==============================] - 133s 44ms/step - loss: 0.7546 - accuracy: 0.8250\n",
      "Epoch 39/50\n",
      "3010/3010 [==============================] - 131s 43ms/step - loss: 0.7381 - accuracy: 0.8275\n",
      "Epoch 40/50\n",
      "3010/3010 [==============================] - 132s 44ms/step - loss: 0.7188 - accuracy: 0.8324\n",
      "Epoch 41/50\n",
      "3010/3010 [==============================] - 135s 45ms/step - loss: 0.7045 - accuracy: 0.8345\n",
      "Epoch 42/50\n",
      "3010/3010 [==============================] - 133s 44ms/step - loss: 0.6879 - accuracy: 0.8384\n",
      "Epoch 43/50\n",
      "3010/3010 [==============================] - 134s 45ms/step - loss: 0.6765 - accuracy: 0.8406\n",
      "Epoch 44/50\n",
      "3010/3010 [==============================] - 133s 44ms/step - loss: 0.6607 - accuracy: 0.8443\n",
      "Epoch 45/50\n",
      "3010/3010 [==============================] - 130s 43ms/step - loss: 0.6502 - accuracy: 0.8466\n",
      "Epoch 46/50\n",
      "3010/3010 [==============================] - 130s 43ms/step - loss: 0.6408 - accuracy: 0.8476\n",
      "Epoch 47/50\n",
      "3010/3010 [==============================] - 132s 44ms/step - loss: 0.6296 - accuracy: 0.8501\n",
      "Epoch 48/50\n",
      "3010/3010 [==============================] - 134s 44ms/step - loss: 0.6202 - accuracy: 0.8517\n",
      "Epoch 49/50\n",
      "3010/3010 [==============================] - 133s 44ms/step - loss: 0.6152 - accuracy: 0.8522\n",
      "Epoch 50/50\n",
      "3010/3010 [==============================] - 134s 44ms/step - loss: 0.6015 - accuracy: 0.8557\n"
     ]
    }
   ],
   "source": [
    "model.compile(loss='categorical_crossentropy', optimizer='adam', metrics=['accuracy'])\n",
    "result = model.fit(X, y, epochs=50, verbose=1)"
   ]
  },
  {
   "cell_type": "code",
   "execution_count": 40,
   "id": "c453ce08",
   "metadata": {},
   "outputs": [
    {
     "name": "stdout",
     "output_type": "stream",
     "text": [
      "1/1 [==============================] - 0s 31ms/step\n",
      "1/1 [==============================] - 0s 48ms/step\n",
      "1/1 [==============================] - 0s 66ms/step\n",
      "i will leave if they come to night\n"
     ]
    }
   ],
   "source": [
    "seed_text = \"i will leave if they\"\n",
    "next_words = 3\n",
    "\n",
    "for _ in range(next_words):\n",
    "    token_list = tokenize.texts_to_sequences([seed_text])[0]\n",
    "    token_list = pad_sequences([token_list], maxlen=max_len_seq-1, padding='pre')\n",
    "    predicted = np.argmax(model.predict(token_list), axis=-1)\n",
    "    output_word = \"\"\n",
    "    for word, index in tokenize.word_index.items():\n",
    "        if index == predicted:\n",
    "            output_word = word\n",
    "            break\n",
    "    seed_text += \" \" + output_word\n",
    "\n",
    "print(seed_text)"
   ]
  },
  {
   "cell_type": "code",
   "execution_count": null,
   "id": "bcac479e",
   "metadata": {},
   "outputs": [],
   "source": []
  }
 ],
 "metadata": {
  "kernelspec": {
   "display_name": "Python 3 (ipykernel)",
   "language": "python",
   "name": "python3"
  },
  "language_info": {
   "codemirror_mode": {
    "name": "ipython",
    "version": 3
   },
   "file_extension": ".py",
   "mimetype": "text/x-python",
   "name": "python",
   "nbconvert_exporter": "python",
   "pygments_lexer": "ipython3",
   "version": "3.11.4"
  }
 },
 "nbformat": 4,
 "nbformat_minor": 5
}
