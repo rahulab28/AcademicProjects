{
 "cells": [
  {
   "cell_type": "code",
   "execution_count": 1,
   "id": "7b2e19b0",
   "metadata": {
    "_cell_guid": "b1076dfc-b9ad-4769-8c92-a6c4dae69d19",
    "_uuid": "8f2839f25d086af736a60e9eeb907d3b93b6e0e5",
    "execution": {
     "iopub.execute_input": "2022-01-18T05:35:35.755801Z",
     "iopub.status.busy": "2022-01-18T05:35:35.754770Z",
     "iopub.status.idle": "2022-01-18T05:35:35.758274Z",
     "shell.execute_reply": "2022-01-18T05:35:35.757713Z",
     "shell.execute_reply.started": "2022-01-18T05:01:23.045622Z"
    },
    "papermill": {
     "duration": 0.038434,
     "end_time": "2022-01-18T05:35:35.758515",
     "exception": false,
     "start_time": "2022-01-18T05:35:35.720081",
     "status": "completed"
    },
    "tags": []
   },
   "outputs": [],
   "source": [
    "# This Python 3 environment comes with many helpful analytics libraries installed\n",
    "# It is defined by the kaggle/python Docker image: https://github.com/kaggle/docker-python\n",
    "# For example, here's several helpful packages to load\n",
    "\n",
    "import numpy as np # linear algebra\n",
    "import pandas as pd # data processing, CSV file I/O (e.g. pd.read_csv)\n",
    "\n",
    "# Input data files are available in the read-only \"../input/\" directory\n",
    "# For example, running this (by clicking run or pressing Shift+Enter) will list all files under the input directory\n",
    "\n",
    "import os\n",
    "#for dirname, _, filenames in os.walk('/kaggle/input'):\n",
    "    #for filename in filenames:\n",
    "        #print(os.path.join(dirname, filename))\n",
    "\n",
    "# You can write up to 20GB to the current directory (/kaggle/working/) that gets preserved as output when you create a version using \"Save & Run All\" \n",
    "# You can also write temporary files to /kaggle/temp/, but they won't be saved outside of the current session"
   ]
  },
  {
   "cell_type": "code",
   "execution_count": 2,
   "id": "47f79d3d",
   "metadata": {
    "collapsed": true,
    "execution": {
     "iopub.execute_input": "2022-01-18T05:35:35.803405Z",
     "iopub.status.busy": "2022-01-18T05:35:35.799089Z",
     "iopub.status.idle": "2022-01-18T05:35:46.392027Z",
     "shell.execute_reply": "2022-01-18T05:35:46.392715Z",
     "shell.execute_reply.started": "2022-01-17T12:29:01.392714Z"
    },
    "jupyter": {
     "outputs_hidden": true
    },
    "papermill": {
     "duration": 10.616044,
     "end_time": "2022-01-18T05:35:46.392876",
     "exception": false,
     "start_time": "2022-01-18T05:35:35.776832",
     "status": "completed"
    },
    "tags": []
   },
   "outputs": [
    {
     "name": "stdout",
     "output_type": "stream",
     "text": [
      "Requirement already satisfied: ipython[notebook] in /opt/conda/lib/python3.7/site-packages (7.29.0)\r\n",
      "Collecting ipython[notebook]\r\n",
      "  Downloading ipython-7.31.0-py3-none-any.whl (792 kB)\r\n",
      "     |████████████████████████████████| 792 kB 4.1 MB/s            \r\n",
      "\u001b[?25hRequirement already satisfied: jedi>=0.16 in /opt/conda/lib/python3.7/site-packages (from ipython[notebook]) (0.18.1)\r\n",
      "Requirement already satisfied: prompt-toolkit!=3.0.0,!=3.0.1,<3.1.0,>=2.0.0 in /opt/conda/lib/python3.7/site-packages (from ipython[notebook]) (3.0.22)\r\n",
      "Requirement already satisfied: decorator in /opt/conda/lib/python3.7/site-packages (from ipython[notebook]) (5.1.0)\r\n",
      "Requirement already satisfied: backcall in /opt/conda/lib/python3.7/site-packages (from ipython[notebook]) (0.2.0)\r\n",
      "Requirement already satisfied: pygments in /opt/conda/lib/python3.7/site-packages (from ipython[notebook]) (2.10.0)\r\n",
      "Requirement already satisfied: pexpect>4.3 in /opt/conda/lib/python3.7/site-packages (from ipython[notebook]) (4.8.0)\r\n",
      "Requirement already satisfied: setuptools>=18.5 in /opt/conda/lib/python3.7/site-packages (from ipython[notebook]) (59.1.1)\r\n",
      "Requirement already satisfied: pickleshare in /opt/conda/lib/python3.7/site-packages (from ipython[notebook]) (0.7.5)\r\n",
      "Requirement already satisfied: matplotlib-inline in /opt/conda/lib/python3.7/site-packages (from ipython[notebook]) (0.1.3)\r\n",
      "Requirement already satisfied: traitlets>=4.2 in /opt/conda/lib/python3.7/site-packages (from ipython[notebook]) (5.1.1)\r\n",
      "Requirement already satisfied: notebook in /opt/conda/lib/python3.7/site-packages (from ipython[notebook]) (6.4.6)\r\n",
      "Requirement already satisfied: ipywidgets in /opt/conda/lib/python3.7/site-packages (from ipython[notebook]) (7.6.5)\r\n",
      "Requirement already satisfied: parso<0.9.0,>=0.8.0 in /opt/conda/lib/python3.7/site-packages (from jedi>=0.16->ipython[notebook]) (0.8.2)\r\n",
      "Requirement already satisfied: ptyprocess>=0.5 in /opt/conda/lib/python3.7/site-packages (from pexpect>4.3->ipython[notebook]) (0.7.0)\r\n",
      "Requirement already satisfied: wcwidth in /opt/conda/lib/python3.7/site-packages (from prompt-toolkit!=3.0.0,!=3.0.1,<3.1.0,>=2.0.0->ipython[notebook]) (0.2.5)\r\n",
      "Requirement already satisfied: widgetsnbextension~=3.5.0 in /opt/conda/lib/python3.7/site-packages (from ipywidgets->ipython[notebook]) (3.5.2)\r\n",
      "Requirement already satisfied: ipykernel>=4.5.1 in /opt/conda/lib/python3.7/site-packages (from ipywidgets->ipython[notebook]) (6.5.0)\r\n",
      "Requirement already satisfied: jupyterlab-widgets>=1.0.0 in /opt/conda/lib/python3.7/site-packages (from ipywidgets->ipython[notebook]) (1.0.2)\r\n",
      "Requirement already satisfied: nbformat>=4.2.0 in /opt/conda/lib/python3.7/site-packages (from ipywidgets->ipython[notebook]) (5.1.3)\r\n",
      "Requirement already satisfied: ipython-genutils~=0.2.0 in /opt/conda/lib/python3.7/site-packages (from ipywidgets->ipython[notebook]) (0.2.0)\r\n",
      "Requirement already satisfied: terminado>=0.8.3 in /opt/conda/lib/python3.7/site-packages (from notebook->ipython[notebook]) (0.12.1)\r\n",
      "Requirement already satisfied: argon2-cffi in /opt/conda/lib/python3.7/site-packages (from notebook->ipython[notebook]) (21.1.0)\r\n",
      "Requirement already satisfied: tornado>=6.1 in /opt/conda/lib/python3.7/site-packages (from notebook->ipython[notebook]) (6.1)\r\n",
      "Requirement already satisfied: jupyter-core>=4.6.1 in /opt/conda/lib/python3.7/site-packages (from notebook->ipython[notebook]) (4.9.1)\r\n",
      "Requirement already satisfied: nbconvert in /opt/conda/lib/python3.7/site-packages (from notebook->ipython[notebook]) (6.3.0)\r\n",
      "Requirement already satisfied: Send2Trash>=1.8.0 in /opt/conda/lib/python3.7/site-packages (from notebook->ipython[notebook]) (1.8.0)\r\n",
      "Requirement already satisfied: jinja2 in /opt/conda/lib/python3.7/site-packages (from notebook->ipython[notebook]) (3.0.3)\r\n",
      "Requirement already satisfied: pyzmq>=17 in /opt/conda/lib/python3.7/site-packages (from notebook->ipython[notebook]) (22.3.0)\r\n",
      "Requirement already satisfied: nest-asyncio>=1.5 in /opt/conda/lib/python3.7/site-packages (from notebook->ipython[notebook]) (1.5.1)\r\n",
      "Requirement already satisfied: prometheus-client in /opt/conda/lib/python3.7/site-packages (from notebook->ipython[notebook]) (0.12.0)\r\n",
      "Requirement already satisfied: jupyter-client>=5.3.4 in /opt/conda/lib/python3.7/site-packages (from notebook->ipython[notebook]) (7.0.6)\r\n",
      "Requirement already satisfied: argcomplete>=1.12.3 in /opt/conda/lib/python3.7/site-packages (from ipykernel>=4.5.1->ipywidgets->ipython[notebook]) (1.12.3)\r\n",
      "Requirement already satisfied: debugpy<2.0,>=1.0.0 in /opt/conda/lib/python3.7/site-packages (from ipykernel>=4.5.1->ipywidgets->ipython[notebook]) (1.5.1)\r\n",
      "Requirement already satisfied: importlib-metadata<5 in /opt/conda/lib/python3.7/site-packages (from ipykernel>=4.5.1->ipywidgets->ipython[notebook]) (4.8.2)\r\n",
      "Requirement already satisfied: entrypoints in /opt/conda/lib/python3.7/site-packages (from jupyter-client>=5.3.4->notebook->ipython[notebook]) (0.3)\r\n",
      "Requirement already satisfied: python-dateutil>=2.1 in /opt/conda/lib/python3.7/site-packages (from jupyter-client>=5.3.4->notebook->ipython[notebook]) (2.8.0)\r\n",
      "Requirement already satisfied: jsonschema!=2.5.0,>=2.4 in /opt/conda/lib/python3.7/site-packages (from nbformat>=4.2.0->ipywidgets->ipython[notebook]) (3.2.0)\r\n",
      "Requirement already satisfied: cffi>=1.0.0 in /opt/conda/lib/python3.7/site-packages (from argon2-cffi->notebook->ipython[notebook]) (1.15.0)\r\n",
      "Requirement already satisfied: MarkupSafe>=2.0 in /opt/conda/lib/python3.7/site-packages (from jinja2->notebook->ipython[notebook]) (2.0.1)\r\n",
      "Requirement already satisfied: jupyterlab-pygments in /opt/conda/lib/python3.7/site-packages (from nbconvert->notebook->ipython[notebook]) (0.1.2)\r\n",
      "Requirement already satisfied: testpath in /opt/conda/lib/python3.7/site-packages (from nbconvert->notebook->ipython[notebook]) (0.5.0)\r\n",
      "Requirement already satisfied: bleach in /opt/conda/lib/python3.7/site-packages (from nbconvert->notebook->ipython[notebook]) (4.1.0)\r\n",
      "Requirement already satisfied: pandocfilters>=1.4.1 in /opt/conda/lib/python3.7/site-packages (from nbconvert->notebook->ipython[notebook]) (1.5.0)\r\n",
      "Requirement already satisfied: mistune<2,>=0.8.1 in /opt/conda/lib/python3.7/site-packages (from nbconvert->notebook->ipython[notebook]) (0.8.4)\r\n",
      "Requirement already satisfied: nbclient<0.6.0,>=0.5.0 in /opt/conda/lib/python3.7/site-packages (from nbconvert->notebook->ipython[notebook]) (0.5.8)\r\n",
      "Requirement already satisfied: defusedxml in /opt/conda/lib/python3.7/site-packages (from nbconvert->notebook->ipython[notebook]) (0.7.1)\r\n",
      "Requirement already satisfied: pycparser in /opt/conda/lib/python3.7/site-packages (from cffi>=1.0.0->argon2-cffi->notebook->ipython[notebook]) (2.21)\r\n",
      "Requirement already satisfied: typing-extensions>=3.6.4 in /opt/conda/lib/python3.7/site-packages (from importlib-metadata<5->ipykernel>=4.5.1->ipywidgets->ipython[notebook]) (3.10.0.2)\r\n",
      "Requirement already satisfied: zipp>=0.5 in /opt/conda/lib/python3.7/site-packages (from importlib-metadata<5->ipykernel>=4.5.1->ipywidgets->ipython[notebook]) (3.6.0)\r\n",
      "Requirement already satisfied: attrs>=17.4.0 in /opt/conda/lib/python3.7/site-packages (from jsonschema!=2.5.0,>=2.4->nbformat>=4.2.0->ipywidgets->ipython[notebook]) (21.2.0)\r\n",
      "Requirement already satisfied: six>=1.11.0 in /opt/conda/lib/python3.7/site-packages (from jsonschema!=2.5.0,>=2.4->nbformat>=4.2.0->ipywidgets->ipython[notebook]) (1.16.0)\r\n",
      "Requirement already satisfied: pyrsistent>=0.14.0 in /opt/conda/lib/python3.7/site-packages (from jsonschema!=2.5.0,>=2.4->nbformat>=4.2.0->ipywidgets->ipython[notebook]) (0.18.0)\r\n",
      "Requirement already satisfied: packaging in /opt/conda/lib/python3.7/site-packages (from bleach->nbconvert->notebook->ipython[notebook]) (21.0)\r\n",
      "Requirement already satisfied: webencodings in /opt/conda/lib/python3.7/site-packages (from bleach->nbconvert->notebook->ipython[notebook]) (0.5.1)\r\n",
      "Requirement already satisfied: pyparsing>=2.0.2 in /opt/conda/lib/python3.7/site-packages (from packaging->bleach->nbconvert->notebook->ipython[notebook]) (3.0.6)\r\n",
      "Installing collected packages: ipython\r\n",
      "  Attempting uninstall: ipython\r\n",
      "    Found existing installation: ipython 7.29.0\r\n",
      "    Uninstalling ipython-7.29.0:\r\n",
      "      Successfully uninstalled ipython-7.29.0\r\n",
      "\u001b[31mERROR: pip's dependency resolver does not currently take into account all the packages that are installed. This behaviour is the source of the following dependency conflicts.\r\n",
      "explainable-ai-sdk 1.3.2 requires xai-image-widget, which is not installed.\r\n",
      "beatrix-jupyterlab 3.1.4 requires google-cloud-bigquery-storage, which is not installed.\u001b[0m\r\n",
      "Successfully installed ipython-7.31.0\r\n",
      "\u001b[33mWARNING: Running pip as the 'root' user can result in broken permissions and conflicting behaviour with the system package manager. It is recommended to use a virtual environment instead: https://pip.pypa.io/warnings/venv\u001b[0m\r\n",
      "Note: you may need to restart the kernel to use updated packages.\n"
     ]
    }
   ],
   "source": [
    "\n",
    "pip install \"ipython[notebook]\" --upgrade"
   ]
  },
  {
   "cell_type": "code",
   "execution_count": 3,
   "id": "c38fddef",
   "metadata": {
    "execution": {
     "iopub.execute_input": "2022-01-18T05:35:46.443607Z",
     "iopub.status.busy": "2022-01-18T05:35:46.442779Z",
     "iopub.status.idle": "2022-01-18T05:35:53.377622Z",
     "shell.execute_reply": "2022-01-18T05:35:53.377137Z",
     "shell.execute_reply.started": "2022-01-18T05:01:26.746815Z"
    },
    "papermill": {
     "duration": 6.962407,
     "end_time": "2022-01-18T05:35:53.377757",
     "exception": false,
     "start_time": "2022-01-18T05:35:46.415350",
     "status": "completed"
    },
    "tags": []
   },
   "outputs": [],
   "source": [
    "# for data visulaization \n",
    "import matplotlib.pyplot as plt \n",
    "import seaborn as sns \n",
    "import plotly.express as px \n",
    "# for data preprocessing \n",
    "from pathlib import Path \n",
    "from sklearn.model_selection import train_test_split\n",
    "# for model building \n",
    "import tensorflow as tf \n",
    "# for evalution of the model \n",
    "from sklearn.metrics import confusion_matrix, classification_report\n"
   ]
  },
  {
   "cell_type": "markdown",
   "id": "2ef1be64",
   "metadata": {
    "papermill": {
     "duration": 0.021919,
     "end_time": "2022-01-18T05:35:53.421589",
     "exception": false,
     "start_time": "2022-01-18T05:35:53.399670",
     "status": "completed"
    },
    "tags": []
   },
   "source": [
    "here we are generating data frame to avoid dealing with the data set directory and we can mannipulate the data set as per the requirement \n",
    "there are two ways to perform the below step \n",
    "1. flow from directory --> this case we will use when we have a directory in which we have test and train data available seperately \n",
    "2. flow from data frame --> this case we will use when we are having data set stored in the directory but test and train data are not seperated and using this concept we are creating directory by passing the path of original data set to create the new directory and from there we generate data frame and split is as per our convinence  "
   ]
  },
  {
   "cell_type": "code",
   "execution_count": 4,
   "id": "158d5452",
   "metadata": {
    "execution": {
     "iopub.execute_input": "2022-01-18T05:35:53.470755Z",
     "iopub.status.busy": "2022-01-18T05:35:53.469859Z",
     "iopub.status.idle": "2022-01-18T05:35:53.471648Z",
     "shell.execute_reply": "2022-01-18T05:35:53.472075Z",
     "shell.execute_reply.started": "2022-01-18T05:01:56.233792Z"
    },
    "papermill": {
     "duration": 0.028209,
     "end_time": "2022-01-18T05:35:53.472212",
     "exception": false,
     "start_time": "2022-01-18T05:35:53.444003",
     "status": "completed"
    },
    "tags": []
   },
   "outputs": [],
   "source": [
    "positive_data = Path(\"../input/surface-crack-detection/Positive\")\n",
    "negative_data = Path(\"../input/surface-crack-detection/Negative\")\n"
   ]
  },
  {
   "cell_type": "markdown",
   "id": "94d97e76",
   "metadata": {
    "papermill": {
     "duration": 0.021911,
     "end_time": "2022-01-18T05:35:53.516017",
     "exception": false,
     "start_time": "2022-01-18T05:35:53.494106",
     "status": "completed"
    },
    "tags": []
   },
   "source": [
    "here we are trying to generate data frame using user define function "
   ]
  },
  {
   "cell_type": "code",
   "execution_count": 5,
   "id": "647ec8f8",
   "metadata": {
    "execution": {
     "iopub.execute_input": "2022-01-18T05:35:53.565950Z",
     "iopub.status.busy": "2022-01-18T05:35:53.565105Z",
     "iopub.status.idle": "2022-01-18T05:35:53.567881Z",
     "shell.execute_reply": "2022-01-18T05:35:53.567409Z",
     "shell.execute_reply.started": "2022-01-18T05:01:59.045644Z"
    },
    "papermill": {
     "duration": 0.030123,
     "end_time": "2022-01-18T05:35:53.568005",
     "exception": false,
     "start_time": "2022-01-18T05:35:53.537882",
     "status": "completed"
    },
    "tags": []
   },
   "outputs": [],
   "source": [
    "def generate_df(image_data,label):\n",
    "    dataset_path = pd.Series(list(image_data.glob(r'*.jpg')), name = 'dataset_path').astype(str)\n",
    "    labels = pd.Series(label , name = 'label', index = dataset_path.index)\n",
    "    df = pd.concat([dataset_path,labels],axis = 1 )\n",
    "    return df "
   ]
  },
  {
   "cell_type": "code",
   "execution_count": 6,
   "id": "c367e3cf",
   "metadata": {
    "execution": {
     "iopub.execute_input": "2022-01-18T05:35:53.618093Z",
     "iopub.status.busy": "2022-01-18T05:35:53.617571Z",
     "iopub.status.idle": "2022-01-18T05:35:54.413685Z",
     "shell.execute_reply": "2022-01-18T05:35:54.414126Z",
     "shell.execute_reply.started": "2022-01-18T05:02:01.517633Z"
    },
    "papermill": {
     "duration": 0.823643,
     "end_time": "2022-01-18T05:35:54.414278",
     "exception": false,
     "start_time": "2022-01-18T05:35:53.590635",
     "status": "completed"
    },
    "tags": []
   },
   "outputs": [
    {
     "data": {
      "text/html": [
       "<div>\n",
       "<style scoped>\n",
       "    .dataframe tbody tr th:only-of-type {\n",
       "        vertical-align: middle;\n",
       "    }\n",
       "\n",
       "    .dataframe tbody tr th {\n",
       "        vertical-align: top;\n",
       "    }\n",
       "\n",
       "    .dataframe thead th {\n",
       "        text-align: right;\n",
       "    }\n",
       "</style>\n",
       "<table border=\"1\" class=\"dataframe\">\n",
       "  <thead>\n",
       "    <tr style=\"text-align: right;\">\n",
       "      <th></th>\n",
       "      <th>dataset_path</th>\n",
       "      <th>label</th>\n",
       "    </tr>\n",
       "  </thead>\n",
       "  <tbody>\n",
       "    <tr>\n",
       "      <th>0</th>\n",
       "      <td>../input/surface-crack-detection/Positive/0574...</td>\n",
       "      <td>POSITIVE</td>\n",
       "    </tr>\n",
       "    <tr>\n",
       "      <th>1</th>\n",
       "      <td>../input/surface-crack-detection/Positive/1870...</td>\n",
       "      <td>POSITIVE</td>\n",
       "    </tr>\n",
       "    <tr>\n",
       "      <th>2</th>\n",
       "      <td>../input/surface-crack-detection/Positive/0967...</td>\n",
       "      <td>POSITIVE</td>\n",
       "    </tr>\n",
       "    <tr>\n",
       "      <th>3</th>\n",
       "      <td>../input/surface-crack-detection/Negative/0791...</td>\n",
       "      <td>NEGATIVE</td>\n",
       "    </tr>\n",
       "    <tr>\n",
       "      <th>4</th>\n",
       "      <td>../input/surface-crack-detection/Positive/1400...</td>\n",
       "      <td>POSITIVE</td>\n",
       "    </tr>\n",
       "    <tr>\n",
       "      <th>...</th>\n",
       "      <td>...</td>\n",
       "      <td>...</td>\n",
       "    </tr>\n",
       "    <tr>\n",
       "      <th>39995</th>\n",
       "      <td>../input/surface-crack-detection/Positive/0854...</td>\n",
       "      <td>POSITIVE</td>\n",
       "    </tr>\n",
       "    <tr>\n",
       "      <th>39996</th>\n",
       "      <td>../input/surface-crack-detection/Negative/1944...</td>\n",
       "      <td>NEGATIVE</td>\n",
       "    </tr>\n",
       "    <tr>\n",
       "      <th>39997</th>\n",
       "      <td>../input/surface-crack-detection/Positive/0977...</td>\n",
       "      <td>POSITIVE</td>\n",
       "    </tr>\n",
       "    <tr>\n",
       "      <th>39998</th>\n",
       "      <td>../input/surface-crack-detection/Positive/1504...</td>\n",
       "      <td>POSITIVE</td>\n",
       "    </tr>\n",
       "    <tr>\n",
       "      <th>39999</th>\n",
       "      <td>../input/surface-crack-detection/Negative/1099...</td>\n",
       "      <td>NEGATIVE</td>\n",
       "    </tr>\n",
       "  </tbody>\n",
       "</table>\n",
       "<p>40000 rows × 2 columns</p>\n",
       "</div>"
      ],
      "text/plain": [
       "                                            dataset_path     label\n",
       "0      ../input/surface-crack-detection/Positive/0574...  POSITIVE\n",
       "1      ../input/surface-crack-detection/Positive/1870...  POSITIVE\n",
       "2      ../input/surface-crack-detection/Positive/0967...  POSITIVE\n",
       "3      ../input/surface-crack-detection/Negative/0791...  NEGATIVE\n",
       "4      ../input/surface-crack-detection/Positive/1400...  POSITIVE\n",
       "...                                                  ...       ...\n",
       "39995  ../input/surface-crack-detection/Positive/0854...  POSITIVE\n",
       "39996  ../input/surface-crack-detection/Negative/1944...  NEGATIVE\n",
       "39997  ../input/surface-crack-detection/Positive/0977...  POSITIVE\n",
       "39998  ../input/surface-crack-detection/Positive/1504...  POSITIVE\n",
       "39999  ../input/surface-crack-detection/Negative/1099...  NEGATIVE\n",
       "\n",
       "[40000 rows x 2 columns]"
      ]
     },
     "execution_count": 6,
     "metadata": {},
     "output_type": "execute_result"
    }
   ],
   "source": [
    "positive_df = generate_df(positive_data, label = 'POSITIVE')\n",
    "negative_df =  generate_df(negative_data, label = 'NEGATIVE')\n",
    "All_df = pd.concat([positive_df,negative_df],axis = 0 ).sample(frac=1.0,random_state=1).reset_index(drop=True)\n",
    "All_df"
   ]
  },
  {
   "cell_type": "markdown",
   "id": "5076ca5f",
   "metadata": {
    "papermill": {
     "duration": 0.022266,
     "end_time": "2022-01-18T05:35:54.459869",
     "exception": false,
     "start_time": "2022-01-18T05:35:54.437603",
     "status": "completed"
    },
    "tags": []
   },
   "source": [
    "after performing the above step we will store the generated value in a variable. here we are provide label as positive and negative because later we are going to use tensor flow from data frame there it will be expecting string value instead of int so to avoid error over there we are using. in the above piece of code we are concating the positive and negative data frame one over other and as we can see there is two error all positive class is displayed first and later it is displaying negative class also there is error in the index part so to address those issue we have to shuffle the data set and also we have to rearrange the entire data set after concatenation and we have to reset the index and we have to put drop=True to avoid creation of new col"
   ]
  },
  {
   "cell_type": "markdown",
   "id": "82dee82b",
   "metadata": {
    "papermill": {
     "duration": 0.022278,
     "end_time": "2022-01-18T05:35:54.504605",
     "exception": false,
     "start_time": "2022-01-18T05:35:54.482327",
     "status": "completed"
    },
    "tags": []
   },
   "source": [
    "once we are ready with our postive and negative data set next step is we have to spilt our data into traing and testing phase and we are considering only 6k data set for building our model and we have split data into 70-30 ratio and we are shuffling it\n",
    "\n",
    "# Train_test_split"
   ]
  },
  {
   "cell_type": "code",
   "execution_count": 7,
   "id": "f32beef6",
   "metadata": {
    "execution": {
     "iopub.execute_input": "2022-01-18T05:35:54.555493Z",
     "iopub.status.busy": "2022-01-18T05:35:54.554777Z",
     "iopub.status.idle": "2022-01-18T05:35:54.560770Z",
     "shell.execute_reply": "2022-01-18T05:35:54.560304Z",
     "shell.execute_reply.started": "2022-01-18T05:02:07.238210Z"
    },
    "papermill": {
     "duration": 0.03388,
     "end_time": "2022-01-18T05:35:54.560891",
     "exception": false,
     "start_time": "2022-01-18T05:35:54.527011",
     "status": "completed"
    },
    "tags": []
   },
   "outputs": [],
   "source": [
    "train_df, test_df = train_test_split(All_df, train_size = .7, shuffle = 'True', random_state = 42 )"
   ]
  },
  {
   "cell_type": "code",
   "execution_count": 8,
   "id": "dd57be81",
   "metadata": {
    "execution": {
     "iopub.execute_input": "2022-01-18T05:35:54.611945Z",
     "iopub.status.busy": "2022-01-18T05:35:54.610739Z",
     "iopub.status.idle": "2022-01-18T05:35:54.613872Z",
     "shell.execute_reply": "2022-01-18T05:35:54.614300Z",
     "shell.execute_reply.started": "2022-01-18T05:02:10.160127Z"
    },
    "papermill": {
     "duration": 0.031145,
     "end_time": "2022-01-18T05:35:54.614450",
     "exception": false,
     "start_time": "2022-01-18T05:35:54.583305",
     "status": "completed"
    },
    "tags": []
   },
   "outputs": [
    {
     "data": {
      "text/plain": [
       "(28000, 2)"
      ]
     },
     "execution_count": 8,
     "metadata": {},
     "output_type": "execute_result"
    }
   ],
   "source": [
    "train_df.shape"
   ]
  },
  {
   "cell_type": "code",
   "execution_count": 9,
   "id": "001f8092",
   "metadata": {
    "execution": {
     "iopub.execute_input": "2022-01-18T05:35:54.665859Z",
     "iopub.status.busy": "2022-01-18T05:35:54.665203Z",
     "iopub.status.idle": "2022-01-18T05:35:54.667808Z",
     "shell.execute_reply": "2022-01-18T05:35:54.668227Z",
     "shell.execute_reply.started": "2022-01-18T05:02:12.518321Z"
    },
    "papermill": {
     "duration": 0.030828,
     "end_time": "2022-01-18T05:35:54.668361",
     "exception": false,
     "start_time": "2022-01-18T05:35:54.637533",
     "status": "completed"
    },
    "tags": []
   },
   "outputs": [
    {
     "data": {
      "text/plain": [
       "(12000, 2)"
      ]
     },
     "execution_count": 9,
     "metadata": {},
     "output_type": "execute_result"
    }
   ],
   "source": [
    "test_df.shape"
   ]
  },
  {
   "cell_type": "code",
   "execution_count": 10,
   "id": "54ebc6da",
   "metadata": {
    "execution": {
     "iopub.execute_input": "2022-01-18T05:35:54.726516Z",
     "iopub.status.busy": "2022-01-18T05:35:54.725687Z",
     "iopub.status.idle": "2022-01-18T05:36:28.660206Z",
     "shell.execute_reply": "2022-01-18T05:36:28.660814Z",
     "shell.execute_reply.started": "2022-01-18T05:02:14.700864Z"
    },
    "papermill": {
     "duration": 33.968192,
     "end_time": "2022-01-18T05:36:28.661017",
     "exception": false,
     "start_time": "2022-01-18T05:35:54.692825",
     "status": "completed"
    },
    "tags": []
   },
   "outputs": [
    {
     "name": "stdout",
     "output_type": "stream",
     "text": [
      "Found 22400 validated image filenames belonging to 2 classes.\n",
      "Found 5600 validated image filenames belonging to 2 classes.\n",
      "Found 12000 validated image filenames belonging to 2 classes.\n"
     ]
    }
   ],
   "source": [
    "train_data_set = tf.keras.preprocessing.image.ImageDataGenerator(rescale = 1./255, validation_split = .2 )\n",
    "# here we have used validation split because we are trying to divide our training data set into traning(80%) and validation(20%) \n",
    "test_data_set = tf.keras.preprocessing.image.ImageDataGenerator(rescale = 1./255)\n",
    "train_data = train_data_set.flow_from_dataframe(train_df,x_col = 'dataset_path',y_col = 'label',\n",
    "                                               target_size= (120,120),\n",
    "                                               color_mode = 'rgb',\n",
    "                                               class_mode = 'binary',\n",
    "                                               batch_size = 32,\n",
    "                                               shuffle = 'True',\n",
    "                                               seed = 42,\n",
    "                                               subset = 'training')\n",
    "val_data = train_data_set.flow_from_dataframe(train_df, x_col = 'dataset_path',y_col = 'label',\n",
    "                                               target_size= (120,120),\n",
    "                                               color_mode = 'rgb',\n",
    "                                               class_mode = 'binary',\n",
    "                                               batch_size = 32,\n",
    "                                               shuffle = 'True',\n",
    "                                               seed = 42,\n",
    "                                               subset = 'validation')\n",
    "test_data = test_data_set.flow_from_dataframe(test_df, x_col = 'dataset_path',y_col = 'label',\n",
    "                                               target_size= (120,120),\n",
    "                                               color_mode = 'rgb',\n",
    "                                               class_mode = 'binary',\n",
    "                                               batch_size = 32,\n",
    "                                               shuffle = 'False',\n",
    "                                               seed = 42,\n",
    "                                               )\n"
   ]
  },
  {
   "cell_type": "markdown",
   "id": "845719f5",
   "metadata": {
    "papermill": {
     "duration": 0.023433,
     "end_time": "2022-01-18T05:36:28.708900",
     "exception": false,
     "start_time": "2022-01-18T05:36:28.685467",
     "status": "completed"
    },
    "tags": []
   },
   "source": [
    "# traing the model \n",
    "using convolution layer we are trying to extract feature from the given image "
   ]
  },
  {
   "cell_type": "code",
   "execution_count": 11,
   "id": "c292f039",
   "metadata": {
    "execution": {
     "iopub.execute_input": "2022-01-18T05:36:28.764411Z",
     "iopub.status.busy": "2022-01-18T05:36:28.763826Z",
     "iopub.status.idle": "2022-01-18T05:36:31.338605Z",
     "shell.execute_reply": "2022-01-18T05:36:31.338123Z",
     "shell.execute_reply.started": "2022-01-18T05:03:48.556633Z"
    },
    "papermill": {
     "duration": 2.605808,
     "end_time": "2022-01-18T05:36:31.338727",
     "exception": false,
     "start_time": "2022-01-18T05:36:28.732919",
     "status": "completed"
    },
    "tags": []
   },
   "outputs": [
    {
     "name": "stdout",
     "output_type": "stream",
     "text": [
      "Model: \"model\"\n",
      "_________________________________________________________________\n",
      "Layer (type)                 Output Shape              Param #   \n",
      "=================================================================\n",
      "input_1 (InputLayer)         [(None, 120, 120, 3)]     0         \n",
      "_________________________________________________________________\n",
      "conv2d (Conv2D)              (None, 118, 118, 16)      448       \n",
      "_________________________________________________________________\n",
      "max_pooling2d (MaxPooling2D) (None, 59, 59, 16)        0         \n",
      "_________________________________________________________________\n",
      "conv2d_1 (Conv2D)            (None, 57, 57, 32)        4640      \n",
      "_________________________________________________________________\n",
      "max_pooling2d_1 (MaxPooling2 (None, 28, 28, 32)        0         \n",
      "_________________________________________________________________\n",
      "global_average_pooling2d (Gl (None, 32)                0         \n",
      "_________________________________________________________________\n",
      "dense (Dense)                (None, 1)                 33        \n",
      "=================================================================\n",
      "Total params: 5,121\n",
      "Trainable params: 5,121\n",
      "Non-trainable params: 0\n",
      "_________________________________________________________________\n",
      "None\n"
     ]
    },
    {
     "name": "stderr",
     "output_type": "stream",
     "text": [
      "2022-01-18 05:36:29.043698: I tensorflow/stream_executor/cuda/cuda_gpu_executor.cc:937] successful NUMA node read from SysFS had negative value (-1), but there must be at least one NUMA node, so returning NUMA node zero\n",
      "2022-01-18 05:36:29.044752: I tensorflow/stream_executor/cuda/cuda_gpu_executor.cc:937] successful NUMA node read from SysFS had negative value (-1), but there must be at least one NUMA node, so returning NUMA node zero\n",
      "2022-01-18 05:36:29.045382: I tensorflow/stream_executor/cuda/cuda_gpu_executor.cc:937] successful NUMA node read from SysFS had negative value (-1), but there must be at least one NUMA node, so returning NUMA node zero\n",
      "2022-01-18 05:36:29.046234: I tensorflow/core/platform/cpu_feature_guard.cc:142] This TensorFlow binary is optimized with oneAPI Deep Neural Network Library (oneDNN) to use the following CPU instructions in performance-critical operations:  AVX2 AVX512F FMA\n",
      "To enable them in other operations, rebuild TensorFlow with the appropriate compiler flags.\n",
      "2022-01-18 05:36:29.047342: I tensorflow/stream_executor/cuda/cuda_gpu_executor.cc:937] successful NUMA node read from SysFS had negative value (-1), but there must be at least one NUMA node, so returning NUMA node zero\n",
      "2022-01-18 05:36:29.048012: I tensorflow/stream_executor/cuda/cuda_gpu_executor.cc:937] successful NUMA node read from SysFS had negative value (-1), but there must be at least one NUMA node, so returning NUMA node zero\n",
      "2022-01-18 05:36:29.048638: I tensorflow/stream_executor/cuda/cuda_gpu_executor.cc:937] successful NUMA node read from SysFS had negative value (-1), but there must be at least one NUMA node, so returning NUMA node zero\n",
      "2022-01-18 05:36:30.952035: I tensorflow/stream_executor/cuda/cuda_gpu_executor.cc:937] successful NUMA node read from SysFS had negative value (-1), but there must be at least one NUMA node, so returning NUMA node zero\n",
      "2022-01-18 05:36:30.952852: I tensorflow/stream_executor/cuda/cuda_gpu_executor.cc:937] successful NUMA node read from SysFS had negative value (-1), but there must be at least one NUMA node, so returning NUMA node zero\n",
      "2022-01-18 05:36:30.953530: I tensorflow/stream_executor/cuda/cuda_gpu_executor.cc:937] successful NUMA node read from SysFS had negative value (-1), but there must be at least one NUMA node, so returning NUMA node zero\n",
      "2022-01-18 05:36:30.954086: I tensorflow/core/common_runtime/gpu/gpu_device.cc:1510] Created device /job:localhost/replica:0/task:0/device:GPU:0 with 15385 MB memory:  -> device: 0, name: Tesla P100-PCIE-16GB, pci bus id: 0000:00:04.0, compute capability: 6.0\n"
     ]
    }
   ],
   "source": [
    "inputs = tf.keras.Input(shape=(120,120,3))\n",
    "x = tf.keras.layers.Conv2D(filters = 16,kernel_size=(3,3),activation='relu')(inputs)\n",
    "x = tf.keras.layers.MaxPool2D(pool_size=(2,2))(x)\n",
    "x = tf.keras.layers.Conv2D(filters = 32,kernel_size=(3,3),activation='relu')(x)\n",
    "x = tf.keras.layers.MaxPool2D(pool_size=(2,2))(x)\n",
    "# siince the output of convolutional and maxpooling layer will give 2d output so we have to convert it to 1d so we have used GlobalAveragePooling2D\n",
    "# we can also use flatten image to bring 2d to lower dimension \n",
    "x = tf.keras.layers.GlobalAveragePooling2D()(x)\n",
    "outputs = tf.keras.layers.Dense(1,activation = 'sigmoid')(x)\n",
    "model = tf.keras.Model(inputs=inputs, outputs = outputs)\n",
    "model.compile(optimizer = 'adam',\n",
    "             loss = 'binary_crossentropy',\n",
    "              metrics = ['accuracy']\n",
    "             )\n",
    "print(model.summary())\n"
   ]
  },
  {
   "cell_type": "code",
   "execution_count": 12,
   "id": "c5bea004",
   "metadata": {
    "execution": {
     "iopub.execute_input": "2022-01-18T05:36:31.393519Z",
     "iopub.status.busy": "2022-01-18T05:36:31.392714Z",
     "iopub.status.idle": "2022-01-18T05:46:00.989962Z",
     "shell.execute_reply": "2022-01-18T05:46:00.989429Z",
     "shell.execute_reply.started": "2022-01-18T05:04:03.542699Z"
    },
    "papermill": {
     "duration": 569.626737,
     "end_time": "2022-01-18T05:46:00.990104",
     "exception": false,
     "start_time": "2022-01-18T05:36:31.363367",
     "status": "completed"
    },
    "tags": []
   },
   "outputs": [
    {
     "name": "stderr",
     "output_type": "stream",
     "text": [
      "2022-01-18 05:36:31.644367: I tensorflow/compiler/mlir/mlir_graph_optimization_pass.cc:185] None of the MLIR Optimization Passes are enabled (registered 2)\n"
     ]
    },
    {
     "name": "stdout",
     "output_type": "stream",
     "text": [
      "Epoch 1/10\n"
     ]
    },
    {
     "name": "stderr",
     "output_type": "stream",
     "text": [
      "2022-01-18 05:36:33.120217: I tensorflow/stream_executor/cuda/cuda_dnn.cc:369] Loaded cuDNN version 8005\n"
     ]
    },
    {
     "name": "stdout",
     "output_type": "stream",
     "text": [
      "700/700 [==============================] - 118s 160ms/step - loss: 0.4543 - accuracy: 0.8073 - val_loss: 0.2244 - val_accuracy: 0.9425\n",
      "Epoch 2/10\n",
      "700/700 [==============================] - 46s 66ms/step - loss: 0.1483 - accuracy: 0.9606 - val_loss: 0.1250 - val_accuracy: 0.9643\n",
      "Epoch 3/10\n",
      "700/700 [==============================] - 47s 66ms/step - loss: 0.0984 - accuracy: 0.9708 - val_loss: 0.0947 - val_accuracy: 0.9734\n",
      "Epoch 4/10\n",
      "700/700 [==============================] - 46s 66ms/step - loss: 0.0816 - accuracy: 0.9754 - val_loss: 0.0846 - val_accuracy: 0.9782\n",
      "Epoch 5/10\n",
      "700/700 [==============================] - 44s 63ms/step - loss: 0.0757 - accuracy: 0.9768 - val_loss: 0.0763 - val_accuracy: 0.9761\n",
      "Epoch 6/10\n",
      "700/700 [==============================] - 45s 64ms/step - loss: 0.0695 - accuracy: 0.9786 - val_loss: 0.0676 - val_accuracy: 0.9800\n",
      "Epoch 7/10\n",
      "700/700 [==============================] - 44s 63ms/step - loss: 0.0644 - accuracy: 0.9796 - val_loss: 0.0782 - val_accuracy: 0.9754\n",
      "Epoch 8/10\n",
      "700/700 [==============================] - 47s 67ms/step - loss: 0.0655 - accuracy: 0.9805 - val_loss: 0.0635 - val_accuracy: 0.9821\n",
      "Epoch 9/10\n",
      "700/700 [==============================] - 49s 70ms/step - loss: 0.0676 - accuracy: 0.9798 - val_loss: 0.0645 - val_accuracy: 0.9793\n",
      "Epoch 10/10\n",
      "700/700 [==============================] - 48s 68ms/step - loss: 0.0637 - accuracy: 0.9802 - val_loss: 0.0594 - val_accuracy: 0.9804\n"
     ]
    }
   ],
   "source": [
    "history = model.fit(\n",
    "train_data,\n",
    "validation_data = val_data,\n",
    "epochs = 10,\n",
    "callbacks = [tf.keras.callbacks.EarlyStopping(\n",
    "monitor = 'val_loss',\n",
    "patience =3,\n",
    "restore_best_weights = True)])"
   ]
  },
  {
   "cell_type": "markdown",
   "id": "f07b4856",
   "metadata": {
    "papermill": {
     "duration": 1.57835,
     "end_time": "2022-01-18T05:46:04.164931",
     "exception": false,
     "start_time": "2022-01-18T05:46:02.586581",
     "status": "completed"
    },
    "tags": []
   },
   "source": [
    "# visualization of training and validation loss over time "
   ]
  },
  {
   "cell_type": "code",
   "execution_count": 13,
   "id": "08e208ab",
   "metadata": {
    "execution": {
     "iopub.execute_input": "2022-01-18T05:46:07.672233Z",
     "iopub.status.busy": "2022-01-18T05:46:07.670928Z",
     "iopub.status.idle": "2022-01-18T05:46:08.488641Z",
     "shell.execute_reply": "2022-01-18T05:46:08.489063Z",
     "shell.execute_reply.started": "2022-01-18T05:13:59.649030Z"
    },
    "papermill": {
     "duration": 2.385141,
     "end_time": "2022-01-18T05:46:08.489212",
     "exception": false,
     "start_time": "2022-01-18T05:46:06.104071",
     "status": "completed"
    },
    "tags": []
   },
   "outputs": [
    {
     "data": {
      "text/html": [
       "        <script type=\"text/javascript\">\n",
       "        window.PlotlyConfig = {MathJaxConfig: 'local'};\n",
       "        if (window.MathJax) {MathJax.Hub.Config({SVG: {font: \"STIX-Web\"}});}\n",
       "        if (typeof require !== 'undefined') {\n",
       "        require.undef(\"plotly\");\n",
       "        requirejs.config({\n",
       "            paths: {\n",
       "                'plotly': ['https://cdn.plot.ly/plotly-2.6.3.min']\n",
       "            }\n",
       "        });\n",
       "        require(['plotly'], function(Plotly) {\n",
       "            window._Plotly = Plotly;\n",
       "        });\n",
       "        }\n",
       "        </script>\n",
       "        "
      ]
     },
     "metadata": {},
     "output_type": "display_data"
    },
    {
     "data": {
      "text/html": [
       "<div>                            <div id=\"7d5bb7f4-c645-4432-ae44-55f2a29b1bfb\" class=\"plotly-graph-div\" style=\"height:525px; width:100%;\"></div>            <script type=\"text/javascript\">                require([\"plotly\"], function(Plotly) {                    window.PLOTLYENV=window.PLOTLYENV || {};                                    if (document.getElementById(\"7d5bb7f4-c645-4432-ae44-55f2a29b1bfb\")) {                    Plotly.newPlot(                        \"7d5bb7f4-c645-4432-ae44-55f2a29b1bfb\",                        [{\"hovertemplate\":\"variable=loss<br>epoch=%{x}<br>loss=%{y}<extra></extra>\",\"legendgroup\":\"loss\",\"line\":{\"color\":\"#636efa\",\"dash\":\"solid\"},\"marker\":{\"symbol\":\"circle\"},\"mode\":\"lines\",\"name\":\"loss\",\"orientation\":\"v\",\"showlegend\":true,\"x\":[0,1,2,3,4,5,6,7,8,9],\"xaxis\":\"x\",\"y\":[0.45426231622695923,0.14832359552383423,0.0983780026435852,0.08156172931194305,0.0756947249174118,0.06945962458848953,0.06435606628656387,0.0655481368303299,0.06764037907123566,0.06374666839838028],\"yaxis\":\"y\",\"type\":\"scatter\"},{\"hovertemplate\":\"variable=val_loss<br>epoch=%{x}<br>loss=%{y}<extra></extra>\",\"legendgroup\":\"val_loss\",\"line\":{\"color\":\"#EF553B\",\"dash\":\"solid\"},\"marker\":{\"symbol\":\"circle\"},\"mode\":\"lines\",\"name\":\"val_loss\",\"orientation\":\"v\",\"showlegend\":true,\"x\":[0,1,2,3,4,5,6,7,8,9],\"xaxis\":\"x\",\"y\":[0.22435534000396729,0.12500299513339996,0.09473749250173569,0.08458925038576126,0.07632942497730255,0.06762378662824631,0.07815489917993546,0.06349970400333405,0.06447675824165344,0.05944794416427612],\"yaxis\":\"y\",\"type\":\"scatter\"}],                        {\"template\":{\"data\":{\"bar\":[{\"error_x\":{\"color\":\"#2a3f5f\"},\"error_y\":{\"color\":\"#2a3f5f\"},\"marker\":{\"line\":{\"color\":\"#E5ECF6\",\"width\":0.5},\"pattern\":{\"fillmode\":\"overlay\",\"size\":10,\"solidity\":0.2}},\"type\":\"bar\"}],\"barpolar\":[{\"marker\":{\"line\":{\"color\":\"#E5ECF6\",\"width\":0.5},\"pattern\":{\"fillmode\":\"overlay\",\"size\":10,\"solidity\":0.2}},\"type\":\"barpolar\"}],\"carpet\":[{\"aaxis\":{\"endlinecolor\":\"#2a3f5f\",\"gridcolor\":\"white\",\"linecolor\":\"white\",\"minorgridcolor\":\"white\",\"startlinecolor\":\"#2a3f5f\"},\"baxis\":{\"endlinecolor\":\"#2a3f5f\",\"gridcolor\":\"white\",\"linecolor\":\"white\",\"minorgridcolor\":\"white\",\"startlinecolor\":\"#2a3f5f\"},\"type\":\"carpet\"}],\"choropleth\":[{\"colorbar\":{\"outlinewidth\":0,\"ticks\":\"\"},\"type\":\"choropleth\"}],\"contour\":[{\"colorbar\":{\"outlinewidth\":0,\"ticks\":\"\"},\"colorscale\":[[0.0,\"#0d0887\"],[0.1111111111111111,\"#46039f\"],[0.2222222222222222,\"#7201a8\"],[0.3333333333333333,\"#9c179e\"],[0.4444444444444444,\"#bd3786\"],[0.5555555555555556,\"#d8576b\"],[0.6666666666666666,\"#ed7953\"],[0.7777777777777778,\"#fb9f3a\"],[0.8888888888888888,\"#fdca26\"],[1.0,\"#f0f921\"]],\"type\":\"contour\"}],\"contourcarpet\":[{\"colorbar\":{\"outlinewidth\":0,\"ticks\":\"\"},\"type\":\"contourcarpet\"}],\"heatmap\":[{\"colorbar\":{\"outlinewidth\":0,\"ticks\":\"\"},\"colorscale\":[[0.0,\"#0d0887\"],[0.1111111111111111,\"#46039f\"],[0.2222222222222222,\"#7201a8\"],[0.3333333333333333,\"#9c179e\"],[0.4444444444444444,\"#bd3786\"],[0.5555555555555556,\"#d8576b\"],[0.6666666666666666,\"#ed7953\"],[0.7777777777777778,\"#fb9f3a\"],[0.8888888888888888,\"#fdca26\"],[1.0,\"#f0f921\"]],\"type\":\"heatmap\"}],\"heatmapgl\":[{\"colorbar\":{\"outlinewidth\":0,\"ticks\":\"\"},\"colorscale\":[[0.0,\"#0d0887\"],[0.1111111111111111,\"#46039f\"],[0.2222222222222222,\"#7201a8\"],[0.3333333333333333,\"#9c179e\"],[0.4444444444444444,\"#bd3786\"],[0.5555555555555556,\"#d8576b\"],[0.6666666666666666,\"#ed7953\"],[0.7777777777777778,\"#fb9f3a\"],[0.8888888888888888,\"#fdca26\"],[1.0,\"#f0f921\"]],\"type\":\"heatmapgl\"}],\"histogram\":[{\"marker\":{\"pattern\":{\"fillmode\":\"overlay\",\"size\":10,\"solidity\":0.2}},\"type\":\"histogram\"}],\"histogram2d\":[{\"colorbar\":{\"outlinewidth\":0,\"ticks\":\"\"},\"colorscale\":[[0.0,\"#0d0887\"],[0.1111111111111111,\"#46039f\"],[0.2222222222222222,\"#7201a8\"],[0.3333333333333333,\"#9c179e\"],[0.4444444444444444,\"#bd3786\"],[0.5555555555555556,\"#d8576b\"],[0.6666666666666666,\"#ed7953\"],[0.7777777777777778,\"#fb9f3a\"],[0.8888888888888888,\"#fdca26\"],[1.0,\"#f0f921\"]],\"type\":\"histogram2d\"}],\"histogram2dcontour\":[{\"colorbar\":{\"outlinewidth\":0,\"ticks\":\"\"},\"colorscale\":[[0.0,\"#0d0887\"],[0.1111111111111111,\"#46039f\"],[0.2222222222222222,\"#7201a8\"],[0.3333333333333333,\"#9c179e\"],[0.4444444444444444,\"#bd3786\"],[0.5555555555555556,\"#d8576b\"],[0.6666666666666666,\"#ed7953\"],[0.7777777777777778,\"#fb9f3a\"],[0.8888888888888888,\"#fdca26\"],[1.0,\"#f0f921\"]],\"type\":\"histogram2dcontour\"}],\"mesh3d\":[{\"colorbar\":{\"outlinewidth\":0,\"ticks\":\"\"},\"type\":\"mesh3d\"}],\"parcoords\":[{\"line\":{\"colorbar\":{\"outlinewidth\":0,\"ticks\":\"\"}},\"type\":\"parcoords\"}],\"pie\":[{\"automargin\":true,\"type\":\"pie\"}],\"scatter\":[{\"marker\":{\"colorbar\":{\"outlinewidth\":0,\"ticks\":\"\"}},\"type\":\"scatter\"}],\"scatter3d\":[{\"line\":{\"colorbar\":{\"outlinewidth\":0,\"ticks\":\"\"}},\"marker\":{\"colorbar\":{\"outlinewidth\":0,\"ticks\":\"\"}},\"type\":\"scatter3d\"}],\"scattercarpet\":[{\"marker\":{\"colorbar\":{\"outlinewidth\":0,\"ticks\":\"\"}},\"type\":\"scattercarpet\"}],\"scattergeo\":[{\"marker\":{\"colorbar\":{\"outlinewidth\":0,\"ticks\":\"\"}},\"type\":\"scattergeo\"}],\"scattergl\":[{\"marker\":{\"colorbar\":{\"outlinewidth\":0,\"ticks\":\"\"}},\"type\":\"scattergl\"}],\"scattermapbox\":[{\"marker\":{\"colorbar\":{\"outlinewidth\":0,\"ticks\":\"\"}},\"type\":\"scattermapbox\"}],\"scatterpolar\":[{\"marker\":{\"colorbar\":{\"outlinewidth\":0,\"ticks\":\"\"}},\"type\":\"scatterpolar\"}],\"scatterpolargl\":[{\"marker\":{\"colorbar\":{\"outlinewidth\":0,\"ticks\":\"\"}},\"type\":\"scatterpolargl\"}],\"scatterternary\":[{\"marker\":{\"colorbar\":{\"outlinewidth\":0,\"ticks\":\"\"}},\"type\":\"scatterternary\"}],\"surface\":[{\"colorbar\":{\"outlinewidth\":0,\"ticks\":\"\"},\"colorscale\":[[0.0,\"#0d0887\"],[0.1111111111111111,\"#46039f\"],[0.2222222222222222,\"#7201a8\"],[0.3333333333333333,\"#9c179e\"],[0.4444444444444444,\"#bd3786\"],[0.5555555555555556,\"#d8576b\"],[0.6666666666666666,\"#ed7953\"],[0.7777777777777778,\"#fb9f3a\"],[0.8888888888888888,\"#fdca26\"],[1.0,\"#f0f921\"]],\"type\":\"surface\"}],\"table\":[{\"cells\":{\"fill\":{\"color\":\"#EBF0F8\"},\"line\":{\"color\":\"white\"}},\"header\":{\"fill\":{\"color\":\"#C8D4E3\"},\"line\":{\"color\":\"white\"}},\"type\":\"table\"}]},\"layout\":{\"annotationdefaults\":{\"arrowcolor\":\"#2a3f5f\",\"arrowhead\":0,\"arrowwidth\":1},\"autotypenumbers\":\"strict\",\"coloraxis\":{\"colorbar\":{\"outlinewidth\":0,\"ticks\":\"\"}},\"colorscale\":{\"diverging\":[[0,\"#8e0152\"],[0.1,\"#c51b7d\"],[0.2,\"#de77ae\"],[0.3,\"#f1b6da\"],[0.4,\"#fde0ef\"],[0.5,\"#f7f7f7\"],[0.6,\"#e6f5d0\"],[0.7,\"#b8e186\"],[0.8,\"#7fbc41\"],[0.9,\"#4d9221\"],[1,\"#276419\"]],\"sequential\":[[0.0,\"#0d0887\"],[0.1111111111111111,\"#46039f\"],[0.2222222222222222,\"#7201a8\"],[0.3333333333333333,\"#9c179e\"],[0.4444444444444444,\"#bd3786\"],[0.5555555555555556,\"#d8576b\"],[0.6666666666666666,\"#ed7953\"],[0.7777777777777778,\"#fb9f3a\"],[0.8888888888888888,\"#fdca26\"],[1.0,\"#f0f921\"]],\"sequentialminus\":[[0.0,\"#0d0887\"],[0.1111111111111111,\"#46039f\"],[0.2222222222222222,\"#7201a8\"],[0.3333333333333333,\"#9c179e\"],[0.4444444444444444,\"#bd3786\"],[0.5555555555555556,\"#d8576b\"],[0.6666666666666666,\"#ed7953\"],[0.7777777777777778,\"#fb9f3a\"],[0.8888888888888888,\"#fdca26\"],[1.0,\"#f0f921\"]]},\"colorway\":[\"#636efa\",\"#EF553B\",\"#00cc96\",\"#ab63fa\",\"#FFA15A\",\"#19d3f3\",\"#FF6692\",\"#B6E880\",\"#FF97FF\",\"#FECB52\"],\"font\":{\"color\":\"#2a3f5f\"},\"geo\":{\"bgcolor\":\"white\",\"lakecolor\":\"white\",\"landcolor\":\"#E5ECF6\",\"showlakes\":true,\"showland\":true,\"subunitcolor\":\"white\"},\"hoverlabel\":{\"align\":\"left\"},\"hovermode\":\"closest\",\"mapbox\":{\"style\":\"light\"},\"paper_bgcolor\":\"white\",\"plot_bgcolor\":\"#E5ECF6\",\"polar\":{\"angularaxis\":{\"gridcolor\":\"white\",\"linecolor\":\"white\",\"ticks\":\"\"},\"bgcolor\":\"#E5ECF6\",\"radialaxis\":{\"gridcolor\":\"white\",\"linecolor\":\"white\",\"ticks\":\"\"}},\"scene\":{\"xaxis\":{\"backgroundcolor\":\"#E5ECF6\",\"gridcolor\":\"white\",\"gridwidth\":2,\"linecolor\":\"white\",\"showbackground\":true,\"ticks\":\"\",\"zerolinecolor\":\"white\"},\"yaxis\":{\"backgroundcolor\":\"#E5ECF6\",\"gridcolor\":\"white\",\"gridwidth\":2,\"linecolor\":\"white\",\"showbackground\":true,\"ticks\":\"\",\"zerolinecolor\":\"white\"},\"zaxis\":{\"backgroundcolor\":\"#E5ECF6\",\"gridcolor\":\"white\",\"gridwidth\":2,\"linecolor\":\"white\",\"showbackground\":true,\"ticks\":\"\",\"zerolinecolor\":\"white\"}},\"shapedefaults\":{\"line\":{\"color\":\"#2a3f5f\"}},\"ternary\":{\"aaxis\":{\"gridcolor\":\"white\",\"linecolor\":\"white\",\"ticks\":\"\"},\"baxis\":{\"gridcolor\":\"white\",\"linecolor\":\"white\",\"ticks\":\"\"},\"bgcolor\":\"#E5ECF6\",\"caxis\":{\"gridcolor\":\"white\",\"linecolor\":\"white\",\"ticks\":\"\"}},\"title\":{\"x\":0.05},\"xaxis\":{\"automargin\":true,\"gridcolor\":\"white\",\"linecolor\":\"white\",\"ticks\":\"\",\"title\":{\"standoff\":15},\"zerolinecolor\":\"white\",\"zerolinewidth\":2},\"yaxis\":{\"automargin\":true,\"gridcolor\":\"white\",\"linecolor\":\"white\",\"ticks\":\"\",\"title\":{\"standoff\":15},\"zerolinecolor\":\"white\",\"zerolinewidth\":2}}},\"xaxis\":{\"anchor\":\"y\",\"domain\":[0.0,1.0],\"title\":{\"text\":\"epoch\"}},\"yaxis\":{\"anchor\":\"x\",\"domain\":[0.0,1.0],\"title\":{\"text\":\"loss\"}},\"legend\":{\"title\":{\"text\":\"variable\"},\"tracegroupgap\":0},\"title\":{\"text\":\"training and validation loss \"}},                        {\"responsive\": true}                    ).then(function(){\n",
       "                            \n",
       "var gd = document.getElementById('7d5bb7f4-c645-4432-ae44-55f2a29b1bfb');\n",
       "var x = new MutationObserver(function (mutations, observer) {{\n",
       "        var display = window.getComputedStyle(gd).display;\n",
       "        if (!display || display === 'none') {{\n",
       "            console.log([gd, 'removed!']);\n",
       "            Plotly.purge(gd);\n",
       "            observer.disconnect();\n",
       "        }}\n",
       "}});\n",
       "\n",
       "// Listen for the removal of the full notebook cells\n",
       "var notebookContainer = gd.closest('#notebook-container');\n",
       "if (notebookContainer) {{\n",
       "    x.observe(notebookContainer, {childList: true});\n",
       "}}\n",
       "\n",
       "// Listen for the clearing of the current output cell\n",
       "var outputEl = gd.closest('.output');\n",
       "if (outputEl) {{\n",
       "    x.observe(outputEl, {childList: true});\n",
       "}}\n",
       "\n",
       "                        })                };                });            </script>        </div>"
      ]
     },
     "metadata": {},
     "output_type": "display_data"
    }
   ],
   "source": [
    "fig = px.line(\n",
    "history.history,\n",
    "y=['loss','val_loss'],\n",
    "labels= {'index':'epoch','value':'loss'},\n",
    "title = \"training and validation loss \")\n",
    "fig.show()\n"
   ]
  },
  {
   "cell_type": "code",
   "execution_count": 14,
   "id": "dd2a8747",
   "metadata": {
    "execution": {
     "iopub.execute_input": "2022-01-18T05:46:11.604884Z",
     "iopub.status.busy": "2022-01-18T05:46:11.604047Z",
     "iopub.status.idle": "2022-01-18T05:46:11.662045Z",
     "shell.execute_reply": "2022-01-18T05:46:11.662414Z",
     "shell.execute_reply.started": "2022-01-18T05:14:04.455195Z"
    },
    "papermill": {
     "duration": 1.623485,
     "end_time": "2022-01-18T05:46:11.662612",
     "exception": false,
     "start_time": "2022-01-18T05:46:10.039127",
     "status": "completed"
    },
    "tags": []
   },
   "outputs": [
    {
     "data": {
      "text/html": [
       "<div>                            <div id=\"2a47e36b-858c-4584-9fe0-3ab42ddd5a13\" class=\"plotly-graph-div\" style=\"height:525px; width:100%;\"></div>            <script type=\"text/javascript\">                require([\"plotly\"], function(Plotly) {                    window.PLOTLYENV=window.PLOTLYENV || {};                                    if (document.getElementById(\"2a47e36b-858c-4584-9fe0-3ab42ddd5a13\")) {                    Plotly.newPlot(                        \"2a47e36b-858c-4584-9fe0-3ab42ddd5a13\",                        [{\"hovertemplate\":\"variable=accuracy<br>epoch=%{x}<br>accuracy =%{y}<extra></extra>\",\"legendgroup\":\"accuracy\",\"line\":{\"color\":\"#636efa\",\"dash\":\"solid\"},\"marker\":{\"symbol\":\"circle\"},\"mode\":\"lines\",\"name\":\"accuracy\",\"orientation\":\"v\",\"showlegend\":true,\"x\":[0,1,2,3,4,5,6,7,8,9],\"xaxis\":\"x\",\"y\":[0.8073214292526245,0.9605803489685059,0.9708035588264465,0.9754464030265808,0.9767857193946838,0.9786160588264465,0.9795982241630554,0.9805356860160828,0.9798214435577393,0.9802232384681702],\"yaxis\":\"y\",\"type\":\"scatter\"},{\"hovertemplate\":\"variable=val_accuracy<br>epoch=%{x}<br>accuracy =%{y}<extra></extra>\",\"legendgroup\":\"val_accuracy\",\"line\":{\"color\":\"#EF553B\",\"dash\":\"solid\"},\"marker\":{\"symbol\":\"circle\"},\"mode\":\"lines\",\"name\":\"val_accuracy\",\"orientation\":\"v\",\"showlegend\":true,\"x\":[0,1,2,3,4,5,6,7,8,9],\"xaxis\":\"x\",\"y\":[0.9424999952316284,0.9642857313156128,0.9733928442001343,0.9782142639160156,0.9760714173316956,0.9800000190734863,0.9753571152687073,0.9821428656578064,0.979285717010498,0.9803571701049805],\"yaxis\":\"y\",\"type\":\"scatter\"}],                        {\"template\":{\"data\":{\"bar\":[{\"error_x\":{\"color\":\"#2a3f5f\"},\"error_y\":{\"color\":\"#2a3f5f\"},\"marker\":{\"line\":{\"color\":\"#E5ECF6\",\"width\":0.5},\"pattern\":{\"fillmode\":\"overlay\",\"size\":10,\"solidity\":0.2}},\"type\":\"bar\"}],\"barpolar\":[{\"marker\":{\"line\":{\"color\":\"#E5ECF6\",\"width\":0.5},\"pattern\":{\"fillmode\":\"overlay\",\"size\":10,\"solidity\":0.2}},\"type\":\"barpolar\"}],\"carpet\":[{\"aaxis\":{\"endlinecolor\":\"#2a3f5f\",\"gridcolor\":\"white\",\"linecolor\":\"white\",\"minorgridcolor\":\"white\",\"startlinecolor\":\"#2a3f5f\"},\"baxis\":{\"endlinecolor\":\"#2a3f5f\",\"gridcolor\":\"white\",\"linecolor\":\"white\",\"minorgridcolor\":\"white\",\"startlinecolor\":\"#2a3f5f\"},\"type\":\"carpet\"}],\"choropleth\":[{\"colorbar\":{\"outlinewidth\":0,\"ticks\":\"\"},\"type\":\"choropleth\"}],\"contour\":[{\"colorbar\":{\"outlinewidth\":0,\"ticks\":\"\"},\"colorscale\":[[0.0,\"#0d0887\"],[0.1111111111111111,\"#46039f\"],[0.2222222222222222,\"#7201a8\"],[0.3333333333333333,\"#9c179e\"],[0.4444444444444444,\"#bd3786\"],[0.5555555555555556,\"#d8576b\"],[0.6666666666666666,\"#ed7953\"],[0.7777777777777778,\"#fb9f3a\"],[0.8888888888888888,\"#fdca26\"],[1.0,\"#f0f921\"]],\"type\":\"contour\"}],\"contourcarpet\":[{\"colorbar\":{\"outlinewidth\":0,\"ticks\":\"\"},\"type\":\"contourcarpet\"}],\"heatmap\":[{\"colorbar\":{\"outlinewidth\":0,\"ticks\":\"\"},\"colorscale\":[[0.0,\"#0d0887\"],[0.1111111111111111,\"#46039f\"],[0.2222222222222222,\"#7201a8\"],[0.3333333333333333,\"#9c179e\"],[0.4444444444444444,\"#bd3786\"],[0.5555555555555556,\"#d8576b\"],[0.6666666666666666,\"#ed7953\"],[0.7777777777777778,\"#fb9f3a\"],[0.8888888888888888,\"#fdca26\"],[1.0,\"#f0f921\"]],\"type\":\"heatmap\"}],\"heatmapgl\":[{\"colorbar\":{\"outlinewidth\":0,\"ticks\":\"\"},\"colorscale\":[[0.0,\"#0d0887\"],[0.1111111111111111,\"#46039f\"],[0.2222222222222222,\"#7201a8\"],[0.3333333333333333,\"#9c179e\"],[0.4444444444444444,\"#bd3786\"],[0.5555555555555556,\"#d8576b\"],[0.6666666666666666,\"#ed7953\"],[0.7777777777777778,\"#fb9f3a\"],[0.8888888888888888,\"#fdca26\"],[1.0,\"#f0f921\"]],\"type\":\"heatmapgl\"}],\"histogram\":[{\"marker\":{\"pattern\":{\"fillmode\":\"overlay\",\"size\":10,\"solidity\":0.2}},\"type\":\"histogram\"}],\"histogram2d\":[{\"colorbar\":{\"outlinewidth\":0,\"ticks\":\"\"},\"colorscale\":[[0.0,\"#0d0887\"],[0.1111111111111111,\"#46039f\"],[0.2222222222222222,\"#7201a8\"],[0.3333333333333333,\"#9c179e\"],[0.4444444444444444,\"#bd3786\"],[0.5555555555555556,\"#d8576b\"],[0.6666666666666666,\"#ed7953\"],[0.7777777777777778,\"#fb9f3a\"],[0.8888888888888888,\"#fdca26\"],[1.0,\"#f0f921\"]],\"type\":\"histogram2d\"}],\"histogram2dcontour\":[{\"colorbar\":{\"outlinewidth\":0,\"ticks\":\"\"},\"colorscale\":[[0.0,\"#0d0887\"],[0.1111111111111111,\"#46039f\"],[0.2222222222222222,\"#7201a8\"],[0.3333333333333333,\"#9c179e\"],[0.4444444444444444,\"#bd3786\"],[0.5555555555555556,\"#d8576b\"],[0.6666666666666666,\"#ed7953\"],[0.7777777777777778,\"#fb9f3a\"],[0.8888888888888888,\"#fdca26\"],[1.0,\"#f0f921\"]],\"type\":\"histogram2dcontour\"}],\"mesh3d\":[{\"colorbar\":{\"outlinewidth\":0,\"ticks\":\"\"},\"type\":\"mesh3d\"}],\"parcoords\":[{\"line\":{\"colorbar\":{\"outlinewidth\":0,\"ticks\":\"\"}},\"type\":\"parcoords\"}],\"pie\":[{\"automargin\":true,\"type\":\"pie\"}],\"scatter\":[{\"marker\":{\"colorbar\":{\"outlinewidth\":0,\"ticks\":\"\"}},\"type\":\"scatter\"}],\"scatter3d\":[{\"line\":{\"colorbar\":{\"outlinewidth\":0,\"ticks\":\"\"}},\"marker\":{\"colorbar\":{\"outlinewidth\":0,\"ticks\":\"\"}},\"type\":\"scatter3d\"}],\"scattercarpet\":[{\"marker\":{\"colorbar\":{\"outlinewidth\":0,\"ticks\":\"\"}},\"type\":\"scattercarpet\"}],\"scattergeo\":[{\"marker\":{\"colorbar\":{\"outlinewidth\":0,\"ticks\":\"\"}},\"type\":\"scattergeo\"}],\"scattergl\":[{\"marker\":{\"colorbar\":{\"outlinewidth\":0,\"ticks\":\"\"}},\"type\":\"scattergl\"}],\"scattermapbox\":[{\"marker\":{\"colorbar\":{\"outlinewidth\":0,\"ticks\":\"\"}},\"type\":\"scattermapbox\"}],\"scatterpolar\":[{\"marker\":{\"colorbar\":{\"outlinewidth\":0,\"ticks\":\"\"}},\"type\":\"scatterpolar\"}],\"scatterpolargl\":[{\"marker\":{\"colorbar\":{\"outlinewidth\":0,\"ticks\":\"\"}},\"type\":\"scatterpolargl\"}],\"scatterternary\":[{\"marker\":{\"colorbar\":{\"outlinewidth\":0,\"ticks\":\"\"}},\"type\":\"scatterternary\"}],\"surface\":[{\"colorbar\":{\"outlinewidth\":0,\"ticks\":\"\"},\"colorscale\":[[0.0,\"#0d0887\"],[0.1111111111111111,\"#46039f\"],[0.2222222222222222,\"#7201a8\"],[0.3333333333333333,\"#9c179e\"],[0.4444444444444444,\"#bd3786\"],[0.5555555555555556,\"#d8576b\"],[0.6666666666666666,\"#ed7953\"],[0.7777777777777778,\"#fb9f3a\"],[0.8888888888888888,\"#fdca26\"],[1.0,\"#f0f921\"]],\"type\":\"surface\"}],\"table\":[{\"cells\":{\"fill\":{\"color\":\"#EBF0F8\"},\"line\":{\"color\":\"white\"}},\"header\":{\"fill\":{\"color\":\"#C8D4E3\"},\"line\":{\"color\":\"white\"}},\"type\":\"table\"}]},\"layout\":{\"annotationdefaults\":{\"arrowcolor\":\"#2a3f5f\",\"arrowhead\":0,\"arrowwidth\":1},\"autotypenumbers\":\"strict\",\"coloraxis\":{\"colorbar\":{\"outlinewidth\":0,\"ticks\":\"\"}},\"colorscale\":{\"diverging\":[[0,\"#8e0152\"],[0.1,\"#c51b7d\"],[0.2,\"#de77ae\"],[0.3,\"#f1b6da\"],[0.4,\"#fde0ef\"],[0.5,\"#f7f7f7\"],[0.6,\"#e6f5d0\"],[0.7,\"#b8e186\"],[0.8,\"#7fbc41\"],[0.9,\"#4d9221\"],[1,\"#276419\"]],\"sequential\":[[0.0,\"#0d0887\"],[0.1111111111111111,\"#46039f\"],[0.2222222222222222,\"#7201a8\"],[0.3333333333333333,\"#9c179e\"],[0.4444444444444444,\"#bd3786\"],[0.5555555555555556,\"#d8576b\"],[0.6666666666666666,\"#ed7953\"],[0.7777777777777778,\"#fb9f3a\"],[0.8888888888888888,\"#fdca26\"],[1.0,\"#f0f921\"]],\"sequentialminus\":[[0.0,\"#0d0887\"],[0.1111111111111111,\"#46039f\"],[0.2222222222222222,\"#7201a8\"],[0.3333333333333333,\"#9c179e\"],[0.4444444444444444,\"#bd3786\"],[0.5555555555555556,\"#d8576b\"],[0.6666666666666666,\"#ed7953\"],[0.7777777777777778,\"#fb9f3a\"],[0.8888888888888888,\"#fdca26\"],[1.0,\"#f0f921\"]]},\"colorway\":[\"#636efa\",\"#EF553B\",\"#00cc96\",\"#ab63fa\",\"#FFA15A\",\"#19d3f3\",\"#FF6692\",\"#B6E880\",\"#FF97FF\",\"#FECB52\"],\"font\":{\"color\":\"#2a3f5f\"},\"geo\":{\"bgcolor\":\"white\",\"lakecolor\":\"white\",\"landcolor\":\"#E5ECF6\",\"showlakes\":true,\"showland\":true,\"subunitcolor\":\"white\"},\"hoverlabel\":{\"align\":\"left\"},\"hovermode\":\"closest\",\"mapbox\":{\"style\":\"light\"},\"paper_bgcolor\":\"white\",\"plot_bgcolor\":\"#E5ECF6\",\"polar\":{\"angularaxis\":{\"gridcolor\":\"white\",\"linecolor\":\"white\",\"ticks\":\"\"},\"bgcolor\":\"#E5ECF6\",\"radialaxis\":{\"gridcolor\":\"white\",\"linecolor\":\"white\",\"ticks\":\"\"}},\"scene\":{\"xaxis\":{\"backgroundcolor\":\"#E5ECF6\",\"gridcolor\":\"white\",\"gridwidth\":2,\"linecolor\":\"white\",\"showbackground\":true,\"ticks\":\"\",\"zerolinecolor\":\"white\"},\"yaxis\":{\"backgroundcolor\":\"#E5ECF6\",\"gridcolor\":\"white\",\"gridwidth\":2,\"linecolor\":\"white\",\"showbackground\":true,\"ticks\":\"\",\"zerolinecolor\":\"white\"},\"zaxis\":{\"backgroundcolor\":\"#E5ECF6\",\"gridcolor\":\"white\",\"gridwidth\":2,\"linecolor\":\"white\",\"showbackground\":true,\"ticks\":\"\",\"zerolinecolor\":\"white\"}},\"shapedefaults\":{\"line\":{\"color\":\"#2a3f5f\"}},\"ternary\":{\"aaxis\":{\"gridcolor\":\"white\",\"linecolor\":\"white\",\"ticks\":\"\"},\"baxis\":{\"gridcolor\":\"white\",\"linecolor\":\"white\",\"ticks\":\"\"},\"bgcolor\":\"#E5ECF6\",\"caxis\":{\"gridcolor\":\"white\",\"linecolor\":\"white\",\"ticks\":\"\"}},\"title\":{\"x\":0.05},\"xaxis\":{\"automargin\":true,\"gridcolor\":\"white\",\"linecolor\":\"white\",\"ticks\":\"\",\"title\":{\"standoff\":15},\"zerolinecolor\":\"white\",\"zerolinewidth\":2},\"yaxis\":{\"automargin\":true,\"gridcolor\":\"white\",\"linecolor\":\"white\",\"ticks\":\"\",\"title\":{\"standoff\":15},\"zerolinecolor\":\"white\",\"zerolinewidth\":2}}},\"xaxis\":{\"anchor\":\"y\",\"domain\":[0.0,1.0],\"title\":{\"text\":\"epoch\"}},\"yaxis\":{\"anchor\":\"x\",\"domain\":[0.0,1.0],\"title\":{\"text\":\"accuracy \"}},\"legend\":{\"title\":{\"text\":\"variable\"},\"tracegroupgap\":0},\"title\":{\"text\":\" training and validation accuracy \"}},                        {\"responsive\": true}                    ).then(function(){\n",
       "                            \n",
       "var gd = document.getElementById('2a47e36b-858c-4584-9fe0-3ab42ddd5a13');\n",
       "var x = new MutationObserver(function (mutations, observer) {{\n",
       "        var display = window.getComputedStyle(gd).display;\n",
       "        if (!display || display === 'none') {{\n",
       "            console.log([gd, 'removed!']);\n",
       "            Plotly.purge(gd);\n",
       "            observer.disconnect();\n",
       "        }}\n",
       "}});\n",
       "\n",
       "// Listen for the removal of the full notebook cells\n",
       "var notebookContainer = gd.closest('#notebook-container');\n",
       "if (notebookContainer) {{\n",
       "    x.observe(notebookContainer, {childList: true});\n",
       "}}\n",
       "\n",
       "// Listen for the clearing of the current output cell\n",
       "var outputEl = gd.closest('.output');\n",
       "if (outputEl) {{\n",
       "    x.observe(outputEl, {childList: true});\n",
       "}}\n",
       "\n",
       "                        })                };                });            </script>        </div>"
      ]
     },
     "metadata": {},
     "output_type": "display_data"
    }
   ],
   "source": [
    "fig = px.line(\n",
    "history.history,\n",
    "y = ['accuracy','val_accuracy'],\n",
    "labels = {'index':'epoch','value':'accuracy '},\n",
    "title = ' training and validation accuracy ')\n",
    "fig.show()"
   ]
  },
  {
   "cell_type": "markdown",
   "id": "3c801af6",
   "metadata": {
    "papermill": {
     "duration": 1.551798,
     "end_time": "2022-01-18T05:46:14.751396",
     "exception": false,
     "start_time": "2022-01-18T05:46:13.199598",
     "status": "completed"
    },
    "tags": []
   },
   "source": [
    "# Result "
   ]
  },
  {
   "cell_type": "code",
   "execution_count": 15,
   "id": "cb1c6d88",
   "metadata": {
    "execution": {
     "iopub.execute_input": "2022-01-18T05:46:18.125249Z",
     "iopub.status.busy": "2022-01-18T05:46:18.124216Z",
     "iopub.status.idle": "2022-01-18T05:46:18.126030Z",
     "shell.execute_reply": "2022-01-18T05:46:18.126476Z",
     "shell.execute_reply.started": "2022-01-18T05:14:11.517328Z"
    },
    "papermill": {
     "duration": 1.581836,
     "end_time": "2022-01-18T05:46:18.126631",
     "exception": false,
     "start_time": "2022-01-18T05:46:16.544795",
     "status": "completed"
    },
    "tags": []
   },
   "outputs": [],
   "source": [
    "def evaluate_model (model,test_data):\n",
    "    results = model.evaluate (test_data,verbose=0)\n",
    "    loss = results[0]\n",
    "    accuracy = results[1]\n",
    "    print(\"test loss: {:.5f}\".format(loss))\n",
    "    print(\"test accuracy: {:.2f}%\".format(accuracy*100))\n",
    "           "
   ]
  },
  {
   "cell_type": "code",
   "execution_count": 16,
   "id": "3879c489",
   "metadata": {
    "execution": {
     "iopub.execute_input": "2022-01-18T05:46:21.183869Z",
     "iopub.status.busy": "2022-01-18T05:46:21.183275Z",
     "iopub.status.idle": "2022-01-18T05:47:26.386329Z",
     "shell.execute_reply": "2022-01-18T05:47:26.386818Z",
     "shell.execute_reply.started": "2022-01-18T05:14:15.529445Z"
    },
    "papermill": {
     "duration": 66.729464,
     "end_time": "2022-01-18T05:47:26.386969",
     "exception": false,
     "start_time": "2022-01-18T05:46:19.657505",
     "status": "completed"
    },
    "tags": []
   },
   "outputs": [
    {
     "name": "stdout",
     "output_type": "stream",
     "text": [
      "test loss: 0.05452\n",
      "test accuracy: 98.18%\n"
     ]
    }
   ],
   "source": [
    "evaluate_model(model,test_data)"
   ]
  },
  {
   "cell_type": "code",
   "execution_count": 17,
   "id": "371f9880",
   "metadata": {
    "execution": {
     "iopub.execute_input": "2022-01-18T05:47:29.459307Z",
     "iopub.status.busy": "2022-01-18T05:47:29.458473Z",
     "iopub.status.idle": "2022-01-18T05:47:48.160860Z",
     "shell.execute_reply": "2022-01-18T05:47:48.161665Z",
     "shell.execute_reply.started": "2022-01-18T05:15:26.983773Z"
    },
    "papermill": {
     "duration": 20.210478,
     "end_time": "2022-01-18T05:47:48.161903",
     "exception": false,
     "start_time": "2022-01-18T05:47:27.951425",
     "status": "completed"
    },
    "tags": []
   },
   "outputs": [
    {
     "data": {
      "image/png": "[encoded data removed]",
      "text/plain": [
       "<Figure size 432x432 with 1 Axes>"
      ]
     },
     "metadata": {
      "needs_background": "light"
     },
     "output_type": "display_data"
    }
   ],
   "source": [
    "y_pred = np.squeeze((model.predict(test_data)>=0.5).astype(np.int))\n",
    "cm = confusion_matrix(test_data.labels, y_pred)\n",
    "clr = classification_report (test_data.labels, y_pred, target_names = [\"NEGATIVE\",\"POSITIVE\"])\n",
    "plt.figure(figsize=(6,6))\n",
    "sns.heatmap(cm,annot=True,fmt='g',vmin=0,cmap='Blues',cbar=False)\n",
    "plt.xticks(ticks=np.arange(2)+.5,labels = ['NEGATIVE','POSITIVE'])\n",
    "plt.yticks(ticks=np.arange(2)+.5,labels = ['NEGATIVE','POSITIVE'])\n",
    "plt.xlabel(\"predicted\")\n",
    "plt.ylabel(\"actual\")\n",
    "plt.show()"
   ]
  },
  {
   "cell_type": "code",
   "execution_count": 18,
   "id": "3b012f80",
   "metadata": {
    "execution": {
     "iopub.execute_input": "2022-01-18T05:47:51.215332Z",
     "iopub.status.busy": "2022-01-18T05:47:51.214562Z",
     "iopub.status.idle": "2022-01-18T05:47:51.217424Z",
     "shell.execute_reply": "2022-01-18T05:47:51.217859Z",
     "shell.execute_reply.started": "2022-01-18T05:15:52.958685Z"
    },
    "papermill": {
     "duration": 1.506566,
     "end_time": "2022-01-18T05:47:51.217994",
     "exception": false,
     "start_time": "2022-01-18T05:47:49.711428",
     "status": "completed"
    },
    "tags": []
   },
   "outputs": [
    {
     "name": "stdout",
     "output_type": "stream",
     "text": [
      "classification Report:\n",
      "---------------------------------------------------------------------\n",
      "               precision    recall  f1-score   support\n",
      "\n",
      "    NEGATIVE       0.49      0.50      0.50      5991\n",
      "    POSITIVE       0.50      0.48      0.49      6009\n",
      "\n",
      "    accuracy                           0.49     12000\n",
      "   macro avg       0.49      0.49      0.49     12000\n",
      "weighted avg       0.49      0.49      0.49     12000\n",
      "\n"
     ]
    }
   ],
   "source": [
    "print(\"classification Report:\\n---------------------------------------------------------------------\\n\",clr)"
   ]
  },
  {
   "cell_type": "markdown",
   "id": "0f0d2b2c",
   "metadata": {
    "papermill": {
     "duration": 1.554359,
     "end_time": "2022-01-18T05:47:54.263634",
     "exception": false,
     "start_time": "2022-01-18T05:47:52.709275",
     "status": "completed"
    },
    "tags": []
   },
   "source": [
    "now once "
   ]
  }
 ],
 "metadata": {
  "kernelspec": {
   "display_name": "Python 3",
   "language": "python",
   "name": "python3"
  },
  "language_info": {
   "codemirror_mode": {
    "name": "ipython",
    "version": 3
   },
   "file_extension": ".py",
   "mimetype": "text/x-python",
   "name": "python",
   "nbconvert_exporter": "python",
   "pygments_lexer": "ipython3",
   "version": "3.7.12"
  },
  "papermill": {
   "default_parameters": {},
   "duration": 751.24879,
   "end_time": "2022-01-18T05:47:59.039842",
   "environment_variables": {},
   "exception": null,
   "input_path": "__notebook__.ipynb",
   "output_path": "__notebook__.ipynb",
   "parameters": {},
   "start_time": "2022-01-18T05:35:27.791052",
   "version": "2.3.3"
  }
 },
 "nbformat": 4,
 "nbformat_minor": 5
}
