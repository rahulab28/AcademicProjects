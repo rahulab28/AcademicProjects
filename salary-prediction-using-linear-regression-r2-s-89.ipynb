{
 "cells": [
  {
   "cell_type": "code",
   "execution_count": 1,
   "id": "07a9eee4",
   "metadata": {
    "_cell_guid": "b1076dfc-b9ad-4769-8c92-a6c4dae69d19",
    "_uuid": "8f2839f25d086af736a60e9eeb907d3b93b6e0e5",
    "execution": {
     "iopub.execute_input": "2022-01-20T06:14:13.115820Z",
     "iopub.status.busy": "2022-01-20T06:14:13.109695Z",
     "iopub.status.idle": "2022-01-20T06:14:13.137298Z",
     "shell.execute_reply": "2022-01-20T06:14:13.138193Z",
     "shell.execute_reply.started": "2022-01-20T05:51:10.378126Z"
    },
    "papermill": {
     "duration": 0.058616,
     "end_time": "2022-01-20T06:14:13.138626",
     "exception": false,
     "start_time": "2022-01-20T06:14:13.080010",
     "status": "completed"
    },
    "tags": []
   },
   "outputs": [
    {
     "name": "stdout",
     "output_type": "stream",
     "text": [
      "/kaggle/input/salary/Salary.csv\n"
     ]
    }
   ],
   "source": [
    "# This Python 3 environment comes with many helpful analytics libraries installed\n",
    "# It is defined by the kaggle/python Docker image: https://github.com/kaggle/docker-python\n",
    "# For example, here's several helpful packages to load\n",
    "\n",
    "import numpy as np # linear algebra\n",
    "import pandas as pd # data processing, CSV file I/O (e.g. pd.read_csv)\n",
    "\n",
    "# Input data files are available in the read-only \"../input/\" directory\n",
    "# For example, running this (by clicking run or pressing Shift+Enter) will list all files under the input directory\n",
    "\n",
    "import os\n",
    "for dirname, _, filenames in os.walk('/kaggle/input'):\n",
    "    for filename in filenames:\n",
    "        print(os.path.join(dirname, filename))\n",
    "\n",
    "# You can write up to 20GB to the current directory (/kaggle/working/) that gets preserved as output when you create a version using \"Save & Run All\" \n",
    "# You can also write temporary files to /kaggle/temp/, but they won't be saved outside of the current session"
   ]
  },
  {
   "cell_type": "code",
   "execution_count": 2,
   "id": "87bd9de4",
   "metadata": {
    "execution": {
     "iopub.execute_input": "2022-01-20T06:14:13.194371Z",
     "iopub.status.busy": "2022-01-20T06:14:13.193641Z",
     "iopub.status.idle": "2022-01-20T06:14:13.210943Z",
     "shell.execute_reply": "2022-01-20T06:14:13.210208Z",
     "shell.execute_reply.started": "2022-01-20T05:51:13.801533Z"
    },
    "papermill": {
     "duration": 0.046632,
     "end_time": "2022-01-20T06:14:13.211115",
     "exception": false,
     "start_time": "2022-01-20T06:14:13.164483",
     "status": "completed"
    },
    "tags": []
   },
   "outputs": [],
   "source": [
    "salary_df= pd.read_csv(\"../input/salary/Salary.csv\")"
   ]
  },
  {
   "cell_type": "code",
   "execution_count": 3,
   "id": "b97cf0f2",
   "metadata": {
    "execution": {
     "iopub.execute_input": "2022-01-20T06:14:13.265049Z",
     "iopub.status.busy": "2022-01-20T06:14:13.264194Z",
     "iopub.status.idle": "2022-01-20T06:14:14.667458Z",
     "shell.execute_reply": "2022-01-20T06:14:14.666656Z",
     "shell.execute_reply.started": "2022-01-20T05:51:15.773153Z"
    },
    "papermill": {
     "duration": 1.433035,
     "end_time": "2022-01-20T06:14:14.667618",
     "exception": false,
     "start_time": "2022-01-20T06:14:13.234583",
     "status": "completed"
    },
    "tags": []
   },
   "outputs": [],
   "source": [
    "# imp lib\n",
    "import pandas as pd \n",
    "import numpy as np \n",
    "# plot lib \n",
    "import matplotlib.pyplot as plt \n",
    "import seaborn as sns\n",
    "#modeling lib \n",
    "from sklearn.linear_model import LinearRegression \n",
    "from sklearn.preprocessing import RobustScaler \n",
    "from sklearn.metrics import mean_squared_error,r2_score \n",
    "from sklearn.model_selection import train_test_split"
   ]
  },
  {
   "cell_type": "code",
   "execution_count": 4,
   "id": "5685c642",
   "metadata": {
    "execution": {
     "iopub.execute_input": "2022-01-20T06:14:14.722393Z",
     "iopub.status.busy": "2022-01-20T06:14:14.715683Z",
     "iopub.status.idle": "2022-01-20T06:14:14.736859Z",
     "shell.execute_reply": "2022-01-20T06:14:14.737434Z",
     "shell.execute_reply.started": "2022-01-20T05:51:18.624702Z"
    },
    "papermill": {
     "duration": 0.046755,
     "end_time": "2022-01-20T06:14:14.737651",
     "exception": false,
     "start_time": "2022-01-20T06:14:14.690896",
     "status": "completed"
    },
    "tags": []
   },
   "outputs": [
    {
     "data": {
      "text/html": [
       "<div>\n",
       "<style scoped>\n",
       "    .dataframe tbody tr th:only-of-type {\n",
       "        vertical-align: middle;\n",
       "    }\n",
       "\n",
       "    .dataframe tbody tr th {\n",
       "        vertical-align: top;\n",
       "    }\n",
       "\n",
       "    .dataframe thead th {\n",
       "        text-align: right;\n",
       "    }\n",
       "</style>\n",
       "<table border=\"1\" class=\"dataframe\">\n",
       "  <thead>\n",
       "    <tr style=\"text-align: right;\">\n",
       "      <th></th>\n",
       "      <th>YearsExperience</th>\n",
       "      <th>Salary</th>\n",
       "    </tr>\n",
       "  </thead>\n",
       "  <tbody>\n",
       "    <tr>\n",
       "      <th>0</th>\n",
       "      <td>1.1</td>\n",
       "      <td>39343</td>\n",
       "    </tr>\n",
       "    <tr>\n",
       "      <th>1</th>\n",
       "      <td>1.3</td>\n",
       "      <td>46205</td>\n",
       "    </tr>\n",
       "    <tr>\n",
       "      <th>2</th>\n",
       "      <td>1.5</td>\n",
       "      <td>37731</td>\n",
       "    </tr>\n",
       "    <tr>\n",
       "      <th>3</th>\n",
       "      <td>2.0</td>\n",
       "      <td>43525</td>\n",
       "    </tr>\n",
       "    <tr>\n",
       "      <th>4</th>\n",
       "      <td>2.2</td>\n",
       "      <td>39891</td>\n",
       "    </tr>\n",
       "  </tbody>\n",
       "</table>\n",
       "</div>"
      ],
      "text/plain": [
       "   YearsExperience  Salary\n",
       "0              1.1   39343\n",
       "1              1.3   46205\n",
       "2              1.5   37731\n",
       "3              2.0   43525\n",
       "4              2.2   39891"
      ]
     },
     "execution_count": 4,
     "metadata": {},
     "output_type": "execute_result"
    }
   ],
   "source": [
    "salary_df.head()"
   ]
  },
  {
   "cell_type": "code",
   "execution_count": 5,
   "id": "0864196c",
   "metadata": {
    "execution": {
     "iopub.execute_input": "2022-01-20T06:14:14.795258Z",
     "iopub.status.busy": "2022-01-20T06:14:14.794342Z",
     "iopub.status.idle": "2022-01-20T06:14:14.808418Z",
     "shell.execute_reply": "2022-01-20T06:14:14.807690Z",
     "shell.execute_reply.started": "2022-01-20T05:51:21.165660Z"
    },
    "papermill": {
     "duration": 0.048097,
     "end_time": "2022-01-20T06:14:14.808600",
     "exception": false,
     "start_time": "2022-01-20T06:14:14.760503",
     "status": "completed"
    },
    "tags": []
   },
   "outputs": [
    {
     "name": "stdout",
     "output_type": "stream",
     "text": [
      "<class 'pandas.core.frame.DataFrame'>\n",
      "RangeIndex: 35 entries, 0 to 34\n",
      "Data columns (total 2 columns):\n",
      " #   Column           Non-Null Count  Dtype  \n",
      "---  ------           --------------  -----  \n",
      " 0   YearsExperience  35 non-null     float64\n",
      " 1   Salary           35 non-null     int64  \n",
      "dtypes: float64(1), int64(1)\n",
      "memory usage: 688.0 bytes\n"
     ]
    }
   ],
   "source": [
    "salary_df.info() "
   ]
  },
  {
   "cell_type": "code",
   "execution_count": 6,
   "id": "45eb9bb3",
   "metadata": {
    "execution": {
     "iopub.execute_input": "2022-01-20T06:14:14.866668Z",
     "iopub.status.busy": "2022-01-20T06:14:14.857577Z",
     "iopub.status.idle": "2022-01-20T06:14:14.879112Z",
     "shell.execute_reply": "2022-01-20T06:14:14.878391Z",
     "shell.execute_reply.started": "2022-01-20T05:51:23.544622Z"
    },
    "papermill": {
     "duration": 0.047259,
     "end_time": "2022-01-20T06:14:14.879315",
     "exception": false,
     "start_time": "2022-01-20T06:14:14.832056",
     "status": "completed"
    },
    "tags": []
   },
   "outputs": [
    {
     "data": {
      "text/html": [
       "<div>\n",
       "<style scoped>\n",
       "    .dataframe tbody tr th:only-of-type {\n",
       "        vertical-align: middle;\n",
       "    }\n",
       "\n",
       "    .dataframe tbody tr th {\n",
       "        vertical-align: top;\n",
       "    }\n",
       "\n",
       "    .dataframe thead th {\n",
       "        text-align: right;\n",
       "    }\n",
       "</style>\n",
       "<table border=\"1\" class=\"dataframe\">\n",
       "  <thead>\n",
       "    <tr style=\"text-align: right;\">\n",
       "      <th></th>\n",
       "      <th>YearsExperience</th>\n",
       "      <th>Salary</th>\n",
       "    </tr>\n",
       "  </thead>\n",
       "  <tbody>\n",
       "    <tr>\n",
       "      <th>count</th>\n",
       "      <td>35.000000</td>\n",
       "      <td>35.000000</td>\n",
       "    </tr>\n",
       "    <tr>\n",
       "      <th>mean</th>\n",
       "      <td>6.308571</td>\n",
       "      <td>83945.600000</td>\n",
       "    </tr>\n",
       "    <tr>\n",
       "      <th>std</th>\n",
       "      <td>3.618610</td>\n",
       "      <td>32162.673003</td>\n",
       "    </tr>\n",
       "    <tr>\n",
       "      <th>min</th>\n",
       "      <td>1.100000</td>\n",
       "      <td>37731.000000</td>\n",
       "    </tr>\n",
       "    <tr>\n",
       "      <th>25%</th>\n",
       "      <td>3.450000</td>\n",
       "      <td>57019.000000</td>\n",
       "    </tr>\n",
       "    <tr>\n",
       "      <th>50%</th>\n",
       "      <td>5.300000</td>\n",
       "      <td>81363.000000</td>\n",
       "    </tr>\n",
       "    <tr>\n",
       "      <th>75%</th>\n",
       "      <td>9.250000</td>\n",
       "      <td>113223.500000</td>\n",
       "    </tr>\n",
       "    <tr>\n",
       "      <th>max</th>\n",
       "      <td>13.500000</td>\n",
       "      <td>139465.000000</td>\n",
       "    </tr>\n",
       "  </tbody>\n",
       "</table>\n",
       "</div>"
      ],
      "text/plain": [
       "       YearsExperience         Salary\n",
       "count        35.000000      35.000000\n",
       "mean          6.308571   83945.600000\n",
       "std           3.618610   32162.673003\n",
       "min           1.100000   37731.000000\n",
       "25%           3.450000   57019.000000\n",
       "50%           5.300000   81363.000000\n",
       "75%           9.250000  113223.500000\n",
       "max          13.500000  139465.000000"
      ]
     },
     "execution_count": 6,
     "metadata": {},
     "output_type": "execute_result"
    }
   ],
   "source": [
    "salary_df.describe()"
   ]
  },
  {
   "cell_type": "code",
   "execution_count": 7,
   "id": "075d48d9",
   "metadata": {
    "execution": {
     "iopub.execute_input": "2022-01-20T06:14:14.937143Z",
     "iopub.status.busy": "2022-01-20T06:14:14.936405Z",
     "iopub.status.idle": "2022-01-20T06:14:14.939593Z",
     "shell.execute_reply": "2022-01-20T06:14:14.940155Z",
     "shell.execute_reply.started": "2022-01-20T05:51:25.756638Z"
    },
    "papermill": {
     "duration": 0.036465,
     "end_time": "2022-01-20T06:14:14.940331",
     "exception": false,
     "start_time": "2022-01-20T06:14:14.903866",
     "status": "completed"
    },
    "tags": []
   },
   "outputs": [
    {
     "data": {
      "text/plain": [
       "YearsExperience    0\n",
       "Salary             0\n",
       "dtype: int64"
      ]
     },
     "execution_count": 7,
     "metadata": {},
     "output_type": "execute_result"
    }
   ],
   "source": [
    "# checking for null values in the data set \n",
    "salary_df.isnull().sum()"
   ]
  },
  {
   "cell_type": "code",
   "execution_count": 8,
   "id": "dab2e2b5",
   "metadata": {
    "execution": {
     "iopub.execute_input": "2022-01-20T06:14:14.989558Z",
     "iopub.status.busy": "2022-01-20T06:14:14.988738Z",
     "iopub.status.idle": "2022-01-20T06:14:15.307449Z",
     "shell.execute_reply": "2022-01-20T06:14:15.306674Z"
    },
    "papermill": {
     "duration": 0.344866,
     "end_time": "2022-01-20T06:14:15.307598",
     "exception": false,
     "start_time": "2022-01-20T06:14:14.962732",
     "status": "completed"
    },
    "tags": []
   },
   "outputs": [
    {
     "data": {
      "text/plain": [
       "<AxesSubplot:>"
      ]
     },
     "execution_count": 8,
     "metadata": {},
     "output_type": "execute_result"
    },
    {
     "data": {
      "image/png": "[encoded data removed]",
      "text/plain": [
       "<Figure size 432x288 with 2 Axes>"
      ]
     },
     "metadata": {
      "needs_background": "light"
     },
     "output_type": "display_data"
    }
   ],
   "source": [
    "# to understand the relation between the varaibles \n",
    "salary_df.corr()\n",
    "sns.heatmap(salary_df.corr(),cmap = 'YlGn',annot = True )\n",
    "\n",
    "# we got correlation between them as 98% which means both the variables are highly correlated with one another. "
   ]
  },
  {
   "cell_type": "code",
   "execution_count": 9,
   "id": "1ce43e76",
   "metadata": {
    "execution": {
     "iopub.execute_input": "2022-01-20T06:14:15.364176Z",
     "iopub.status.busy": "2022-01-20T06:14:15.363067Z",
     "iopub.status.idle": "2022-01-20T06:14:15.842257Z",
     "shell.execute_reply": "2022-01-20T06:14:15.842864Z",
     "shell.execute_reply.started": "2022-01-20T05:51:30.680998Z"
    },
    "papermill": {
     "duration": 0.508848,
     "end_time": "2022-01-20T06:14:15.843068",
     "exception": false,
     "start_time": "2022-01-20T06:14:15.334220",
     "status": "completed"
    },
    "tags": []
   },
   "outputs": [
    {
     "data": {
      "text/plain": [
       "<AxesSubplot:xlabel='count', ylabel='YearsExperience'>"
      ]
     },
     "execution_count": 9,
     "metadata": {},
     "output_type": "execute_result"
    },
    {
     "data": {
      "image/png": "[encoded data removed]",
      "text/plain": [
       "<Figure size 864x576 with 1 Axes>"
      ]
     },
     "metadata": {
      "needs_background": "light"
     },
     "output_type": "display_data"
    }
   ],
   "source": [
    "# we are calculating numbers of emmployes in each category\n",
    "fig=plt.figure(figsize=(12,8))\n",
    "sns.countplot(y='YearsExperience',data=salary_df)\n"
   ]
  },
  {
   "cell_type": "code",
   "execution_count": 10,
   "id": "cbccf3a5",
   "metadata": {
    "execution": {
     "iopub.execute_input": "2022-01-20T06:14:15.902912Z",
     "iopub.status.busy": "2022-01-20T06:14:15.902018Z",
     "iopub.status.idle": "2022-01-20T06:14:16.476615Z",
     "shell.execute_reply": "2022-01-20T06:14:16.477152Z",
     "shell.execute_reply.started": "2022-01-20T05:51:35.063410Z"
    },
    "papermill": {
     "duration": 0.605793,
     "end_time": "2022-01-20T06:14:16.477340",
     "exception": false,
     "start_time": "2022-01-20T06:14:15.871547",
     "status": "completed"
    },
    "tags": []
   },
   "outputs": [
    {
     "data": {
      "text/plain": [
       "<AxesSubplot:xlabel='YearsExperience', ylabel='Salary'>"
      ]
     },
     "execution_count": 10,
     "metadata": {},
     "output_type": "execute_result"
    },
    {
     "data": {
      "image/png": "[encoded data removed]",
      "text/plain": [
       "<Figure size 864x576 with 1 Axes>"
      ]
     },
     "metadata": {
      "needs_background": "light"
     },
     "output_type": "display_data"
    }
   ],
   "source": [
    "fig=plt.figure(figsize=(12,8))\n",
    "sns.barplot(x='YearsExperience', y = 'Salary' , data = salary_df)"
   ]
  },
  {
   "cell_type": "code",
   "execution_count": 11,
   "id": "7cc54f4b",
   "metadata": {
    "execution": {
     "iopub.execute_input": "2022-01-20T06:14:16.534120Z",
     "iopub.status.busy": "2022-01-20T06:14:16.533341Z",
     "iopub.status.idle": "2022-01-20T06:14:17.109491Z",
     "shell.execute_reply": "2022-01-20T06:14:17.110060Z",
     "shell.execute_reply.started": "2022-01-20T05:51:38.440481Z"
    },
    "papermill": {
     "duration": 0.606696,
     "end_time": "2022-01-20T06:14:17.110246",
     "exception": false,
     "start_time": "2022-01-20T06:14:16.503550",
     "status": "completed"
    },
    "tags": []
   },
   "outputs": [
    {
     "data": {
      "image/png": "[encoded data removed]",
      "text/plain": [
       "<Figure size 864x432 with 2 Axes>"
      ]
     },
     "metadata": {},
     "output_type": "display_data"
    }
   ],
   "source": [
    "# data viualization \n",
    "sns.set(style = \"whitegrid\", palette = 'muted')\n",
    "fig,axes = plt.subplots(1,2, figsize=(12,6))\n",
    "sns.scatterplot(x ='YearsExperience',y ='Salary',data = salary_df, color = 'b', s = 50 , ax = axes[0])\n",
    "sns.regplot(x ='YearsExperience',y ='Salary',data = salary_df, color = 'b', line_kws = {'color':'orange'}, ax = axes[1])\n",
    "fig.suptitle('Experience vs Salary', fontsize = '16')\n",
    "plt.show()"
   ]
  },
  {
   "cell_type": "code",
   "execution_count": 12,
   "id": "344e1c75",
   "metadata": {
    "execution": {
     "iopub.execute_input": "2022-01-20T06:14:17.173134Z",
     "iopub.status.busy": "2022-01-20T06:14:17.172431Z",
     "iopub.status.idle": "2022-01-20T06:14:17.175224Z",
     "shell.execute_reply": "2022-01-20T06:14:17.175724Z",
     "shell.execute_reply.started": "2022-01-20T05:51:44.365249Z"
    },
    "papermill": {
     "duration": 0.037174,
     "end_time": "2022-01-20T06:14:17.175918",
     "exception": false,
     "start_time": "2022-01-20T06:14:17.138744",
     "status": "completed"
    },
    "tags": []
   },
   "outputs": [
    {
     "name": "stdout",
     "output_type": "stream",
     "text": [
      "[[ 1.1]\n",
      " [ 1.3]\n",
      " [ 1.5]\n",
      " [ 2. ]\n",
      " [ 2.2]\n",
      " [ 2.9]\n",
      " [ 3. ]\n",
      " [ 3.2]\n",
      " [ 3.2]\n",
      " [ 3.7]\n",
      " [ 3.9]\n",
      " [ 4. ]\n",
      " [ 4. ]\n",
      " [ 4.1]\n",
      " [ 4.5]\n",
      " [ 4.9]\n",
      " [ 5.1]\n",
      " [ 5.3]\n",
      " [ 5.9]\n",
      " [ 6. ]\n",
      " [ 6.8]\n",
      " [ 7.1]\n",
      " [ 7.9]\n",
      " [ 8.2]\n",
      " [ 8.7]\n",
      " [ 9. ]\n",
      " [ 9.5]\n",
      " [ 9.6]\n",
      " [10.3]\n",
      " [10.5]\n",
      " [11.2]\n",
      " [11.5]\n",
      " [12.3]\n",
      " [12.9]\n",
      " [13.5]]\n"
     ]
    }
   ],
   "source": [
    "x = salary_df.iloc[:,:-1].values # hold years of exprience data \n",
    "y = salary_df.iloc[:,-1].values # holds salary data\n",
    "print(x)"
   ]
  },
  {
   "cell_type": "code",
   "execution_count": 13,
   "id": "7fbfdbd8",
   "metadata": {
    "execution": {
     "iopub.execute_input": "2022-01-20T06:14:17.237547Z",
     "iopub.status.busy": "2022-01-20T06:14:17.236857Z",
     "iopub.status.idle": "2022-01-20T06:14:17.239454Z",
     "shell.execute_reply": "2022-01-20T06:14:17.239964Z",
     "shell.execute_reply.started": "2022-01-20T05:51:47.807711Z"
    },
    "papermill": {
     "duration": 0.03623,
     "end_time": "2022-01-20T06:14:17.240152",
     "exception": false,
     "start_time": "2022-01-20T06:14:17.203922",
     "status": "completed"
    },
    "tags": []
   },
   "outputs": [
    {
     "name": "stdout",
     "output_type": "stream",
     "text": [
      "[ 39343  46205  37731  43525  39891  56642  60150  54445  64445  57189\n",
      "  63218  55794  56957  57081  61111  67938  66029  83088  81363  93940\n",
      "  91738  98273 101302 113812 109431 105582 116969 112635 122391 121872\n",
      " 127345 126756 128765 135675 139465]\n"
     ]
    }
   ],
   "source": [
    "print(y)"
   ]
  },
  {
   "cell_type": "code",
   "execution_count": 14,
   "id": "6fd92d91",
   "metadata": {
    "execution": {
     "iopub.execute_input": "2022-01-20T06:14:17.303448Z",
     "iopub.status.busy": "2022-01-20T06:14:17.301652Z",
     "iopub.status.idle": "2022-01-20T06:14:17.307768Z",
     "shell.execute_reply": "2022-01-20T06:14:17.308284Z",
     "shell.execute_reply.started": "2022-01-20T05:51:50.985820Z"
    },
    "papermill": {
     "duration": 0.040438,
     "end_time": "2022-01-20T06:14:17.308476",
     "exception": false,
     "start_time": "2022-01-20T06:14:17.268038",
     "status": "completed"
    },
    "tags": []
   },
   "outputs": [
    {
     "name": "stdout",
     "output_type": "stream",
     "text": [
      "shape of Train X :(28, 1),y:(28,), Test X:(7, 1),Y:(7,)\n"
     ]
    }
   ],
   "source": [
    "# spliting data as 80/20 80% of data to training and 20 % to testing \n",
    "x_train,x_test,y_train,y_test = train_test_split(x,y, test_size = .2 , random_state = 42 )\n",
    "print(f\"shape of Train X :{x_train.shape},y:{y_train.shape}, Test X:{x_test.shape},Y:{y_test.shape}\")"
   ]
  },
  {
   "cell_type": "code",
   "execution_count": 15,
   "id": "71c196a9",
   "metadata": {
    "execution": {
     "iopub.execute_input": "2022-01-20T06:14:17.370183Z",
     "iopub.status.busy": "2022-01-20T06:14:17.369520Z",
     "iopub.status.idle": "2022-01-20T06:14:17.380654Z",
     "shell.execute_reply": "2022-01-20T06:14:17.379965Z",
     "shell.execute_reply.started": "2022-01-20T05:51:58.568539Z"
    },
    "papermill": {
     "duration": 0.042523,
     "end_time": "2022-01-20T06:14:17.380814",
     "exception": false,
     "start_time": "2022-01-20T06:14:17.338291",
     "status": "completed"
    },
    "tags": []
   },
   "outputs": [
    {
     "data": {
      "text/plain": [
       "LinearRegression(n_jobs=2, normalize=True)"
      ]
     },
     "execution_count": 15,
     "metadata": {},
     "output_type": "execute_result"
    }
   ],
   "source": [
    "lr_model = LinearRegression (fit_intercept = True , normalize = True ,n_jobs = 2)\n",
    "lr_model.fit(x_train,y_train)"
   ]
  },
  {
   "cell_type": "code",
   "execution_count": 16,
   "id": "94598152",
   "metadata": {
    "execution": {
     "iopub.execute_input": "2022-01-20T06:14:17.444707Z",
     "iopub.status.busy": "2022-01-20T06:14:17.443648Z",
     "iopub.status.idle": "2022-01-20T06:14:17.448234Z",
     "shell.execute_reply": "2022-01-20T06:14:17.447637Z",
     "shell.execute_reply.started": "2022-01-20T05:52:06.382785Z"
    },
    "papermill": {
     "duration": 0.039012,
     "end_time": "2022-01-20T06:14:17.448384",
     "exception": false,
     "start_time": "2022-01-20T06:14:17.409372",
     "status": "completed"
    },
    "tags": []
   },
   "outputs": [
    {
     "name": "stdout",
     "output_type": "stream",
     "text": [
      "prediction acuracy :\n",
      " R2 score = 0.89\n",
      "mean squared error :\n",
      " MSE = 55761791.31\n"
     ]
    }
   ],
   "source": [
    "y_preds = lr_model.predict(x_test)\n",
    "print(\"prediction acuracy :\\n R2 score = {:.2f}\".format(r2_score(y_test,y_preds)))\n",
    "print(\"mean squared error :\\n MSE = {:.2f}\".format(mean_squared_error(y_test,y_preds)))"
   ]
  },
  {
   "cell_type": "code",
   "execution_count": 17,
   "id": "4402cbac",
   "metadata": {
    "execution": {
     "iopub.execute_input": "2022-01-20T06:14:17.517930Z",
     "iopub.status.busy": "2022-01-20T06:14:17.517236Z",
     "iopub.status.idle": "2022-01-20T06:14:17.520270Z",
     "shell.execute_reply": "2022-01-20T06:14:17.520751Z",
     "shell.execute_reply.started": "2022-01-20T05:52:14.055412Z"
    },
    "papermill": {
     "duration": 0.043316,
     "end_time": "2022-01-20T06:14:17.520941",
     "exception": false,
     "start_time": "2022-01-20T06:14:17.477625",
     "status": "completed"
    },
    "tags": []
   },
   "outputs": [
    {
     "data": {
      "text/html": [
       "<div>\n",
       "<style scoped>\n",
       "    .dataframe tbody tr th:only-of-type {\n",
       "        vertical-align: middle;\n",
       "    }\n",
       "\n",
       "    .dataframe tbody tr th {\n",
       "        vertical-align: top;\n",
       "    }\n",
       "\n",
       "    .dataframe thead th {\n",
       "        text-align: right;\n",
       "    }\n",
       "</style>\n",
       "<table border=\"1\" class=\"dataframe\">\n",
       "  <thead>\n",
       "    <tr style=\"text-align: right;\">\n",
       "      <th></th>\n",
       "      <th>actual</th>\n",
       "      <th>prediction</th>\n",
       "      <th>abs error</th>\n",
       "    </tr>\n",
       "  </thead>\n",
       "  <tbody>\n",
       "    <tr>\n",
       "      <th>0</th>\n",
       "      <td>116969</td>\n",
       "      <td>110576.917063</td>\n",
       "      <td>6392.082937</td>\n",
       "    </tr>\n",
       "    <tr>\n",
       "      <th>1</th>\n",
       "      <td>57081</td>\n",
       "      <td>64251.572689</td>\n",
       "      <td>7170.572689</td>\n",
       "    </tr>\n",
       "    <tr>\n",
       "      <th>2</th>\n",
       "      <td>109431</td>\n",
       "      <td>103713.903082</td>\n",
       "      <td>5717.096918</td>\n",
       "    </tr>\n",
       "    <tr>\n",
       "      <th>3</th>\n",
       "      <td>98273</td>\n",
       "      <td>89987.875119</td>\n",
       "      <td>8285.124881</td>\n",
       "    </tr>\n",
       "    <tr>\n",
       "      <th>4</th>\n",
       "      <td>67938</td>\n",
       "      <td>71114.586670</td>\n",
       "      <td>3176.586670</td>\n",
       "    </tr>\n",
       "    <tr>\n",
       "      <th>5</th>\n",
       "      <td>121872</td>\n",
       "      <td>119155.684540</td>\n",
       "      <td>2716.315460</td>\n",
       "    </tr>\n",
       "    <tr>\n",
       "      <th>6</th>\n",
       "      <td>93940</td>\n",
       "      <td>80551.230895</td>\n",
       "      <td>13388.769105</td>\n",
       "    </tr>\n",
       "  </tbody>\n",
       "</table>\n",
       "</div>"
      ],
      "text/plain": [
       "   actual     prediction    abs error \n",
       "0  116969  110576.917063   6392.082937\n",
       "1   57081   64251.572689   7170.572689\n",
       "2  109431  103713.903082   5717.096918\n",
       "3   98273   89987.875119   8285.124881\n",
       "4   67938   71114.586670   3176.586670\n",
       "5  121872  119155.684540   2716.315460\n",
       "6   93940   80551.230895  13388.769105"
      ]
     },
     "execution_count": 17,
     "metadata": {},
     "output_type": "execute_result"
    }
   ],
   "source": [
    "inference = pd.DataFrame ({\"actual\":y_test,\"prediction\":y_preds,\"abs error \": np.abs(y_test-y_preds)})\n",
    "inference"
   ]
  },
  {
   "cell_type": "code",
   "execution_count": 18,
   "id": "2acbb944",
   "metadata": {
    "execution": {
     "iopub.execute_input": "2022-01-20T06:14:17.583286Z",
     "iopub.status.busy": "2022-01-20T06:14:17.582640Z",
     "iopub.status.idle": "2022-01-20T06:14:18.005210Z",
     "shell.execute_reply": "2022-01-20T06:14:18.004587Z",
     "shell.execute_reply.started": "2022-01-20T05:53:06.869773Z"
    },
    "papermill": {
     "duration": 0.454888,
     "end_time": "2022-01-20T06:14:18.005382",
     "exception": false,
     "start_time": "2022-01-20T06:14:17.550494",
     "status": "completed"
    },
    "tags": []
   },
   "outputs": [
    {
     "data": {
      "text/plain": [
       "<matplotlib.collections.PathCollection at 0x7f96b27d70d0>"
      ]
     },
     "execution_count": 18,
     "metadata": {},
     "output_type": "execute_result"
    },
    {
     "data": {
      "image/png": "[encoded data removed]",
      "text/plain": [
       "<Figure size 432x288 with 1 Axes>"
      ]
     },
     "metadata": {},
     "output_type": "display_data"
    }
   ],
   "source": [
    "plt.scatter(x=x_test,y=y_test, s= 50 ,label = 'actual', color= 'b')\n",
    "plt.scatter(x=x_test,y=y_preds, s = 70 , label = 'predicted', marker = '^', color = 'r')"
   ]
  },
  {
   "cell_type": "code",
   "execution_count": 19,
   "id": "cecfc6db",
   "metadata": {
    "execution": {
     "iopub.execute_input": "2022-01-20T06:14:18.075594Z",
     "iopub.status.busy": "2022-01-20T06:14:18.074812Z",
     "iopub.status.idle": "2022-01-20T06:14:18.079256Z",
     "shell.execute_reply": "2022-01-20T06:14:18.079900Z",
     "shell.execute_reply.started": "2022-01-20T05:53:10.616076Z"
    },
    "papermill": {
     "duration": 0.043074,
     "end_time": "2022-01-20T06:14:18.080117",
     "exception": false,
     "start_time": "2022-01-20T06:14:18.037043",
     "status": "completed"
    },
    "tags": []
   },
   "outputs": [
    {
     "name": "stdout",
     "output_type": "stream",
     "text": [
      "mean absolute error :  6692.364094497281\n",
      "mean squared error :  55761791.30626011\n",
      "root mean squared error :  81.80687070471087\n"
     ]
    }
   ],
   "source": [
    "from sklearn import metrics \n",
    "print('mean absolute error : ',metrics.mean_absolute_error(y_test,y_preds))\n",
    "print('mean squared error : ',metrics.mean_squared_error(y_test,y_preds))\n",
    "print('root mean squared error : ',np.sqrt(metrics.mean_absolute_error(y_test,y_preds)))"
   ]
  },
  {
   "cell_type": "code",
   "execution_count": 20,
   "id": "da779d90",
   "metadata": {
    "execution": {
     "iopub.execute_input": "2022-01-20T06:14:18.146537Z",
     "iopub.status.busy": "2022-01-20T06:14:18.145871Z",
     "iopub.status.idle": "2022-01-20T06:14:18.151320Z",
     "shell.execute_reply": "2022-01-20T06:14:18.151951Z",
     "shell.execute_reply.started": "2022-01-20T05:53:13.776507Z"
    },
    "papermill": {
     "duration": 0.039977,
     "end_time": "2022-01-20T06:14:18.152125",
     "exception": false,
     "start_time": "2022-01-20T06:14:18.112148",
     "status": "completed"
    },
    "tags": []
   },
   "outputs": [
    {
     "data": {
      "text/plain": [
       "0.891423414004278"
      ]
     },
     "execution_count": 20,
     "metadata": {},
     "output_type": "execute_result"
    }
   ],
   "source": [
    "from sklearn.metrics import r2_score\n",
    "r2_score(y_test,y_preds)"
   ]
  },
  {
   "cell_type": "markdown",
   "id": "eb16f4da",
   "metadata": {
    "papermill": {
     "duration": 0.031119,
     "end_time": "2022-01-20T06:14:18.214402",
     "exception": false,
     "start_time": "2022-01-20T06:14:18.183283",
     "status": "completed"
    },
    "tags": []
   },
   "source": [
    "# implementing gradient decent algorithm in Linear Regression \n"
   ]
  },
  {
   "cell_type": "code",
   "execution_count": 21,
   "id": "3291e88d",
   "metadata": {
    "execution": {
     "iopub.execute_input": "2022-01-20T06:14:18.279768Z",
     "iopub.status.busy": "2022-01-20T06:14:18.279133Z",
     "iopub.status.idle": "2022-01-20T06:14:18.530283Z",
     "shell.execute_reply": "2022-01-20T06:14:18.529503Z",
     "shell.execute_reply.started": "2022-01-20T05:53:16.221380Z"
    },
    "papermill": {
     "duration": 0.284931,
     "end_time": "2022-01-20T06:14:18.530457",
     "exception": false,
     "start_time": "2022-01-20T06:14:18.245526",
     "status": "completed"
    },
    "tags": []
   },
   "outputs": [
    {
     "data": {
      "image/png": "[encoded data removed]",
      "text/plain": [
       "<Figure size 432x288 with 1 Axes>"
      ]
     },
     "metadata": {},
     "output_type": "display_data"
    }
   ],
   "source": [
    "plt.scatter(x,y)\n",
    "plt.show()"
   ]
  },
  {
   "cell_type": "code",
   "execution_count": 22,
   "id": "281fe2f0",
   "metadata": {
    "execution": {
     "iopub.execute_input": "2022-01-20T06:14:18.604528Z",
     "iopub.status.busy": "2022-01-20T06:14:18.603760Z",
     "iopub.status.idle": "2022-01-20T06:14:18.607086Z",
     "shell.execute_reply": "2022-01-20T06:14:18.606383Z",
     "shell.execute_reply.started": "2022-01-20T06:12:58.601301Z"
    },
    "papermill": {
     "duration": 0.044772,
     "end_time": "2022-01-20T06:14:18.607233",
     "exception": false,
     "start_time": "2022-01-20T06:14:18.562461",
     "status": "completed"
    },
    "tags": []
   },
   "outputs": [],
   "source": [
    "import numpy as np\n",
    "\n",
    "class GradientDescentLinearRegression:\n",
    "    def __init__(self, learning_rate=0.01, iterations=1000):\n",
    "        self.learning_rate, self.iterations = learning_rate, iterations\n",
    "    \n",
    "    def fit(self, x, y):\n",
    "        b = 0\n",
    "        m = 5\n",
    "        n = x.shape[0]\n",
    "        for _ in range(self.iterations):\n",
    "            b_gradient = -2 * np.sum(y - m*x + b) / n\n",
    "            m_gradient = -2 * np.sum(x*(y - (m*x + b))) / n\n",
    "            b = b + (self.learning_rate * b_gradient)\n",
    "            m = m - (self.learning_rate * m_gradient)\n",
    "        self.m, self.b = m, b\n",
    "        \n",
    "    def predict(self, x):\n",
    "        return self.m*x + self.b"
   ]
  },
  {
   "cell_type": "code",
   "execution_count": 23,
   "id": "e38dd0cc",
   "metadata": {
    "execution": {
     "iopub.execute_input": "2022-01-20T06:14:18.678171Z",
     "iopub.status.busy": "2022-01-20T06:14:18.677438Z",
     "iopub.status.idle": "2022-01-20T06:14:18.679747Z",
     "shell.execute_reply": "2022-01-20T06:14:18.680375Z",
     "shell.execute_reply.started": "2022-01-20T06:13:01.643986Z"
    },
    "papermill": {
     "duration": 0.041239,
     "end_time": "2022-01-20T06:14:18.680548",
     "exception": false,
     "start_time": "2022-01-20T06:14:18.639309",
     "status": "completed"
    },
    "tags": []
   },
   "outputs": [],
   "source": [
    "np.random.seed(42)\n",
    "x = np.array(sorted(list(range(5))*20)) + np.random.normal(size=100, scale=0.5)\n",
    "y = np.array(sorted(list(range(5))*20)) + np.random.normal(size=100, scale=0.25)"
   ]
  },
  {
   "cell_type": "code",
   "execution_count": 24,
   "id": "f0e57343",
   "metadata": {
    "execution": {
     "iopub.execute_input": "2022-01-20T06:14:18.748221Z",
     "iopub.status.busy": "2022-01-20T06:14:18.747537Z",
     "iopub.status.idle": "2022-01-20T06:14:19.077430Z",
     "shell.execute_reply": "2022-01-20T06:14:19.076775Z",
     "shell.execute_reply.started": "2022-01-20T06:13:05.351115Z"
    },
    "papermill": {
     "duration": 0.36454,
     "end_time": "2022-01-20T06:14:19.077614",
     "exception": false,
     "start_time": "2022-01-20T06:14:18.713074",
     "status": "completed"
    },
    "tags": []
   },
   "outputs": [
    {
     "data": {
      "text/plain": [
       "Text(0.5, 1.0, 'Gradient Descent Linear Regressor')"
      ]
     },
     "execution_count": 24,
     "metadata": {},
     "output_type": "execute_result"
    },
    {
     "data": {
      "image/png": "[encoded data removed]",
      "text/plain": [
       "<Figure size 432x288 with 1 Axes>"
      ]
     },
     "metadata": {},
     "output_type": "display_data"
    }
   ],
   "source": [
    "clf = GradientDescentLinearRegression()\n",
    "clf.fit(x, y)\n",
    "\n",
    "import matplotlib.pyplot as plt\n",
    "plt.style.use('fivethirtyeight')\n",
    "\n",
    "plt.scatter(x, y, color='black')\n",
    "plt.plot(x, clf.predict(x))\n",
    "plt.gca().set_title(\"Gradient Descent Linear Regressor\")"
   ]
  }
 ],
 "metadata": {
  "kernelspec": {
   "display_name": "Python 3",
   "language": "python",
   "name": "python3"
  },
  "language_info": {
   "codemirror_mode": {
    "name": "ipython",
    "version": 3
   },
   "file_extension": ".py",
   "mimetype": "text/x-python",
   "name": "python",
   "nbconvert_exporter": "python",
   "pygments_lexer": "ipython3",
   "version": "3.7.12"
  },
  "papermill": {
   "default_parameters": {},
   "duration": 17.441985,
   "end_time": "2022-01-20T06:14:19.822370",
   "environment_variables": {},
   "exception": null,
   "input_path": "__notebook__.ipynb",
   "output_path": "__notebook__.ipynb",
   "parameters": {},
   "start_time": "2022-01-20T06:14:02.380385",
   "version": "2.3.3"
  }
 },
 "nbformat": 4,
 "nbformat_minor": 5
}
