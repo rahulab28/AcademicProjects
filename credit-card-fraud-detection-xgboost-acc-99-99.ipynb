{
 "cells": [
  {
   "cell_type": "code",
   "execution_count": 1,
   "id": "2640933b",
   "metadata": {
    "_cell_guid": "b1076dfc-b9ad-4769-8c92-a6c4dae69d19",
    "_uuid": "8f2839f25d086af736a60e9eeb907d3b93b6e0e5",
    "execution": {
     "iopub.execute_input": "2022-01-20T18:33:46.144260Z",
     "iopub.status.busy": "2022-01-20T18:33:46.143546Z",
     "iopub.status.idle": "2022-01-20T18:33:46.155425Z",
     "shell.execute_reply": "2022-01-20T18:33:46.154386Z",
     "shell.execute_reply.started": "2022-01-20T09:22:03.317434Z"
    },
    "papermill": {
     "duration": 0.045096,
     "end_time": "2022-01-20T18:33:46.155650",
     "exception": false,
     "start_time": "2022-01-20T18:33:46.110554",
     "status": "completed"
    },
    "tags": []
   },
   "outputs": [
    {
     "name": "stdout",
     "output_type": "stream",
     "text": [
      "/kaggle/input/creditcardfraud/creditcard.csv\n"
     ]
    }
   ],
   "source": [
    "# This Python 3 environment comes with many helpful analytics libraries installed\n",
    "# It is defined by the kaggle/python Docker image: https://github.com/kaggle/docker-python\n",
    "# For example, here's several helpful packages to load\n",
    "\n",
    "import numpy as np # linear algebra\n",
    "import pandas as pd # data processing, CSV file I/O (e.g. pd.read_csv)\n",
    "\n",
    "# Input data files are available in the read-only \"../input/\" directory\n",
    "# For example, running this (by clicking run or pressing Shift+Enter) will list all files under the input directory\n",
    "\n",
    "import os\n",
    "for dirname, _, filenames in os.walk('/kaggle/input'):\n",
    "    for filename in filenames:\n",
    "        print(os.path.join(dirname, filename))\n",
    "\n",
    "# You can write up to 20GB to the current directory (/kaggle/working/) that gets preserved as output when you create a version using \"Save & Run All\" \n",
    "# You can also write temporary files to /kaggle/temp/, but they won't be saved outside of the current session"
   ]
  },
  {
   "cell_type": "markdown",
   "id": "eda1e078",
   "metadata": {
    "papermill": {
     "duration": 0.021688,
     "end_time": "2022-01-20T18:33:46.200787",
     "exception": false,
     "start_time": "2022-01-20T18:33:46.179099",
     "status": "completed"
    },
    "tags": []
   },
   "source": [
    "# what is credit card fraud ?\n",
    "It is the type of transaction done by unauthorised party \n",
    "\n",
    "credit card fraud is a serious problem which one or less faced by each and every country around the globe. It is the matter of concern so proper steps is required to deal with the issue. Moreover it can be done by implementing machine learning algorithims and building model that can detect the fraudal transaction and track those cyber criminals and this ic called credit card fraud detection. \n",
    "\n",
    "# Problem statement - to detect credit card fraudal transaction.\n",
    "\n",
    "to deal with that we are using European card holders data set wherein v1,v2,v2 are the features which are already convert by PCA for confidential concern along with that we have two more columns ie time and amount. And using this we are trying to build our model. \n",
    "\n",
    "# steps which we will follow to deal the problem statement \n",
    "\n",
    "1. Reading and understaing data\n",
    "2. Visualization of data\n",
    "3. Standardization of columns if required \n",
    "4. Dealing with imbalance class using resampling technique (synthetic minority oversampling technique)\n",
    "5. Building model (XGboost classifier)\n",
    "6. Checking accuracy\n",
    "\n",
    "# what is boosting ?\n",
    "Boosting is an essential model which works on sequential process wherein, each subequent model attempts to correct error caused by previous model.Moreover, succeding model is dependent on the previous model. \n",
    "Basically it is a technique in which we are trying to creat numbers of weak learner and at the end we are combining the result of weak learner to build a strong model. \n",
    "\n",
    "# Tpyes of Boosting:\n",
    "1. Gradient boosting \n",
    "2. AdaGradient boosting\n",
    "3. XGboosting\n",
    "\n",
    "# XGboosting\n",
    "\n",
    "It is advance implementation of gradient descent algorithm. It is highly used boosting technique in Machine learninng. \n",
    "XGboost is 10 times faster than other gradient boosting technique. \n",
    "It also includes variety of regularizations which reduce overfitting and dimprove the overall performance of model. \n",
    "Following are the steps perfomed by XGboost\n",
    "1. Regularization\n",
    "2. Parallel processsing\n",
    "3. High fleibility \n",
    "4. Handling missing data \n",
    "5. Tree pruning\n",
    "6. Built in cross validation \n",
    "\n",
    "# what is imbalance data ?\n",
    "\n",
    "Imbalance data are those in which there is uneven distribution of observation among majority and minority class. Even though we are getting good accuracy that doesnt mean we are 100 perfect there is a chance of imbalance in the data set when it of data like fraud, diseases, defects etc. so to ensure our model is working perfectly we must calcuate F1 score and recall which give further clearence. \n",
    "\n",
    "# Technique to over come \n",
    "1. under sampling --> removing random records from the majority class, which can cause loss of information. \n",
    "2. over sampling --> is to duplicate records from minority class\n",
    "\n",
    "In our model we have used Oversampling with SMOTE(Synthetic Minority Oversampling Technique) --> in this technique randomly  point is picked from minority class futher, k nearest neigbhours are calcuted for that point and then synthetic points are added between the choosen points and its neighbours. \n",
    "\n",
    "\n"
   ]
  },
  {
   "cell_type": "code",
   "execution_count": 2,
   "id": "85e11db1",
   "metadata": {
    "execution": {
     "iopub.execute_input": "2022-01-20T18:33:46.248497Z",
     "iopub.status.busy": "2022-01-20T18:33:46.246183Z",
     "iopub.status.idle": "2022-01-20T18:33:50.475095Z",
     "shell.execute_reply": "2022-01-20T18:33:50.474519Z",
     "shell.execute_reply.started": "2022-01-20T09:22:08.984863Z"
    },
    "papermill": {
     "duration": 4.253209,
     "end_time": "2022-01-20T18:33:50.475244",
     "exception": false,
     "start_time": "2022-01-20T18:33:46.222035",
     "status": "completed"
    },
    "tags": []
   },
   "outputs": [],
   "source": [
    "# to read the data set\n",
    "df=pd.read_csv('../input/creditcardfraud/creditcard.csv')"
   ]
  },
  {
   "cell_type": "markdown",
   "id": "32d38280",
   "metadata": {
    "papermill": {
     "duration": 0.020962,
     "end_time": "2022-01-20T18:33:50.518318",
     "exception": false,
     "start_time": "2022-01-20T18:33:50.497356",
     "status": "completed"
    },
    "tags": []
   },
   "source": [
    "# data reading and understanding "
   ]
  },
  {
   "cell_type": "code",
   "execution_count": 3,
   "id": "339b5afd",
   "metadata": {
    "execution": {
     "iopub.execute_input": "2022-01-20T18:33:50.564584Z",
     "iopub.status.busy": "2022-01-20T18:33:50.563919Z",
     "iopub.status.idle": "2022-01-20T18:33:50.570191Z",
     "shell.execute_reply": "2022-01-20T18:33:50.570770Z",
     "shell.execute_reply.started": "2022-01-20T09:22:35.100668Z"
    },
    "papermill": {
     "duration": 0.031122,
     "end_time": "2022-01-20T18:33:50.570941",
     "exception": false,
     "start_time": "2022-01-20T18:33:50.539819",
     "status": "completed"
    },
    "tags": []
   },
   "outputs": [
    {
     "data": {
      "text/plain": [
       "(284807, 31)"
      ]
     },
     "execution_count": 3,
     "metadata": {},
     "output_type": "execute_result"
    }
   ],
   "source": [
    "#check the rows and columns in data set \n",
    "df.shape"
   ]
  },
  {
   "cell_type": "code",
   "execution_count": 4,
   "id": "25d42ae4",
   "metadata": {
    "execution": {
     "iopub.execute_input": "2022-01-20T18:33:50.624104Z",
     "iopub.status.busy": "2022-01-20T18:33:50.617322Z",
     "iopub.status.idle": "2022-01-20T18:33:50.668443Z",
     "shell.execute_reply": "2022-01-20T18:33:50.667896Z",
     "shell.execute_reply.started": "2022-01-20T09:22:45.931651Z"
    },
    "papermill": {
     "duration": 0.075786,
     "end_time": "2022-01-20T18:33:50.668585",
     "exception": false,
     "start_time": "2022-01-20T18:33:50.592799",
     "status": "completed"
    },
    "tags": []
   },
   "outputs": [
    {
     "name": "stdout",
     "output_type": "stream",
     "text": [
      "<class 'pandas.core.frame.DataFrame'>\n",
      "RangeIndex: 284807 entries, 0 to 284806\n",
      "Data columns (total 31 columns):\n",
      " #   Column  Non-Null Count   Dtype  \n",
      "---  ------  --------------   -----  \n",
      " 0   Time    284807 non-null  float64\n",
      " 1   V1      284807 non-null  float64\n",
      " 2   V2      284807 non-null  float64\n",
      " 3   V3      284807 non-null  float64\n",
      " 4   V4      284807 non-null  float64\n",
      " 5   V5      284807 non-null  float64\n",
      " 6   V6      284807 non-null  float64\n",
      " 7   V7      284807 non-null  float64\n",
      " 8   V8      284807 non-null  float64\n",
      " 9   V9      284807 non-null  float64\n",
      " 10  V10     284807 non-null  float64\n",
      " 11  V11     284807 non-null  float64\n",
      " 12  V12     284807 non-null  float64\n",
      " 13  V13     284807 non-null  float64\n",
      " 14  V14     284807 non-null  float64\n",
      " 15  V15     284807 non-null  float64\n",
      " 16  V16     284807 non-null  float64\n",
      " 17  V17     284807 non-null  float64\n",
      " 18  V18     284807 non-null  float64\n",
      " 19  V19     284807 non-null  float64\n",
      " 20  V20     284807 non-null  float64\n",
      " 21  V21     284807 non-null  float64\n",
      " 22  V22     284807 non-null  float64\n",
      " 23  V23     284807 non-null  float64\n",
      " 24  V24     284807 non-null  float64\n",
      " 25  V25     284807 non-null  float64\n",
      " 26  V26     284807 non-null  float64\n",
      " 27  V27     284807 non-null  float64\n",
      " 28  V28     284807 non-null  float64\n",
      " 29  Amount  284807 non-null  float64\n",
      " 30  Class   284807 non-null  int64  \n",
      "dtypes: float64(30), int64(1)\n",
      "memory usage: 67.4 MB\n"
     ]
    }
   ],
   "source": [
    "# it gives detailed information about the data set starting from info about column name total rows in data total no of information in data set\n",
    "# information about data types, null values etc. \n",
    "df.info()"
   ]
  },
  {
   "cell_type": "code",
   "execution_count": 5,
   "id": "d521ffd9",
   "metadata": {
    "execution": {
     "iopub.execute_input": "2022-01-20T18:33:50.716501Z",
     "iopub.status.busy": "2022-01-20T18:33:50.715827Z",
     "iopub.status.idle": "2022-01-20T18:33:50.748433Z",
     "shell.execute_reply": "2022-01-20T18:33:50.747888Z",
     "shell.execute_reply.started": "2022-01-20T09:22:54.818626Z"
    },
    "papermill": {
     "duration": 0.057605,
     "end_time": "2022-01-20T18:33:50.748568",
     "exception": false,
     "start_time": "2022-01-20T18:33:50.690963",
     "status": "completed"
    },
    "tags": []
   },
   "outputs": [
    {
     "data": {
      "text/html": [
       "<div>\n",
       "<style scoped>\n",
       "    .dataframe tbody tr th:only-of-type {\n",
       "        vertical-align: middle;\n",
       "    }\n",
       "\n",
       "    .dataframe tbody tr th {\n",
       "        vertical-align: top;\n",
       "    }\n",
       "\n",
       "    .dataframe thead th {\n",
       "        text-align: right;\n",
       "    }\n",
       "</style>\n",
       "<table border=\"1\" class=\"dataframe\">\n",
       "  <thead>\n",
       "    <tr style=\"text-align: right;\">\n",
       "      <th></th>\n",
       "      <th>Time</th>\n",
       "      <th>V1</th>\n",
       "      <th>V2</th>\n",
       "      <th>V3</th>\n",
       "      <th>V4</th>\n",
       "      <th>V5</th>\n",
       "      <th>V6</th>\n",
       "      <th>V7</th>\n",
       "      <th>V8</th>\n",
       "      <th>V9</th>\n",
       "      <th>...</th>\n",
       "      <th>V21</th>\n",
       "      <th>V22</th>\n",
       "      <th>V23</th>\n",
       "      <th>V24</th>\n",
       "      <th>V25</th>\n",
       "      <th>V26</th>\n",
       "      <th>V27</th>\n",
       "      <th>V28</th>\n",
       "      <th>Amount</th>\n",
       "      <th>Class</th>\n",
       "    </tr>\n",
       "  </thead>\n",
       "  <tbody>\n",
       "    <tr>\n",
       "      <th>0</th>\n",
       "      <td>0.0</td>\n",
       "      <td>-1.359807</td>\n",
       "      <td>-0.072781</td>\n",
       "      <td>2.536347</td>\n",
       "      <td>1.378155</td>\n",
       "      <td>-0.338321</td>\n",
       "      <td>0.462388</td>\n",
       "      <td>0.239599</td>\n",
       "      <td>0.098698</td>\n",
       "      <td>0.363787</td>\n",
       "      <td>...</td>\n",
       "      <td>-0.018307</td>\n",
       "      <td>0.277838</td>\n",
       "      <td>-0.110474</td>\n",
       "      <td>0.066928</td>\n",
       "      <td>0.128539</td>\n",
       "      <td>-0.189115</td>\n",
       "      <td>0.133558</td>\n",
       "      <td>-0.021053</td>\n",
       "      <td>149.62</td>\n",
       "      <td>0</td>\n",
       "    </tr>\n",
       "    <tr>\n",
       "      <th>1</th>\n",
       "      <td>0.0</td>\n",
       "      <td>1.191857</td>\n",
       "      <td>0.266151</td>\n",
       "      <td>0.166480</td>\n",
       "      <td>0.448154</td>\n",
       "      <td>0.060018</td>\n",
       "      <td>-0.082361</td>\n",
       "      <td>-0.078803</td>\n",
       "      <td>0.085102</td>\n",
       "      <td>-0.255425</td>\n",
       "      <td>...</td>\n",
       "      <td>-0.225775</td>\n",
       "      <td>-0.638672</td>\n",
       "      <td>0.101288</td>\n",
       "      <td>-0.339846</td>\n",
       "      <td>0.167170</td>\n",
       "      <td>0.125895</td>\n",
       "      <td>-0.008983</td>\n",
       "      <td>0.014724</td>\n",
       "      <td>2.69</td>\n",
       "      <td>0</td>\n",
       "    </tr>\n",
       "    <tr>\n",
       "      <th>2</th>\n",
       "      <td>1.0</td>\n",
       "      <td>-1.358354</td>\n",
       "      <td>-1.340163</td>\n",
       "      <td>1.773209</td>\n",
       "      <td>0.379780</td>\n",
       "      <td>-0.503198</td>\n",
       "      <td>1.800499</td>\n",
       "      <td>0.791461</td>\n",
       "      <td>0.247676</td>\n",
       "      <td>-1.514654</td>\n",
       "      <td>...</td>\n",
       "      <td>0.247998</td>\n",
       "      <td>0.771679</td>\n",
       "      <td>0.909412</td>\n",
       "      <td>-0.689281</td>\n",
       "      <td>-0.327642</td>\n",
       "      <td>-0.139097</td>\n",
       "      <td>-0.055353</td>\n",
       "      <td>-0.059752</td>\n",
       "      <td>378.66</td>\n",
       "      <td>0</td>\n",
       "    </tr>\n",
       "    <tr>\n",
       "      <th>3</th>\n",
       "      <td>1.0</td>\n",
       "      <td>-0.966272</td>\n",
       "      <td>-0.185226</td>\n",
       "      <td>1.792993</td>\n",
       "      <td>-0.863291</td>\n",
       "      <td>-0.010309</td>\n",
       "      <td>1.247203</td>\n",
       "      <td>0.237609</td>\n",
       "      <td>0.377436</td>\n",
       "      <td>-1.387024</td>\n",
       "      <td>...</td>\n",
       "      <td>-0.108300</td>\n",
       "      <td>0.005274</td>\n",
       "      <td>-0.190321</td>\n",
       "      <td>-1.175575</td>\n",
       "      <td>0.647376</td>\n",
       "      <td>-0.221929</td>\n",
       "      <td>0.062723</td>\n",
       "      <td>0.061458</td>\n",
       "      <td>123.50</td>\n",
       "      <td>0</td>\n",
       "    </tr>\n",
       "    <tr>\n",
       "      <th>4</th>\n",
       "      <td>2.0</td>\n",
       "      <td>-1.158233</td>\n",
       "      <td>0.877737</td>\n",
       "      <td>1.548718</td>\n",
       "      <td>0.403034</td>\n",
       "      <td>-0.407193</td>\n",
       "      <td>0.095921</td>\n",
       "      <td>0.592941</td>\n",
       "      <td>-0.270533</td>\n",
       "      <td>0.817739</td>\n",
       "      <td>...</td>\n",
       "      <td>-0.009431</td>\n",
       "      <td>0.798278</td>\n",
       "      <td>-0.137458</td>\n",
       "      <td>0.141267</td>\n",
       "      <td>-0.206010</td>\n",
       "      <td>0.502292</td>\n",
       "      <td>0.219422</td>\n",
       "      <td>0.215153</td>\n",
       "      <td>69.99</td>\n",
       "      <td>0</td>\n",
       "    </tr>\n",
       "  </tbody>\n",
       "</table>\n",
       "<p>5 rows × 31 columns</p>\n",
       "</div>"
      ],
      "text/plain": [
       "   Time        V1        V2        V3        V4        V5        V6        V7  \\\n",
       "0   0.0 -1.359807 -0.072781  2.536347  1.378155 -0.338321  0.462388  0.239599   \n",
       "1   0.0  1.191857  0.266151  0.166480  0.448154  0.060018 -0.082361 -0.078803   \n",
       "2   1.0 -1.358354 -1.340163  1.773209  0.379780 -0.503198  1.800499  0.791461   \n",
       "3   1.0 -0.966272 -0.185226  1.792993 -0.863291 -0.010309  1.247203  0.237609   \n",
       "4   2.0 -1.158233  0.877737  1.548718  0.403034 -0.407193  0.095921  0.592941   \n",
       "\n",
       "         V8        V9  ...       V21       V22       V23       V24       V25  \\\n",
       "0  0.098698  0.363787  ... -0.018307  0.277838 -0.110474  0.066928  0.128539   \n",
       "1  0.085102 -0.255425  ... -0.225775 -0.638672  0.101288 -0.339846  0.167170   \n",
       "2  0.247676 -1.514654  ...  0.247998  0.771679  0.909412 -0.689281 -0.327642   \n",
       "3  0.377436 -1.387024  ... -0.108300  0.005274 -0.190321 -1.175575  0.647376   \n",
       "4 -0.270533  0.817739  ... -0.009431  0.798278 -0.137458  0.141267 -0.206010   \n",
       "\n",
       "        V26       V27       V28  Amount  Class  \n",
       "0 -0.189115  0.133558 -0.021053  149.62      0  \n",
       "1  0.125895 -0.008983  0.014724    2.69      0  \n",
       "2 -0.139097 -0.055353 -0.059752  378.66      0  \n",
       "3 -0.221929  0.062723  0.061458  123.50      0  \n",
       "4  0.502292  0.219422  0.215153   69.99      0  \n",
       "\n",
       "[5 rows x 31 columns]"
      ]
     },
     "execution_count": 5,
     "metadata": {},
     "output_type": "execute_result"
    }
   ],
   "source": [
    "# this function is used to display top 5 values of data untill we are specifying some value like head(10) it will give top 10 value and just \n",
    "# oppsite to this function is tail () function it give last 5 values until we specify some values \n",
    "df.head()"
   ]
  },
  {
   "cell_type": "code",
   "execution_count": 6,
   "id": "1150ba90",
   "metadata": {
    "execution": {
     "iopub.execute_input": "2022-01-20T18:33:50.798045Z",
     "iopub.status.busy": "2022-01-20T18:33:50.797314Z",
     "iopub.status.idle": "2022-01-20T18:33:50.826154Z",
     "shell.execute_reply": "2022-01-20T18:33:50.825499Z",
     "shell.execute_reply.started": "2022-01-20T09:25:08.668368Z"
    },
    "papermill": {
     "duration": 0.054905,
     "end_time": "2022-01-20T18:33:50.826299",
     "exception": false,
     "start_time": "2022-01-20T18:33:50.771394",
     "status": "completed"
    },
    "tags": []
   },
   "outputs": [
    {
     "data": {
      "text/plain": [
       "Time      0\n",
       "V1        0\n",
       "V2        0\n",
       "V3        0\n",
       "V4        0\n",
       "V5        0\n",
       "V6        0\n",
       "V7        0\n",
       "V8        0\n",
       "V9        0\n",
       "V10       0\n",
       "V11       0\n",
       "V12       0\n",
       "V13       0\n",
       "V14       0\n",
       "V15       0\n",
       "V16       0\n",
       "V17       0\n",
       "V18       0\n",
       "V19       0\n",
       "V20       0\n",
       "V21       0\n",
       "V22       0\n",
       "V23       0\n",
       "V24       0\n",
       "V25       0\n",
       "V26       0\n",
       "V27       0\n",
       "V28       0\n",
       "Amount    0\n",
       "Class     0\n",
       "dtype: int64"
      ]
     },
     "execution_count": 6,
     "metadata": {},
     "output_type": "execute_result"
    }
   ],
   "source": [
    "# to check whether there is some missing values in the data set \n",
    "df.isnull().sum()"
   ]
  },
  {
   "cell_type": "markdown",
   "id": "33977449",
   "metadata": {
    "papermill": {
     "duration": 0.024424,
     "end_time": "2022-01-20T18:33:50.875534",
     "exception": false,
     "start_time": "2022-01-20T18:33:50.851110",
     "status": "completed"
    },
    "tags": []
   },
   "source": [
    "# data visualization \n"
   ]
  },
  {
   "cell_type": "code",
   "execution_count": 7,
   "id": "7f579db1",
   "metadata": {
    "execution": {
     "iopub.execute_input": "2022-01-20T18:33:50.925350Z",
     "iopub.status.busy": "2022-01-20T18:33:50.924716Z",
     "iopub.status.idle": "2022-01-20T18:33:52.173264Z",
     "shell.execute_reply": "2022-01-20T18:33:52.172650Z",
     "shell.execute_reply.started": "2022-01-20T09:27:38.591314Z"
    },
    "papermill": {
     "duration": 1.274554,
     "end_time": "2022-01-20T18:33:52.173417",
     "exception": false,
     "start_time": "2022-01-20T18:33:50.898863",
     "status": "completed"
    },
    "tags": []
   },
   "outputs": [
    {
     "name": "stdout",
     "output_type": "stream",
     "text": [
      "CASE COUNT\n",
      "--------------------------------------------\n",
      "Total number of cases are 284807\n",
      "Number of Non-fraud cases are 284315\n",
      "Number of fraud cases are 492\n",
      "Percentage of Non-fraud cases is 99.82725143693798 % of total\n",
      "Percentage of fraud cases is 0.1727485630620034 % of total\n"
     ]
    },
    {
     "name": "stderr",
     "output_type": "stream",
     "text": [
      "/opt/conda/lib/python3.7/site-packages/seaborn/_decorators.py:43: FutureWarning: Pass the following variables as keyword args: x, y. From version 0.12, the only valid positional argument will be `data`, and passing other arguments without an explicit keyword will result in an error or misinterpretation.\n",
      "  FutureWarning\n"
     ]
    },
    {
     "data": {
      "text/plain": [
       "Text(0, 0.5, 'samples')"
      ]
     },
     "execution_count": 7,
     "metadata": {},
     "output_type": "execute_result"
    },
    {
     "data": {
      "image/png": "[encoded data removed]",
      "text/plain": [
       "<Figure size 432x288 with 1 Axes>"
      ]
     },
     "metadata": {
      "needs_background": "light"
     },
     "output_type": "display_data"
    }
   ],
   "source": [
    "# here we are trying to understand the distribution of oservation in class column are it is a data set related to fraud so there is chance of \n",
    "# imbalance of observation in the column \n",
    "\n",
    "import matplotlib.pyplot as plt\n",
    "import seaborn as sns\n",
    "fraud_count = len(df[df.Class == 1])\n",
    "none_fraud_count = len(df[df.Class == 0])\n",
    "\n",
    "print('CASE COUNT')\n",
    "print('--------------------------------------------')\n",
    "print('Total number of cases are {}'.format(len(df)))\n",
    "print('Number of Non-fraud cases are {}'.format(none_fraud_count))\n",
    "print('Number of fraud cases are {}'.format(fraud_count))\n",
    "\n",
    "print('Percentage of Non-fraud cases is {} % of total'.format((none_fraud_count/len(df['Class'])*100)))\n",
    "\n",
    "print('Percentage of fraud cases is {} % of total'.format((fraud_count/len(df['Class'])*100)))\n",
    "\n",
    "\n",
    "x=df.Class.value_counts()\n",
    "sns.barplot(x.index,x)\n",
    "plt.gca().set_ylabel('samples')"
   ]
  },
  {
   "cell_type": "markdown",
   "id": "e671ff97",
   "metadata": {
    "papermill": {
     "duration": 0.024298,
     "end_time": "2022-01-20T18:33:52.222419",
     "exception": false,
     "start_time": "2022-01-20T18:33:52.198121",
     "status": "completed"
    },
    "tags": []
   },
   "source": [
    "from the above barplot we can confidently add that there is a imbalance in the data set here percentage of majority class is 99.83% whereas percentage of minority is only 0.17% so there is a huge imbalanace in the data set and it need to be adressed in order to get accuracy percission and better performance. "
   ]
  },
  {
   "cell_type": "code",
   "execution_count": 8,
   "id": "513d65f9",
   "metadata": {
    "execution": {
     "iopub.execute_input": "2022-01-20T18:33:52.275603Z",
     "iopub.status.busy": "2022-01-20T18:33:52.274621Z",
     "iopub.status.idle": "2022-01-20T18:33:52.310108Z",
     "shell.execute_reply": "2022-01-20T18:33:52.310595Z",
     "shell.execute_reply.started": "2022-01-20T09:28:04.371240Z"
    },
    "papermill": {
     "duration": 0.06373,
     "end_time": "2022-01-20T18:33:52.310792",
     "exception": false,
     "start_time": "2022-01-20T18:33:52.247062",
     "status": "completed"
    },
    "tags": []
   },
   "outputs": [],
   "source": [
    "nonfraud_cases = df[df.Class == 0]\n",
    "fraud_cases = df[df.Class == 1]"
   ]
  },
  {
   "cell_type": "code",
   "execution_count": 9,
   "id": "257c25d7",
   "metadata": {
    "execution": {
     "iopub.execute_input": "2022-01-20T18:33:52.404250Z",
     "iopub.status.busy": "2022-01-20T18:33:52.403203Z",
     "iopub.status.idle": "2022-01-20T18:33:52.795340Z",
     "shell.execute_reply": "2022-01-20T18:33:52.795861Z",
     "shell.execute_reply.started": "2022-01-20T09:28:15.226380Z"
    },
    "papermill": {
     "duration": 0.460755,
     "end_time": "2022-01-20T18:33:52.796031",
     "exception": false,
     "start_time": "2022-01-20T18:33:52.335276",
     "status": "completed"
    },
    "tags": []
   },
   "outputs": [
    {
     "data": {
      "text/html": [
       "<div>\n",
       "<style scoped>\n",
       "    .dataframe tbody tr th:only-of-type {\n",
       "        vertical-align: middle;\n",
       "    }\n",
       "\n",
       "    .dataframe tbody tr th {\n",
       "        vertical-align: top;\n",
       "    }\n",
       "\n",
       "    .dataframe thead th {\n",
       "        text-align: right;\n",
       "    }\n",
       "</style>\n",
       "<table border=\"1\" class=\"dataframe\">\n",
       "  <thead>\n",
       "    <tr style=\"text-align: right;\">\n",
       "      <th></th>\n",
       "      <th>Time</th>\n",
       "      <th>V1</th>\n",
       "      <th>V2</th>\n",
       "      <th>V3</th>\n",
       "      <th>V4</th>\n",
       "      <th>V5</th>\n",
       "      <th>V6</th>\n",
       "      <th>V7</th>\n",
       "      <th>V8</th>\n",
       "      <th>V9</th>\n",
       "      <th>...</th>\n",
       "      <th>V21</th>\n",
       "      <th>V22</th>\n",
       "      <th>V23</th>\n",
       "      <th>V24</th>\n",
       "      <th>V25</th>\n",
       "      <th>V26</th>\n",
       "      <th>V27</th>\n",
       "      <th>V28</th>\n",
       "      <th>Amount</th>\n",
       "      <th>Class</th>\n",
       "    </tr>\n",
       "  </thead>\n",
       "  <tbody>\n",
       "    <tr>\n",
       "      <th>count</th>\n",
       "      <td>284315.000000</td>\n",
       "      <td>284315.000000</td>\n",
       "      <td>284315.000000</td>\n",
       "      <td>284315.000000</td>\n",
       "      <td>284315.000000</td>\n",
       "      <td>284315.000000</td>\n",
       "      <td>284315.000000</td>\n",
       "      <td>284315.000000</td>\n",
       "      <td>284315.000000</td>\n",
       "      <td>284315.000000</td>\n",
       "      <td>...</td>\n",
       "      <td>284315.000000</td>\n",
       "      <td>284315.000000</td>\n",
       "      <td>284315.000000</td>\n",
       "      <td>284315.000000</td>\n",
       "      <td>284315.000000</td>\n",
       "      <td>284315.000000</td>\n",
       "      <td>284315.000000</td>\n",
       "      <td>284315.000000</td>\n",
       "      <td>284315.000000</td>\n",
       "      <td>284315.0</td>\n",
       "    </tr>\n",
       "    <tr>\n",
       "      <th>mean</th>\n",
       "      <td>94838.202258</td>\n",
       "      <td>0.008258</td>\n",
       "      <td>-0.006271</td>\n",
       "      <td>0.012171</td>\n",
       "      <td>-0.007860</td>\n",
       "      <td>0.005453</td>\n",
       "      <td>0.002419</td>\n",
       "      <td>0.009637</td>\n",
       "      <td>-0.000987</td>\n",
       "      <td>0.004467</td>\n",
       "      <td>...</td>\n",
       "      <td>-0.001235</td>\n",
       "      <td>-0.000024</td>\n",
       "      <td>0.000070</td>\n",
       "      <td>0.000182</td>\n",
       "      <td>-0.000072</td>\n",
       "      <td>-0.000089</td>\n",
       "      <td>-0.000295</td>\n",
       "      <td>-0.000131</td>\n",
       "      <td>88.291022</td>\n",
       "      <td>0.0</td>\n",
       "    </tr>\n",
       "    <tr>\n",
       "      <th>std</th>\n",
       "      <td>47484.015786</td>\n",
       "      <td>1.929814</td>\n",
       "      <td>1.636146</td>\n",
       "      <td>1.459429</td>\n",
       "      <td>1.399333</td>\n",
       "      <td>1.356952</td>\n",
       "      <td>1.329913</td>\n",
       "      <td>1.178812</td>\n",
       "      <td>1.161283</td>\n",
       "      <td>1.089372</td>\n",
       "      <td>...</td>\n",
       "      <td>0.716743</td>\n",
       "      <td>0.723668</td>\n",
       "      <td>0.621541</td>\n",
       "      <td>0.605776</td>\n",
       "      <td>0.520673</td>\n",
       "      <td>0.482241</td>\n",
       "      <td>0.399847</td>\n",
       "      <td>0.329570</td>\n",
       "      <td>250.105092</td>\n",
       "      <td>0.0</td>\n",
       "    </tr>\n",
       "    <tr>\n",
       "      <th>min</th>\n",
       "      <td>0.000000</td>\n",
       "      <td>-56.407510</td>\n",
       "      <td>-72.715728</td>\n",
       "      <td>-48.325589</td>\n",
       "      <td>-5.683171</td>\n",
       "      <td>-113.743307</td>\n",
       "      <td>-26.160506</td>\n",
       "      <td>-31.764946</td>\n",
       "      <td>-73.216718</td>\n",
       "      <td>-6.290730</td>\n",
       "      <td>...</td>\n",
       "      <td>-34.830382</td>\n",
       "      <td>-10.933144</td>\n",
       "      <td>-44.807735</td>\n",
       "      <td>-2.836627</td>\n",
       "      <td>-10.295397</td>\n",
       "      <td>-2.604551</td>\n",
       "      <td>-22.565679</td>\n",
       "      <td>-15.430084</td>\n",
       "      <td>0.000000</td>\n",
       "      <td>0.0</td>\n",
       "    </tr>\n",
       "    <tr>\n",
       "      <th>25%</th>\n",
       "      <td>54230.000000</td>\n",
       "      <td>-0.917544</td>\n",
       "      <td>-0.599473</td>\n",
       "      <td>-0.884541</td>\n",
       "      <td>-0.850077</td>\n",
       "      <td>-0.689398</td>\n",
       "      <td>-0.766847</td>\n",
       "      <td>-0.551442</td>\n",
       "      <td>-0.208633</td>\n",
       "      <td>-0.640412</td>\n",
       "      <td>...</td>\n",
       "      <td>-0.228509</td>\n",
       "      <td>-0.542403</td>\n",
       "      <td>-0.161702</td>\n",
       "      <td>-0.354425</td>\n",
       "      <td>-0.317145</td>\n",
       "      <td>-0.327074</td>\n",
       "      <td>-0.070852</td>\n",
       "      <td>-0.052950</td>\n",
       "      <td>5.650000</td>\n",
       "      <td>0.0</td>\n",
       "    </tr>\n",
       "    <tr>\n",
       "      <th>50%</th>\n",
       "      <td>84711.000000</td>\n",
       "      <td>0.020023</td>\n",
       "      <td>0.064070</td>\n",
       "      <td>0.182158</td>\n",
       "      <td>-0.022405</td>\n",
       "      <td>-0.053457</td>\n",
       "      <td>-0.273123</td>\n",
       "      <td>0.041138</td>\n",
       "      <td>0.022041</td>\n",
       "      <td>-0.049964</td>\n",
       "      <td>...</td>\n",
       "      <td>-0.029821</td>\n",
       "      <td>0.006736</td>\n",
       "      <td>-0.011147</td>\n",
       "      <td>0.041082</td>\n",
       "      <td>0.016417</td>\n",
       "      <td>-0.052227</td>\n",
       "      <td>0.001230</td>\n",
       "      <td>0.011199</td>\n",
       "      <td>22.000000</td>\n",
       "      <td>0.0</td>\n",
       "    </tr>\n",
       "    <tr>\n",
       "      <th>75%</th>\n",
       "      <td>139333.000000</td>\n",
       "      <td>1.316218</td>\n",
       "      <td>0.800446</td>\n",
       "      <td>1.028372</td>\n",
       "      <td>0.737624</td>\n",
       "      <td>0.612181</td>\n",
       "      <td>0.399619</td>\n",
       "      <td>0.571019</td>\n",
       "      <td>0.326200</td>\n",
       "      <td>0.598230</td>\n",
       "      <td>...</td>\n",
       "      <td>0.185626</td>\n",
       "      <td>0.528407</td>\n",
       "      <td>0.147522</td>\n",
       "      <td>0.439869</td>\n",
       "      <td>0.350594</td>\n",
       "      <td>0.240671</td>\n",
       "      <td>0.090573</td>\n",
       "      <td>0.077962</td>\n",
       "      <td>77.050000</td>\n",
       "      <td>0.0</td>\n",
       "    </tr>\n",
       "    <tr>\n",
       "      <th>max</th>\n",
       "      <td>172792.000000</td>\n",
       "      <td>2.454930</td>\n",
       "      <td>18.902453</td>\n",
       "      <td>9.382558</td>\n",
       "      <td>16.875344</td>\n",
       "      <td>34.801666</td>\n",
       "      <td>73.301626</td>\n",
       "      <td>120.589494</td>\n",
       "      <td>18.709255</td>\n",
       "      <td>15.594995</td>\n",
       "      <td>...</td>\n",
       "      <td>22.614889</td>\n",
       "      <td>10.503090</td>\n",
       "      <td>22.528412</td>\n",
       "      <td>4.584549</td>\n",
       "      <td>7.519589</td>\n",
       "      <td>3.517346</td>\n",
       "      <td>31.612198</td>\n",
       "      <td>33.847808</td>\n",
       "      <td>25691.160000</td>\n",
       "      <td>0.0</td>\n",
       "    </tr>\n",
       "  </tbody>\n",
       "</table>\n",
       "<p>8 rows × 31 columns</p>\n",
       "</div>"
      ],
      "text/plain": [
       "                Time             V1             V2             V3  \\\n",
       "count  284315.000000  284315.000000  284315.000000  284315.000000   \n",
       "mean    94838.202258       0.008258      -0.006271       0.012171   \n",
       "std     47484.015786       1.929814       1.636146       1.459429   \n",
       "min         0.000000     -56.407510     -72.715728     -48.325589   \n",
       "25%     54230.000000      -0.917544      -0.599473      -0.884541   \n",
       "50%     84711.000000       0.020023       0.064070       0.182158   \n",
       "75%    139333.000000       1.316218       0.800446       1.028372   \n",
       "max    172792.000000       2.454930      18.902453       9.382558   \n",
       "\n",
       "                  V4             V5             V6             V7  \\\n",
       "count  284315.000000  284315.000000  284315.000000  284315.000000   \n",
       "mean       -0.007860       0.005453       0.002419       0.009637   \n",
       "std         1.399333       1.356952       1.329913       1.178812   \n",
       "min        -5.683171    -113.743307     -26.160506     -31.764946   \n",
       "25%        -0.850077      -0.689398      -0.766847      -0.551442   \n",
       "50%        -0.022405      -0.053457      -0.273123       0.041138   \n",
       "75%         0.737624       0.612181       0.399619       0.571019   \n",
       "max        16.875344      34.801666      73.301626     120.589494   \n",
       "\n",
       "                  V8             V9  ...            V21            V22  \\\n",
       "count  284315.000000  284315.000000  ...  284315.000000  284315.000000   \n",
       "mean       -0.000987       0.004467  ...      -0.001235      -0.000024   \n",
       "std         1.161283       1.089372  ...       0.716743       0.723668   \n",
       "min       -73.216718      -6.290730  ...     -34.830382     -10.933144   \n",
       "25%        -0.208633      -0.640412  ...      -0.228509      -0.542403   \n",
       "50%         0.022041      -0.049964  ...      -0.029821       0.006736   \n",
       "75%         0.326200       0.598230  ...       0.185626       0.528407   \n",
       "max        18.709255      15.594995  ...      22.614889      10.503090   \n",
       "\n",
       "                 V23            V24            V25            V26  \\\n",
       "count  284315.000000  284315.000000  284315.000000  284315.000000   \n",
       "mean        0.000070       0.000182      -0.000072      -0.000089   \n",
       "std         0.621541       0.605776       0.520673       0.482241   \n",
       "min       -44.807735      -2.836627     -10.295397      -2.604551   \n",
       "25%        -0.161702      -0.354425      -0.317145      -0.327074   \n",
       "50%        -0.011147       0.041082       0.016417      -0.052227   \n",
       "75%         0.147522       0.439869       0.350594       0.240671   \n",
       "max        22.528412       4.584549       7.519589       3.517346   \n",
       "\n",
       "                 V27            V28         Amount     Class  \n",
       "count  284315.000000  284315.000000  284315.000000  284315.0  \n",
       "mean       -0.000295      -0.000131      88.291022       0.0  \n",
       "std         0.399847       0.329570     250.105092       0.0  \n",
       "min       -22.565679     -15.430084       0.000000       0.0  \n",
       "25%        -0.070852      -0.052950       5.650000       0.0  \n",
       "50%         0.001230       0.011199      22.000000       0.0  \n",
       "75%         0.090573       0.077962      77.050000       0.0  \n",
       "max        31.612198      33.847808   25691.160000       0.0  \n",
       "\n",
       "[8 rows x 31 columns]"
      ]
     },
     "execution_count": 9,
     "metadata": {},
     "output_type": "execute_result"
    }
   ],
   "source": [
    "nonfraud_cases.describe()"
   ]
  },
  {
   "cell_type": "code",
   "execution_count": 10,
   "id": "db01e5ba",
   "metadata": {
    "execution": {
     "iopub.execute_input": "2022-01-20T18:33:52.850829Z",
     "iopub.status.busy": "2022-01-20T18:33:52.849797Z",
     "iopub.status.idle": "2022-01-20T18:33:52.935247Z",
     "shell.execute_reply": "2022-01-20T18:33:52.934719Z",
     "shell.execute_reply.started": "2022-01-20T09:28:27.440549Z"
    },
    "papermill": {
     "duration": 0.114389,
     "end_time": "2022-01-20T18:33:52.935385",
     "exception": false,
     "start_time": "2022-01-20T18:33:52.820996",
     "status": "completed"
    },
    "tags": []
   },
   "outputs": [
    {
     "data": {
      "text/html": [
       "<div>\n",
       "<style scoped>\n",
       "    .dataframe tbody tr th:only-of-type {\n",
       "        vertical-align: middle;\n",
       "    }\n",
       "\n",
       "    .dataframe tbody tr th {\n",
       "        vertical-align: top;\n",
       "    }\n",
       "\n",
       "    .dataframe thead th {\n",
       "        text-align: right;\n",
       "    }\n",
       "</style>\n",
       "<table border=\"1\" class=\"dataframe\">\n",
       "  <thead>\n",
       "    <tr style=\"text-align: right;\">\n",
       "      <th></th>\n",
       "      <th>Time</th>\n",
       "      <th>V1</th>\n",
       "      <th>V2</th>\n",
       "      <th>V3</th>\n",
       "      <th>V4</th>\n",
       "      <th>V5</th>\n",
       "      <th>V6</th>\n",
       "      <th>V7</th>\n",
       "      <th>V8</th>\n",
       "      <th>V9</th>\n",
       "      <th>...</th>\n",
       "      <th>V21</th>\n",
       "      <th>V22</th>\n",
       "      <th>V23</th>\n",
       "      <th>V24</th>\n",
       "      <th>V25</th>\n",
       "      <th>V26</th>\n",
       "      <th>V27</th>\n",
       "      <th>V28</th>\n",
       "      <th>Amount</th>\n",
       "      <th>Class</th>\n",
       "    </tr>\n",
       "  </thead>\n",
       "  <tbody>\n",
       "    <tr>\n",
       "      <th>count</th>\n",
       "      <td>492.000000</td>\n",
       "      <td>492.000000</td>\n",
       "      <td>492.000000</td>\n",
       "      <td>492.000000</td>\n",
       "      <td>492.000000</td>\n",
       "      <td>492.000000</td>\n",
       "      <td>492.000000</td>\n",
       "      <td>492.000000</td>\n",
       "      <td>492.000000</td>\n",
       "      <td>492.000000</td>\n",
       "      <td>...</td>\n",
       "      <td>492.000000</td>\n",
       "      <td>492.000000</td>\n",
       "      <td>492.000000</td>\n",
       "      <td>492.000000</td>\n",
       "      <td>492.000000</td>\n",
       "      <td>492.000000</td>\n",
       "      <td>492.000000</td>\n",
       "      <td>492.000000</td>\n",
       "      <td>492.000000</td>\n",
       "      <td>492.0</td>\n",
       "    </tr>\n",
       "    <tr>\n",
       "      <th>mean</th>\n",
       "      <td>80746.806911</td>\n",
       "      <td>-4.771948</td>\n",
       "      <td>3.623778</td>\n",
       "      <td>-7.033281</td>\n",
       "      <td>4.542029</td>\n",
       "      <td>-3.151225</td>\n",
       "      <td>-1.397737</td>\n",
       "      <td>-5.568731</td>\n",
       "      <td>0.570636</td>\n",
       "      <td>-2.581123</td>\n",
       "      <td>...</td>\n",
       "      <td>0.713588</td>\n",
       "      <td>0.014049</td>\n",
       "      <td>-0.040308</td>\n",
       "      <td>-0.105130</td>\n",
       "      <td>0.041449</td>\n",
       "      <td>0.051648</td>\n",
       "      <td>0.170575</td>\n",
       "      <td>0.075667</td>\n",
       "      <td>122.211321</td>\n",
       "      <td>1.0</td>\n",
       "    </tr>\n",
       "    <tr>\n",
       "      <th>std</th>\n",
       "      <td>47835.365138</td>\n",
       "      <td>6.783687</td>\n",
       "      <td>4.291216</td>\n",
       "      <td>7.110937</td>\n",
       "      <td>2.873318</td>\n",
       "      <td>5.372468</td>\n",
       "      <td>1.858124</td>\n",
       "      <td>7.206773</td>\n",
       "      <td>6.797831</td>\n",
       "      <td>2.500896</td>\n",
       "      <td>...</td>\n",
       "      <td>3.869304</td>\n",
       "      <td>1.494602</td>\n",
       "      <td>1.579642</td>\n",
       "      <td>0.515577</td>\n",
       "      <td>0.797205</td>\n",
       "      <td>0.471679</td>\n",
       "      <td>1.376766</td>\n",
       "      <td>0.547291</td>\n",
       "      <td>256.683288</td>\n",
       "      <td>0.0</td>\n",
       "    </tr>\n",
       "    <tr>\n",
       "      <th>min</th>\n",
       "      <td>406.000000</td>\n",
       "      <td>-30.552380</td>\n",
       "      <td>-8.402154</td>\n",
       "      <td>-31.103685</td>\n",
       "      <td>-1.313275</td>\n",
       "      <td>-22.105532</td>\n",
       "      <td>-6.406267</td>\n",
       "      <td>-43.557242</td>\n",
       "      <td>-41.044261</td>\n",
       "      <td>-13.434066</td>\n",
       "      <td>...</td>\n",
       "      <td>-22.797604</td>\n",
       "      <td>-8.887017</td>\n",
       "      <td>-19.254328</td>\n",
       "      <td>-2.028024</td>\n",
       "      <td>-4.781606</td>\n",
       "      <td>-1.152671</td>\n",
       "      <td>-7.263482</td>\n",
       "      <td>-1.869290</td>\n",
       "      <td>0.000000</td>\n",
       "      <td>1.0</td>\n",
       "    </tr>\n",
       "    <tr>\n",
       "      <th>25%</th>\n",
       "      <td>41241.500000</td>\n",
       "      <td>-6.036063</td>\n",
       "      <td>1.188226</td>\n",
       "      <td>-8.643489</td>\n",
       "      <td>2.373050</td>\n",
       "      <td>-4.792835</td>\n",
       "      <td>-2.501511</td>\n",
       "      <td>-7.965295</td>\n",
       "      <td>-0.195336</td>\n",
       "      <td>-3.872383</td>\n",
       "      <td>...</td>\n",
       "      <td>0.041787</td>\n",
       "      <td>-0.533764</td>\n",
       "      <td>-0.342175</td>\n",
       "      <td>-0.436809</td>\n",
       "      <td>-0.314348</td>\n",
       "      <td>-0.259416</td>\n",
       "      <td>-0.020025</td>\n",
       "      <td>-0.108868</td>\n",
       "      <td>1.000000</td>\n",
       "      <td>1.0</td>\n",
       "    </tr>\n",
       "    <tr>\n",
       "      <th>50%</th>\n",
       "      <td>75568.500000</td>\n",
       "      <td>-2.342497</td>\n",
       "      <td>2.717869</td>\n",
       "      <td>-5.075257</td>\n",
       "      <td>4.177147</td>\n",
       "      <td>-1.522962</td>\n",
       "      <td>-1.424616</td>\n",
       "      <td>-3.034402</td>\n",
       "      <td>0.621508</td>\n",
       "      <td>-2.208768</td>\n",
       "      <td>...</td>\n",
       "      <td>0.592146</td>\n",
       "      <td>0.048434</td>\n",
       "      <td>-0.073135</td>\n",
       "      <td>-0.060795</td>\n",
       "      <td>0.088371</td>\n",
       "      <td>0.004321</td>\n",
       "      <td>0.394926</td>\n",
       "      <td>0.146344</td>\n",
       "      <td>9.250000</td>\n",
       "      <td>1.0</td>\n",
       "    </tr>\n",
       "    <tr>\n",
       "      <th>75%</th>\n",
       "      <td>128483.000000</td>\n",
       "      <td>-0.419200</td>\n",
       "      <td>4.971257</td>\n",
       "      <td>-2.276185</td>\n",
       "      <td>6.348729</td>\n",
       "      <td>0.214562</td>\n",
       "      <td>-0.413216</td>\n",
       "      <td>-0.945954</td>\n",
       "      <td>1.764879</td>\n",
       "      <td>-0.787850</td>\n",
       "      <td>...</td>\n",
       "      <td>1.244611</td>\n",
       "      <td>0.617474</td>\n",
       "      <td>0.308378</td>\n",
       "      <td>0.285328</td>\n",
       "      <td>0.456515</td>\n",
       "      <td>0.396733</td>\n",
       "      <td>0.826029</td>\n",
       "      <td>0.381152</td>\n",
       "      <td>105.890000</td>\n",
       "      <td>1.0</td>\n",
       "    </tr>\n",
       "    <tr>\n",
       "      <th>max</th>\n",
       "      <td>170348.000000</td>\n",
       "      <td>2.132386</td>\n",
       "      <td>22.057729</td>\n",
       "      <td>2.250210</td>\n",
       "      <td>12.114672</td>\n",
       "      <td>11.095089</td>\n",
       "      <td>6.474115</td>\n",
       "      <td>5.802537</td>\n",
       "      <td>20.007208</td>\n",
       "      <td>3.353525</td>\n",
       "      <td>...</td>\n",
       "      <td>27.202839</td>\n",
       "      <td>8.361985</td>\n",
       "      <td>5.466230</td>\n",
       "      <td>1.091435</td>\n",
       "      <td>2.208209</td>\n",
       "      <td>2.745261</td>\n",
       "      <td>3.052358</td>\n",
       "      <td>1.779364</td>\n",
       "      <td>2125.870000</td>\n",
       "      <td>1.0</td>\n",
       "    </tr>\n",
       "  </tbody>\n",
       "</table>\n",
       "<p>8 rows × 31 columns</p>\n",
       "</div>"
      ],
      "text/plain": [
       "                Time          V1          V2          V3          V4  \\\n",
       "count     492.000000  492.000000  492.000000  492.000000  492.000000   \n",
       "mean    80746.806911   -4.771948    3.623778   -7.033281    4.542029   \n",
       "std     47835.365138    6.783687    4.291216    7.110937    2.873318   \n",
       "min       406.000000  -30.552380   -8.402154  -31.103685   -1.313275   \n",
       "25%     41241.500000   -6.036063    1.188226   -8.643489    2.373050   \n",
       "50%     75568.500000   -2.342497    2.717869   -5.075257    4.177147   \n",
       "75%    128483.000000   -0.419200    4.971257   -2.276185    6.348729   \n",
       "max    170348.000000    2.132386   22.057729    2.250210   12.114672   \n",
       "\n",
       "               V5          V6          V7          V8          V9  ...  \\\n",
       "count  492.000000  492.000000  492.000000  492.000000  492.000000  ...   \n",
       "mean    -3.151225   -1.397737   -5.568731    0.570636   -2.581123  ...   \n",
       "std      5.372468    1.858124    7.206773    6.797831    2.500896  ...   \n",
       "min    -22.105532   -6.406267  -43.557242  -41.044261  -13.434066  ...   \n",
       "25%     -4.792835   -2.501511   -7.965295   -0.195336   -3.872383  ...   \n",
       "50%     -1.522962   -1.424616   -3.034402    0.621508   -2.208768  ...   \n",
       "75%      0.214562   -0.413216   -0.945954    1.764879   -0.787850  ...   \n",
       "max     11.095089    6.474115    5.802537   20.007208    3.353525  ...   \n",
       "\n",
       "              V21         V22         V23         V24         V25         V26  \\\n",
       "count  492.000000  492.000000  492.000000  492.000000  492.000000  492.000000   \n",
       "mean     0.713588    0.014049   -0.040308   -0.105130    0.041449    0.051648   \n",
       "std      3.869304    1.494602    1.579642    0.515577    0.797205    0.471679   \n",
       "min    -22.797604   -8.887017  -19.254328   -2.028024   -4.781606   -1.152671   \n",
       "25%      0.041787   -0.533764   -0.342175   -0.436809   -0.314348   -0.259416   \n",
       "50%      0.592146    0.048434   -0.073135   -0.060795    0.088371    0.004321   \n",
       "75%      1.244611    0.617474    0.308378    0.285328    0.456515    0.396733   \n",
       "max     27.202839    8.361985    5.466230    1.091435    2.208209    2.745261   \n",
       "\n",
       "              V27         V28       Amount  Class  \n",
       "count  492.000000  492.000000   492.000000  492.0  \n",
       "mean     0.170575    0.075667   122.211321    1.0  \n",
       "std      1.376766    0.547291   256.683288    0.0  \n",
       "min     -7.263482   -1.869290     0.000000    1.0  \n",
       "25%     -0.020025   -0.108868     1.000000    1.0  \n",
       "50%      0.394926    0.146344     9.250000    1.0  \n",
       "75%      0.826029    0.381152   105.890000    1.0  \n",
       "max      3.052358    1.779364  2125.870000    1.0  \n",
       "\n",
       "[8 rows x 31 columns]"
      ]
     },
     "execution_count": 10,
     "metadata": {},
     "output_type": "execute_result"
    }
   ],
   "source": [
    "fraud_cases.describe()"
   ]
  },
  {
   "cell_type": "code",
   "execution_count": 11,
   "id": "2775a468",
   "metadata": {
    "execution": {
     "iopub.execute_input": "2022-01-20T18:33:52.994951Z",
     "iopub.status.busy": "2022-01-20T18:33:52.994235Z",
     "iopub.status.idle": "2022-01-20T18:33:53.115256Z",
     "shell.execute_reply": "2022-01-20T18:33:53.116267Z",
     "shell.execute_reply.started": "2022-01-20T09:29:26.183178Z"
    },
    "papermill": {
     "duration": 0.154101,
     "end_time": "2022-01-20T18:33:53.116619",
     "exception": false,
     "start_time": "2022-01-20T18:33:52.962518",
     "status": "completed"
    },
    "tags": []
   },
   "outputs": [
    {
     "name": "stdout",
     "output_type": "stream",
     "text": [
      "0    0.244964\n",
      "1   -0.342475\n",
      "2    1.160686\n",
      "3    0.140534\n",
      "4   -0.073403\n",
      "5   -0.338556\n",
      "6   -0.333279\n",
      "7   -0.190107\n",
      "8    0.019392\n",
      "9   -0.338516\n",
      "Name: Amount, dtype: float64\n"
     ]
    }
   ],
   "source": [
    "# as we can see that exceopt amount column all the other features variables are in standard formate so to bring all the features in the same sacle \n",
    "# for the ease of calculation we are converting the amount column into standard formate using standard scaler function\n",
    "from sklearn.preprocessing import StandardScaler\n",
    "scaler=StandardScaler()\n",
    "\n",
    "amount = df['Amount'].values\n",
    "\n",
    "df['Amount'] = scaler.fit_transform(amount.reshape(-1, 1))\n",
    "\n",
    "print(df['Amount'].head(10))"
   ]
  },
  {
   "cell_type": "code",
   "execution_count": 12,
   "id": "05bc9a26",
   "metadata": {
    "execution": {
     "iopub.execute_input": "2022-01-20T18:33:53.174283Z",
     "iopub.status.busy": "2022-01-20T18:33:53.173606Z",
     "iopub.status.idle": "2022-01-20T18:33:53.207548Z",
     "shell.execute_reply": "2022-01-20T18:33:53.208419Z",
     "shell.execute_reply.started": "2022-01-20T09:30:03.816003Z"
    },
    "papermill": {
     "duration": 0.064252,
     "end_time": "2022-01-20T18:33:53.208669",
     "exception": false,
     "start_time": "2022-01-20T18:33:53.144417",
     "status": "completed"
    },
    "tags": []
   },
   "outputs": [],
   "source": [
    "# we are assigning values to variable x and y \n",
    "X = df.drop('Class', axis = 1).values\n",
    "y = df['Class'].values"
   ]
  },
  {
   "cell_type": "code",
   "execution_count": 13,
   "id": "99a641c6",
   "metadata": {
    "execution": {
     "iopub.execute_input": "2022-01-20T18:33:53.265809Z",
     "iopub.status.busy": "2022-01-20T18:33:53.265138Z",
     "iopub.status.idle": "2022-01-20T18:33:54.273720Z",
     "shell.execute_reply": "2022-01-20T18:33:54.274532Z",
     "shell.execute_reply.started": "2022-01-20T09:30:33.386399Z"
    },
    "papermill": {
     "duration": 1.038517,
     "end_time": "2022-01-20T18:33:54.274770",
     "exception": false,
     "start_time": "2022-01-20T18:33:53.236253",
     "status": "completed"
    },
    "tags": []
   },
   "outputs": [
    {
     "name": "stdout",
     "output_type": "stream",
     "text": [
      "Original dataset shape Counter({0: 284315, 1: 492})\n",
      "Resample dataset shape Counter({0: 284315, 1: 284315})\n"
     ]
    }
   ],
   "source": [
    "from imblearn.over_sampling import SMOTE\n",
    "from collections import Counter\n",
    "\n",
    "smote = SMOTE()\n",
    "# fit predictor and target variable\n",
    "x_smote, y_smote = smote.fit_resample(X, y)\n",
    "\n",
    "\n",
    "print('Original dataset shape', Counter(y))\n",
    "print('Resample dataset shape', Counter(y_smote))"
   ]
  },
  {
   "cell_type": "markdown",
   "id": "548696df",
   "metadata": {
    "papermill": {
     "duration": 0.026656,
     "end_time": "2022-01-20T18:33:54.328796",
     "exception": false,
     "start_time": "2022-01-20T18:33:54.302140",
     "status": "completed"
    },
    "tags": []
   },
   "source": [
    "In the above step we are dealing with class imbalance using oversampling with SMOTE to bring balance in the majority and minority class"
   ]
  },
  {
   "cell_type": "markdown",
   "id": "f222e367",
   "metadata": {
    "papermill": {
     "duration": 0.026621,
     "end_time": "2022-01-20T18:33:54.382548",
     "exception": false,
     "start_time": "2022-01-20T18:33:54.355927",
     "status": "completed"
    },
    "tags": []
   },
   "source": [
    "# test train split and model building"
   ]
  },
  {
   "cell_type": "code",
   "execution_count": 14,
   "id": "f3d8f35a",
   "metadata": {
    "execution": {
     "iopub.execute_input": "2022-01-20T18:33:54.442083Z",
     "iopub.status.busy": "2022-01-20T18:33:54.441361Z",
     "iopub.status.idle": "2022-01-20T18:33:54.525766Z",
     "shell.execute_reply": "2022-01-20T18:33:54.525202Z",
     "shell.execute_reply.started": "2022-01-20T09:30:57.179306Z"
    },
    "papermill": {
     "duration": 0.116314,
     "end_time": "2022-01-20T18:33:54.525916",
     "exception": false,
     "start_time": "2022-01-20T18:33:54.409602",
     "status": "completed"
    },
    "tags": []
   },
   "outputs": [],
   "source": [
    "from xgboost import XGBClassifier\n",
    "from sklearn.model_selection import train_test_split\n",
    "import sklearn.metrics as metrics\n",
    "\n",
    "from sklearn.metrics import accuracy_score,roc_auc_score,precision_score, recall_score,f1_score,classification_report"
   ]
  },
  {
   "cell_type": "code",
   "execution_count": 15,
   "id": "89ac29bc",
   "metadata": {
    "execution": {
     "iopub.execute_input": "2022-01-20T18:33:54.583224Z",
     "iopub.status.busy": "2022-01-20T18:33:54.582610Z",
     "iopub.status.idle": "2022-01-20T18:33:54.690794Z",
     "shell.execute_reply": "2022-01-20T18:33:54.689942Z",
     "shell.execute_reply.started": "2022-01-20T09:31:27.925276Z"
    },
    "papermill": {
     "duration": 0.137854,
     "end_time": "2022-01-20T18:33:54.691123",
     "exception": false,
     "start_time": "2022-01-20T18:33:54.553269",
     "status": "completed"
    },
    "tags": []
   },
   "outputs": [],
   "source": [
    "\n",
    "X_train, X_test, y_train, y_test = train_test_split(x_smote, y_smote ,test_size=.33, random_state=7)"
   ]
  },
  {
   "cell_type": "code",
   "execution_count": 16,
   "id": "de0e2fc5",
   "metadata": {
    "execution": {
     "iopub.execute_input": "2022-01-20T18:33:54.758953Z",
     "iopub.status.busy": "2022-01-20T18:33:54.758213Z",
     "iopub.status.idle": "2022-01-20T18:36:06.085462Z",
     "shell.execute_reply": "2022-01-20T18:36:06.085996Z",
     "shell.execute_reply.started": "2022-01-20T09:31:38.960560Z"
    },
    "papermill": {
     "duration": 131.361059,
     "end_time": "2022-01-20T18:36:06.086184",
     "exception": false,
     "start_time": "2022-01-20T18:33:54.725125",
     "status": "completed"
    },
    "tags": []
   },
   "outputs": [
    {
     "name": "stderr",
     "output_type": "stream",
     "text": [
      "/opt/conda/lib/python3.7/site-packages/xgboost/sklearn.py:1224: UserWarning: The use of label encoder in XGBClassifier is deprecated and will be removed in a future release. To remove this warning, do the following: 1) Pass option use_label_encoder=False when constructing XGBClassifier object; and 2) Encode your labels (y) as integers starting with 0, i.e. 0, 1, 2, ..., [num_class - 1].\n",
      "  warnings.warn(label_encoder_deprecation_msg, UserWarning)\n"
     ]
    },
    {
     "name": "stdout",
     "output_type": "stream",
     "text": [
      "[18:33:57] WARNING: ../src/learner.cc:1115: Starting in XGBoost 1.3.0, the default evaluation metric used with the objective 'binary:logistic' was changed from 'error' to 'logloss'. Explicitly set eval_metric if you'd like to restore the old behavior.\n"
     ]
    },
    {
     "data": {
      "text/plain": [
       "XGBClassifier(base_score=0.5, booster='gbtree', colsample_bylevel=1,\n",
       "              colsample_bynode=1, colsample_bytree=1, enable_categorical=False,\n",
       "              gamma=0, gpu_id=-1, importance_type=None,\n",
       "              interaction_constraints='', learning_rate=0.300000012,\n",
       "              max_delta_step=0, max_depth=6, min_child_weight=1, missing=nan,\n",
       "              monotone_constraints='()', n_estimators=100, n_jobs=4,\n",
       "              num_parallel_tree=1, predictor='auto', random_state=0,\n",
       "              reg_alpha=0, reg_lambda=1, scale_pos_weight=1, subsample=1,\n",
       "              tree_method='exact', validate_parameters=1, verbosity=None)"
      ]
     },
     "execution_count": 16,
     "metadata": {},
     "output_type": "execute_result"
    }
   ],
   "source": [
    "# fit model no training data\n",
    "model = XGBClassifier()\n",
    "model.fit(X_train, y_train)"
   ]
  },
  {
   "cell_type": "code",
   "execution_count": 17,
   "id": "cd13634d",
   "metadata": {
    "execution": {
     "iopub.execute_input": "2022-01-20T18:36:06.148061Z",
     "iopub.status.busy": "2022-01-20T18:36:06.147398Z",
     "iopub.status.idle": "2022-01-20T18:36:06.620273Z",
     "shell.execute_reply": "2022-01-20T18:36:06.619617Z",
     "shell.execute_reply.started": "2022-01-20T09:34:53.483197Z"
    },
    "papermill": {
     "duration": 0.506256,
     "end_time": "2022-01-20T18:36:06.620415",
     "exception": false,
     "start_time": "2022-01-20T18:36:06.114159",
     "status": "completed"
    },
    "tags": []
   },
   "outputs": [],
   "source": [
    "# make predictions for test data\n",
    "y_pred = model.predict(X_test)\n",
    "predictions = [round(value) for value in y_pred]"
   ]
  },
  {
   "cell_type": "code",
   "execution_count": 18,
   "id": "ed48e5af",
   "metadata": {
    "execution": {
     "iopub.execute_input": "2022-01-20T18:36:06.681997Z",
     "iopub.status.busy": "2022-01-20T18:36:06.681322Z",
     "iopub.status.idle": "2022-01-20T18:36:06.823274Z",
     "shell.execute_reply": "2022-01-20T18:36:06.822717Z",
     "shell.execute_reply.started": "2022-01-20T09:43:37.815091Z"
    },
    "papermill": {
     "duration": 0.174746,
     "end_time": "2022-01-20T18:36:06.823420",
     "exception": false,
     "start_time": "2022-01-20T18:36:06.648674",
     "status": "completed"
    },
    "tags": []
   },
   "outputs": [
    {
     "name": "stdout",
     "output_type": "stream",
     "text": [
      "Accuracy: 99.98%\n"
     ]
    }
   ],
   "source": [
    "accuracy = accuracy_score(y_test, predictions)\n",
    "print(\"Accuracy: %.2f%%\" % (accuracy * 100.0))"
   ]
  },
  {
   "cell_type": "code",
   "execution_count": 19,
   "id": "138514c5",
   "metadata": {
    "execution": {
     "iopub.execute_input": "2022-01-20T18:36:06.885767Z",
     "iopub.status.busy": "2022-01-20T18:36:06.884806Z",
     "iopub.status.idle": "2022-01-20T18:36:07.203111Z",
     "shell.execute_reply": "2022-01-20T18:36:07.202546Z",
     "shell.execute_reply.started": "2022-01-20T09:43:56.097196Z"
    },
    "papermill": {
     "duration": 0.351388,
     "end_time": "2022-01-20T18:36:07.203275",
     "exception": false,
     "start_time": "2022-01-20T18:36:06.851887",
     "status": "completed"
    },
    "tags": []
   },
   "outputs": [
    {
     "name": "stdout",
     "output_type": "stream",
     "text": [
      "Precision : 99.97%\n"
     ]
    }
   ],
   "source": [
    "precision = precision_score(y_test, predictions)\n",
    "print(\"Precision : %.2f%%\" % (precision * 100.0))"
   ]
  },
  {
   "cell_type": "code",
   "execution_count": 20,
   "id": "2f833542",
   "metadata": {
    "execution": {
     "iopub.execute_input": "2022-01-20T18:36:07.273271Z",
     "iopub.status.busy": "2022-01-20T18:36:07.272561Z",
     "iopub.status.idle": "2022-01-20T18:36:07.574121Z",
     "shell.execute_reply": "2022-01-20T18:36:07.573473Z",
     "shell.execute_reply.started": "2022-01-20T09:45:00.713789Z"
    },
    "papermill": {
     "duration": 0.340765,
     "end_time": "2022-01-20T18:36:07.574263",
     "exception": false,
     "start_time": "2022-01-20T18:36:07.233498",
     "status": "completed"
    },
    "tags": []
   },
   "outputs": [
    {
     "data": {
      "image/png": "[encoded data removed]",
      "text/plain": [
       "<Figure size 360x360 with 2 Axes>"
      ]
     },
     "metadata": {
      "needs_background": "light"
     },
     "output_type": "display_data"
    }
   ],
   "source": [
    "c_matrix = pd.crosstab(y_test, y_pred, rownames=['Actual'], colnames=['Predicted'])\n",
    "fig, (ax1) = plt.subplots(ncols=1, figsize=(5,5))\n",
    "\n",
    "sns.heatmap(pd.DataFrame(c_matrix), annot=True, cmap=\"Blues\" ,fmt='g',\n",
    "            xticklabels=['Not Fraud', 'Fraud'],\n",
    "            yticklabels=['Not Fraud', 'Fraud'],)\n",
    "ax1.xaxis.set_label_position(\"top\")\n",
    "plt.tight_layout()\n",
    "plt.title('Confusion Matrix', y=1.1,fontsize=14)\n",
    "plt.show()"
   ]
  },
  {
   "cell_type": "markdown",
   "id": "1369f7e5",
   "metadata": {
    "papermill": {
     "duration": 0.028967,
     "end_time": "2022-01-20T18:36:07.632747",
     "exception": false,
     "start_time": "2022-01-20T18:36:07.603780",
     "status": "completed"
    },
    "tags": []
   },
   "source": [
    "here we are getting pretty much good accuracy of 99.99% along with good precision percentage of 99.97% \n",
    "the model is able to correctly predicting data as not fraud as not fraud 93731 time and not fraud as fraud 27 times\n",
    "futhermore, model is correcttly predicting fraud as fraud 93890 times and wrongly predict fraud as not fraud 0 time that means we can say we are almost 100% accurate in predicting fraud as fraud "
   ]
  },
  {
   "cell_type": "code",
   "execution_count": 21,
   "id": "f9e50378",
   "metadata": {
    "execution": {
     "iopub.execute_input": "2022-01-20T18:36:07.698253Z",
     "iopub.status.busy": "2022-01-20T18:36:07.697364Z",
     "iopub.status.idle": "2022-01-20T18:36:07.849245Z",
     "shell.execute_reply": "2022-01-20T18:36:07.848615Z",
     "shell.execute_reply.started": "2022-01-20T09:45:33.392903Z"
    },
    "papermill": {
     "duration": 0.187339,
     "end_time": "2022-01-20T18:36:07.849388",
     "exception": false,
     "start_time": "2022-01-20T18:36:07.662049",
     "status": "completed"
    },
    "tags": []
   },
   "outputs": [
    {
     "name": "stdout",
     "output_type": "stream",
     "text": [
      "Recall :  1.0\n",
      "F1 Score :  0.9998401260745673\n"
     ]
    }
   ],
   "source": [
    "recall = recall_score(y_test, y_pred)\n",
    "print(\"Recall : \",recall )\n",
    "\n",
    "\n",
    "#F1 SCORE\n",
    "\n",
    "f1score = f1_score(y_test,y_pred, average='macro')\n",
    "print(\"F1 Score : \",f1score )"
   ]
  }
 ],
 "metadata": {
  "kernelspec": {
   "display_name": "Python 3",
   "language": "python",
   "name": "python3"
  },
  "language_info": {
   "codemirror_mode": {
    "name": "ipython",
    "version": 3
   },
   "file_extension": ".py",
   "mimetype": "text/x-python",
   "name": "python",
   "nbconvert_exporter": "python",
   "pygments_lexer": "ipython3",
   "version": "3.7.12"
  },
  "papermill": {
   "default_parameters": {},
   "duration": 152.743405,
   "end_time": "2022-01-20T18:36:08.690309",
   "environment_variables": {},
   "exception": null,
   "input_path": "__notebook__.ipynb",
   "output_path": "__notebook__.ipynb",
   "parameters": {},
   "start_time": "2022-01-20T18:33:35.946904",
   "version": "2.3.3"
  }
 },
 "nbformat": 4,
 "nbformat_minor": 5
}
